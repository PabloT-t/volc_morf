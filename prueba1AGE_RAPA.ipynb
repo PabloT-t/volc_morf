{
 "cells": [
  {
   "cell_type": "code",
   "execution_count": 2,
   "metadata": {},
   "outputs": [],
   "source": [
    "###aplicacion de modelos de Kereszturi et al. 2025 (PLSR y SVR) a datos de morfometria de centros eruptivos menores (CEMs) de rapanui; \n",
    "###se usaron solo las variables mas completas obtenidas de los CEMs de rapnui, dado que son pocos el codigo lanza errores en algunas secciones, pero  \n",
    "###es por los parametros de ejes para plotear que son por que el codigo original es aplicado a una gran variedad de variables no asi en el de rapanui.\n",
    "###el modelo es entrenado con los datos originales de Kereszturi y despues del bloque de entrenamiento viene la aplicacion del modelo para predecir \n",
    "###edades;;;; dado el tiempo solo se hizo uso del modelo y no se calcularon otras variables como por ejemplo las VIPs u otros parametros del trabajo original;\n",
    "###este codigo es propiedad intelectual de kereszturi et al. 2025 y solo fue usado con fines academicos para evaluar su uso en rapanui. \n",
    "\n",
    "# This code pre-process morphometric, climatic and satellite data and fits three multivariate models to \n",
    "# predict eruption ages of scoria cones.\n",
    "# This code was used in Kereszturi et al. 2025 - Understanding the evolution of scoria cone morphology using multivariate models\n",
    "# Corresponding authors: Gabor Kereszturi (email: g.kereszturi@massey.ac.nz)\n",
    "#########################################################################################################\n",
    "#########################################################################################################\n",
    "#########################################################################################################\n",
    "\n",
    "\n",
    "### Import libraries and data from Excel\n",
    "import os\n",
    "import numpy as np\n",
    "import pandas as pd\n",
    "from pathlib import Path\n",
    "  \n",
    "\n",
    "import plotly.express as px\n",
    "import plotly.graph_objects as go\n",
    "import plotly.io as pio\n",
    "import matplotlib.pyplot as plt\n",
    "import plotly.io as pio\n",
    "pio.kaleido.scope\n",
    "\n",
    "\n",
    "path = r'C:\\Users\\56931\\Downloads' # Input folder with the database\n",
    "os.chdir(path)\n",
    "\n",
    "inputFile = 'Cinder_DATA_cones.xlsx' # Input excel with the data\n",
    "inputSheet = 'variables'\n",
    "inputName = Path(str(inputFile)).stem\n",
    "\n",
    "random_state = 1\n",
    "\n",
    "### Target variable\n",
    "target_parameter = 'Age'\n",
    "units = 'ky'\n",
    "\n",
    "### Predictor variables\n",
    "M = ['BaseHco', 'BaseWco', 'BaseVol', 'FlSlopeMean', 'HcoWcoMean']\n",
    "MS = ['BaseHco', 'BaseWco', 'BaseRound', 'BaseCirc', 'BaseAspRat',  'BaseSolid', 'CrWcr', 'CrDepthMax', 'CrRound', 'CrCirc', 'CrAspRat',  'CrSolid', 'BaseVol', 'HcoWcoPre', 'HcoWcoMean', 'WcoWcr', 'CrFillVolMax', 'CrVol', 'FlSlopeMax', 'FlSlopeMean', 'FlSlopeStdDev', 'FlSlopeMed', 'FlIrrMax', 'FlIrrMean', 'FlIrrStdDev', 'FlIrrMed', 'CrSlopeMax', 'CrSlopeMean', 'CrSlopeStdDev', 'CrSlopeMed', 'CrIrrMax', 'CrIrrMean', 'CrIrrStdDev', 'CrIrrMed', 'S2B1', 'S2B2', 'S2B3', 'S2B4', 'S2B5', 'S2B6', 'S2B7', 'S2B8', 'S2B9', 'S2B11', 'S2B12']\n",
    "MSC = ['BaseHco', 'BaseWco', 'BaseRound', 'BaseCirc', 'BaseAspRat',  'BaseSolid', 'CrWcr', 'CrDepthMax', 'CrRound', 'CrCirc', 'CrAspRat',  'CrSolid', 'BaseVol', 'HcoWcoPre', 'HcoWcoMean', 'WcoWcr', 'CrFillVolMax', 'CrVol', 'FlSlopeMax', 'FlSlopeMean', 'FlSlopeStdDev', 'FlSlopeMed', 'FlIrrMax', 'FlIrrMean', 'FlIrrStdDev', 'FlIrrMed', 'CrSlopeMax', 'CrSlopeMean', 'CrSlopeStdDev', 'CrSlopeMed', 'CrIrrMax', 'CrIrrMean', 'CrIrrStdDev', 'CrIrrMed', 'S2B1', 'S2B2', 'S2B3', 'S2B4', 'S2B5', 'S2B6', 'S2B7', 'S2B8', 'S2B9', 'S2B11', 'S2B12', 'ClimBio1', 'ClimBio2', 'ClimBio3', 'ClimBio4', 'ClimBio5', 'ClimBio6', 'ClimBio7', 'ClimBio8', 'ClimBio9', 'ClimBio10', 'ClimBio11', 'ClimBio12', 'ClimBio13', 'ClimBio14', 'ClimBio15', 'ClimBio16', 'ClimBio17', 'ClimBio18', 'ClimBio19', 'GloREDa']\n",
    "predictor_parameter = M #M , MS, MSC\n",
    "predictor_parameter_text = 'M' #M , MS, MSC\n",
    "\n",
    "### Ancillary information\n",
    "general_parameter= ['GIS_ID', 'ConeName', 'Idsample', 'VolcanicField', 'Country', 'Group', 'Latitude', 'Longitude',\n",
    "                    'SiO2', 'TiO2', 'Al2O3', 'Fe2O3', 'MnO', 'MgO', 'CaO', 'Na2O', 'K2O', 'P2O5',\n",
    "                    'Age', 'AgeError', 'AgeErrorBarReported', 'AgeErrorBarAssumed', 'AgeErrorReCalc1STD', 'AgeErrorReCalc2STD', 'AgeErrorPerc',\n",
    "                    'AgeUpper', 'AgeLower', 'AgeMethod', 'AgeDatedMaterial', 'AgeReference', 'AgePublication',\n",
    "                    'DEMType', 'DEMResolution', 'ErHistPhreato', 'ErHistLava', 'MorphString', 'MorphSimple', 'MorphBreached',\n",
    "                    'MorphComplex', 'MorphAll', 'GeneralComments', 'PlateName', 'PlateBonduary', 'PlateVelocityDivergence',\n",
    "                    'PlateSeaFloorAge', 'PlateType', 'PlateDistance', 'PlateAbsoluteVelocity', 'CrustPwave', 'CrustMohoDepth']\n",
    "\n",
    "### Unprocessed scoria cone database\n",
    "df_unprocessed = pd.read_excel(inputFile, sheet_name=inputSheet, header=0).set_index('ID')\n",
    "df_unprocessed.insert(loc=0, column='GIS_ID', value=df_unprocessed.index.values)\n",
    "df_unprocessed = df_unprocessed[df_unprocessed['MorphAll'] == 1]"
   ]
  },
  {
   "cell_type": "code",
   "execution_count": 3,
   "metadata": {},
   "outputs": [
    {
     "name": "stdout",
     "output_type": "stream",
     "text": [
      "Total number of predictor variables: 5\n",
      "------\n",
      "Total number of cones: 262\n",
      "Total number of training: 161\n",
      "Total number of validation: 40\n",
      "Total number of excluded cones: 60\n"
     ]
    }
   ],
   "source": [
    "### Log-transformation and scaling on predictor variables\n",
    "from sklearn.preprocessing import FunctionTransformer\n",
    "from sklearn.preprocessing import StandardScaler\n",
    "\n",
    "scaler = StandardScaler(with_mean=True, with_std=True)\n",
    "\n",
    "transformer = FunctionTransformer(np.log)\n",
    "InvTransformer = FunctionTransformer(np.exp)\n",
    "\n",
    "X = pd.DataFrame(transformer.transform(df_unprocessed.loc[:,predictor_parameter]), \n",
    "                 columns=df_unprocessed.loc[:,predictor_parameter].columns, index=df_unprocessed.index)\n",
    "\n",
    "X_scaled = pd.DataFrame(scaler.fit_transform(X), columns=X.columns, index=X.index)\n",
    "\n",
    "df_scaled = df_unprocessed.loc[:,general_parameter].merge(X_scaled, on='ID', sort=False)\n",
    "print(r'Total number of predictor variables: {}'.format(len(predictor_parameter)))\n",
    "print('------')\n",
    "\n",
    "### Filtering and splitting into training/validation and independent hold-out validation datasets\n",
    "import random\n",
    "\n",
    "### Exclude cones with less accurate absolute age\n",
    "exclude = 25 #percentage\n",
    "\n",
    "df_scaled_filtered = df_scaled[(df_scaled['AgeErrorPerc'] < exclude)]\n",
    "df_scaled_excluded = df_scaled[(df_scaled['AgeErrorPerc'] > exclude)]    \n",
    "\n",
    "### Splitting data to training and validation populations \n",
    "frac_split = 0.8\n",
    "\n",
    "df_scaled_train = df_scaled_filtered.sample(frac=frac_split, random_state=random_state)\n",
    "df_scaled_val = df_scaled_filtered.drop(index=df_scaled_train.index)\n",
    "\n",
    "print(r'Total number of cones: {}'.format(len(df_unprocessed)))\n",
    "print(r'Total number of training: {}'.format(len(df_scaled_train)))\n",
    "print(r'Total number of validation: {}'.format(len(df_scaled_val)))\n",
    "print(r'Total number of excluded cones: {}'.format(len(df_scaled_excluded)))"
   ]
  },
  {
   "cell_type": "code",
   "execution_count": 4,
   "metadata": {},
   "outputs": [
    {
     "data": {
      "application/vnd.plotly.v1+json": {
       "config": {
        "plotlyServerURL": "https://plot.ly"
       },
       "data": [
        {
         "hovertemplate": "x=%{x}<br>y=%{y}<extra></extra>",
         "legendgroup": "",
         "line": {
          "color": "#1F77B4",
          "dash": "solid"
         },
         "marker": {
          "symbol": "circle"
         },
         "mode": "lines",
         "name": "",
         "orientation": "v",
         "showlegend": false,
         "type": "scatter",
         "x": {
          "bdata": "AQAAAAIAAAADAAAA",
          "dtype": "i4"
         },
         "xaxis": "x",
         "y": {
          "bdata": "X5nv21Ow1D9TLoosKk3WP1FTK+u4Qtg/",
          "dtype": "f8"
         },
         "yaxis": "y"
        }
       ],
       "layout": {
        "coloraxis": {
         "colorbar": {
          "len": 150,
          "lenmode": "pixels",
          "thickness": 50,
          "thicknessmode": "pixels",
          "x": 0.8,
          "y": 0.2,
          "yanchor": "middle"
         }
        },
        "font": {
         "family": "DejaVu Sans",
         "size": 20
        },
        "legend": {
         "itemsizing": "constant",
         "tracegroupgap": 0,
         "x": 0.8,
         "y": 0.2,
         "yanchor": "middle"
        },
        "margin": {
         "t": 60
        },
        "template": {
         "data": {
          "bar": [
           {
            "error_x": {
             "color": "rgb(36,36,36)"
            },
            "error_y": {
             "color": "rgb(36,36,36)"
            },
            "marker": {
             "line": {
              "color": "white",
              "width": 0.5
             },
             "pattern": {
              "fillmode": "overlay",
              "size": 10,
              "solidity": 0.2
             }
            },
            "type": "bar"
           }
          ],
          "barpolar": [
           {
            "marker": {
             "line": {
              "color": "white",
              "width": 0.5
             },
             "pattern": {
              "fillmode": "overlay",
              "size": 10,
              "solidity": 0.2
             }
            },
            "type": "barpolar"
           }
          ],
          "carpet": [
           {
            "aaxis": {
             "endlinecolor": "rgb(36,36,36)",
             "gridcolor": "white",
             "linecolor": "white",
             "minorgridcolor": "white",
             "startlinecolor": "rgb(36,36,36)"
            },
            "baxis": {
             "endlinecolor": "rgb(36,36,36)",
             "gridcolor": "white",
             "linecolor": "white",
             "minorgridcolor": "white",
             "startlinecolor": "rgb(36,36,36)"
            },
            "type": "carpet"
           }
          ],
          "choropleth": [
           {
            "colorbar": {
             "outlinewidth": 1,
             "tickcolor": "rgb(36,36,36)",
             "ticks": "outside"
            },
            "type": "choropleth"
           }
          ],
          "contour": [
           {
            "colorbar": {
             "outlinewidth": 1,
             "tickcolor": "rgb(36,36,36)",
             "ticks": "outside"
            },
            "colorscale": [
             [
              0,
              "#440154"
             ],
             [
              0.1111111111111111,
              "#482878"
             ],
             [
              0.2222222222222222,
              "#3e4989"
             ],
             [
              0.3333333333333333,
              "#31688e"
             ],
             [
              0.4444444444444444,
              "#26828e"
             ],
             [
              0.5555555555555556,
              "#1f9e89"
             ],
             [
              0.6666666666666666,
              "#35b779"
             ],
             [
              0.7777777777777778,
              "#6ece58"
             ],
             [
              0.8888888888888888,
              "#b5de2b"
             ],
             [
              1,
              "#fde725"
             ]
            ],
            "type": "contour"
           }
          ],
          "contourcarpet": [
           {
            "colorbar": {
             "outlinewidth": 1,
             "tickcolor": "rgb(36,36,36)",
             "ticks": "outside"
            },
            "type": "contourcarpet"
           }
          ],
          "heatmap": [
           {
            "colorbar": {
             "outlinewidth": 1,
             "tickcolor": "rgb(36,36,36)",
             "ticks": "outside"
            },
            "colorscale": [
             [
              0,
              "#440154"
             ],
             [
              0.1111111111111111,
              "#482878"
             ],
             [
              0.2222222222222222,
              "#3e4989"
             ],
             [
              0.3333333333333333,
              "#31688e"
             ],
             [
              0.4444444444444444,
              "#26828e"
             ],
             [
              0.5555555555555556,
              "#1f9e89"
             ],
             [
              0.6666666666666666,
              "#35b779"
             ],
             [
              0.7777777777777778,
              "#6ece58"
             ],
             [
              0.8888888888888888,
              "#b5de2b"
             ],
             [
              1,
              "#fde725"
             ]
            ],
            "type": "heatmap"
           }
          ],
          "histogram": [
           {
            "marker": {
             "line": {
              "color": "white",
              "width": 0.6
             }
            },
            "type": "histogram"
           }
          ],
          "histogram2d": [
           {
            "colorbar": {
             "outlinewidth": 1,
             "tickcolor": "rgb(36,36,36)",
             "ticks": "outside"
            },
            "colorscale": [
             [
              0,
              "#440154"
             ],
             [
              0.1111111111111111,
              "#482878"
             ],
             [
              0.2222222222222222,
              "#3e4989"
             ],
             [
              0.3333333333333333,
              "#31688e"
             ],
             [
              0.4444444444444444,
              "#26828e"
             ],
             [
              0.5555555555555556,
              "#1f9e89"
             ],
             [
              0.6666666666666666,
              "#35b779"
             ],
             [
              0.7777777777777778,
              "#6ece58"
             ],
             [
              0.8888888888888888,
              "#b5de2b"
             ],
             [
              1,
              "#fde725"
             ]
            ],
            "type": "histogram2d"
           }
          ],
          "histogram2dcontour": [
           {
            "colorbar": {
             "outlinewidth": 1,
             "tickcolor": "rgb(36,36,36)",
             "ticks": "outside"
            },
            "colorscale": [
             [
              0,
              "#440154"
             ],
             [
              0.1111111111111111,
              "#482878"
             ],
             [
              0.2222222222222222,
              "#3e4989"
             ],
             [
              0.3333333333333333,
              "#31688e"
             ],
             [
              0.4444444444444444,
              "#26828e"
             ],
             [
              0.5555555555555556,
              "#1f9e89"
             ],
             [
              0.6666666666666666,
              "#35b779"
             ],
             [
              0.7777777777777778,
              "#6ece58"
             ],
             [
              0.8888888888888888,
              "#b5de2b"
             ],
             [
              1,
              "#fde725"
             ]
            ],
            "type": "histogram2dcontour"
           }
          ],
          "mesh3d": [
           {
            "colorbar": {
             "outlinewidth": 1,
             "tickcolor": "rgb(36,36,36)",
             "ticks": "outside"
            },
            "type": "mesh3d"
           }
          ],
          "parcoords": [
           {
            "line": {
             "colorbar": {
              "outlinewidth": 1,
              "tickcolor": "rgb(36,36,36)",
              "ticks": "outside"
             }
            },
            "type": "parcoords"
           }
          ],
          "pie": [
           {
            "automargin": true,
            "type": "pie"
           }
          ],
          "scatter": [
           {
            "fillpattern": {
             "fillmode": "overlay",
             "size": 10,
             "solidity": 0.2
            },
            "type": "scatter"
           }
          ],
          "scatter3d": [
           {
            "line": {
             "colorbar": {
              "outlinewidth": 1,
              "tickcolor": "rgb(36,36,36)",
              "ticks": "outside"
             }
            },
            "marker": {
             "colorbar": {
              "outlinewidth": 1,
              "tickcolor": "rgb(36,36,36)",
              "ticks": "outside"
             }
            },
            "type": "scatter3d"
           }
          ],
          "scattercarpet": [
           {
            "marker": {
             "colorbar": {
              "outlinewidth": 1,
              "tickcolor": "rgb(36,36,36)",
              "ticks": "outside"
             }
            },
            "type": "scattercarpet"
           }
          ],
          "scattergeo": [
           {
            "marker": {
             "colorbar": {
              "outlinewidth": 1,
              "tickcolor": "rgb(36,36,36)",
              "ticks": "outside"
             }
            },
            "type": "scattergeo"
           }
          ],
          "scattergl": [
           {
            "marker": {
             "colorbar": {
              "outlinewidth": 1,
              "tickcolor": "rgb(36,36,36)",
              "ticks": "outside"
             }
            },
            "type": "scattergl"
           }
          ],
          "scattermap": [
           {
            "marker": {
             "colorbar": {
              "outlinewidth": 1,
              "tickcolor": "rgb(36,36,36)",
              "ticks": "outside"
             }
            },
            "type": "scattermap"
           }
          ],
          "scattermapbox": [
           {
            "marker": {
             "colorbar": {
              "outlinewidth": 1,
              "tickcolor": "rgb(36,36,36)",
              "ticks": "outside"
             }
            },
            "type": "scattermapbox"
           }
          ],
          "scatterpolar": [
           {
            "marker": {
             "colorbar": {
              "outlinewidth": 1,
              "tickcolor": "rgb(36,36,36)",
              "ticks": "outside"
             }
            },
            "type": "scatterpolar"
           }
          ],
          "scatterpolargl": [
           {
            "marker": {
             "colorbar": {
              "outlinewidth": 1,
              "tickcolor": "rgb(36,36,36)",
              "ticks": "outside"
             }
            },
            "type": "scatterpolargl"
           }
          ],
          "scatterternary": [
           {
            "marker": {
             "colorbar": {
              "outlinewidth": 1,
              "tickcolor": "rgb(36,36,36)",
              "ticks": "outside"
             }
            },
            "type": "scatterternary"
           }
          ],
          "surface": [
           {
            "colorbar": {
             "outlinewidth": 1,
             "tickcolor": "rgb(36,36,36)",
             "ticks": "outside"
            },
            "colorscale": [
             [
              0,
              "#440154"
             ],
             [
              0.1111111111111111,
              "#482878"
             ],
             [
              0.2222222222222222,
              "#3e4989"
             ],
             [
              0.3333333333333333,
              "#31688e"
             ],
             [
              0.4444444444444444,
              "#26828e"
             ],
             [
              0.5555555555555556,
              "#1f9e89"
             ],
             [
              0.6666666666666666,
              "#35b779"
             ],
             [
              0.7777777777777778,
              "#6ece58"
             ],
             [
              0.8888888888888888,
              "#b5de2b"
             ],
             [
              1,
              "#fde725"
             ]
            ],
            "type": "surface"
           }
          ],
          "table": [
           {
            "cells": {
             "fill": {
              "color": "rgb(237,237,237)"
             },
             "line": {
              "color": "white"
             }
            },
            "header": {
             "fill": {
              "color": "rgb(217,217,217)"
             },
             "line": {
              "color": "white"
             }
            },
            "type": "table"
           }
          ]
         },
         "layout": {
          "annotationdefaults": {
           "arrowhead": 0,
           "arrowwidth": 1
          },
          "autotypenumbers": "strict",
          "coloraxis": {
           "colorbar": {
            "outlinewidth": 1,
            "tickcolor": "rgb(36,36,36)",
            "ticks": "outside"
           }
          },
          "colorscale": {
           "diverging": [
            [
             0,
             "rgb(103,0,31)"
            ],
            [
             0.1,
             "rgb(178,24,43)"
            ],
            [
             0.2,
             "rgb(214,96,77)"
            ],
            [
             0.3,
             "rgb(244,165,130)"
            ],
            [
             0.4,
             "rgb(253,219,199)"
            ],
            [
             0.5,
             "rgb(247,247,247)"
            ],
            [
             0.6,
             "rgb(209,229,240)"
            ],
            [
             0.7,
             "rgb(146,197,222)"
            ],
            [
             0.8,
             "rgb(67,147,195)"
            ],
            [
             0.9,
             "rgb(33,102,172)"
            ],
            [
             1,
             "rgb(5,48,97)"
            ]
           ],
           "sequential": [
            [
             0,
             "#440154"
            ],
            [
             0.1111111111111111,
             "#482878"
            ],
            [
             0.2222222222222222,
             "#3e4989"
            ],
            [
             0.3333333333333333,
             "#31688e"
            ],
            [
             0.4444444444444444,
             "#26828e"
            ],
            [
             0.5555555555555556,
             "#1f9e89"
            ],
            [
             0.6666666666666666,
             "#35b779"
            ],
            [
             0.7777777777777778,
             "#6ece58"
            ],
            [
             0.8888888888888888,
             "#b5de2b"
            ],
            [
             1,
             "#fde725"
            ]
           ],
           "sequentialminus": [
            [
             0,
             "#440154"
            ],
            [
             0.1111111111111111,
             "#482878"
            ],
            [
             0.2222222222222222,
             "#3e4989"
            ],
            [
             0.3333333333333333,
             "#31688e"
            ],
            [
             0.4444444444444444,
             "#26828e"
            ],
            [
             0.5555555555555556,
             "#1f9e89"
            ],
            [
             0.6666666666666666,
             "#35b779"
            ],
            [
             0.7777777777777778,
             "#6ece58"
            ],
            [
             0.8888888888888888,
             "#b5de2b"
            ],
            [
             1,
             "#fde725"
            ]
           ]
          },
          "colorway": [
           "#1F77B4",
           "#FF7F0E",
           "#2CA02C",
           "#D62728",
           "#9467BD",
           "#8C564B",
           "#E377C2",
           "#7F7F7F",
           "#BCBD22",
           "#17BECF"
          ],
          "font": {
           "color": "rgb(36,36,36)"
          },
          "geo": {
           "bgcolor": "white",
           "lakecolor": "white",
           "landcolor": "white",
           "showlakes": true,
           "showland": true,
           "subunitcolor": "white"
          },
          "hoverlabel": {
           "align": "left"
          },
          "hovermode": "closest",
          "mapbox": {
           "style": "light"
          },
          "paper_bgcolor": "white",
          "plot_bgcolor": "white",
          "polar": {
           "angularaxis": {
            "gridcolor": "rgb(232,232,232)",
            "linecolor": "rgb(36,36,36)",
            "showgrid": false,
            "showline": true,
            "ticks": "outside"
           },
           "bgcolor": "white",
           "radialaxis": {
            "gridcolor": "rgb(232,232,232)",
            "linecolor": "rgb(36,36,36)",
            "showgrid": false,
            "showline": true,
            "ticks": "outside"
           }
          },
          "scene": {
           "xaxis": {
            "backgroundcolor": "white",
            "gridcolor": "rgb(232,232,232)",
            "gridwidth": 2,
            "linecolor": "rgb(36,36,36)",
            "showbackground": true,
            "showgrid": false,
            "showline": true,
            "ticks": "outside",
            "zeroline": false,
            "zerolinecolor": "rgb(36,36,36)"
           },
           "yaxis": {
            "backgroundcolor": "white",
            "gridcolor": "rgb(232,232,232)",
            "gridwidth": 2,
            "linecolor": "rgb(36,36,36)",
            "showbackground": true,
            "showgrid": false,
            "showline": true,
            "ticks": "outside",
            "zeroline": false,
            "zerolinecolor": "rgb(36,36,36)"
           },
           "zaxis": {
            "backgroundcolor": "white",
            "gridcolor": "rgb(232,232,232)",
            "gridwidth": 2,
            "linecolor": "rgb(36,36,36)",
            "showbackground": true,
            "showgrid": false,
            "showline": true,
            "ticks": "outside",
            "zeroline": false,
            "zerolinecolor": "rgb(36,36,36)"
           }
          },
          "shapedefaults": {
           "fillcolor": "black",
           "line": {
            "width": 0
           },
           "opacity": 0.3
          },
          "ternary": {
           "aaxis": {
            "gridcolor": "rgb(232,232,232)",
            "linecolor": "rgb(36,36,36)",
            "showgrid": false,
            "showline": true,
            "ticks": "outside"
           },
           "baxis": {
            "gridcolor": "rgb(232,232,232)",
            "linecolor": "rgb(36,36,36)",
            "showgrid": false,
            "showline": true,
            "ticks": "outside"
           },
           "bgcolor": "white",
           "caxis": {
            "gridcolor": "rgb(232,232,232)",
            "linecolor": "rgb(36,36,36)",
            "showgrid": false,
            "showline": true,
            "ticks": "outside"
           }
          },
          "title": {
           "x": 0.05
          },
          "xaxis": {
           "automargin": true,
           "gridcolor": "rgb(232,232,232)",
           "linecolor": "rgb(36,36,36)",
           "showgrid": false,
           "showline": true,
           "ticks": "outside",
           "title": {
            "standoff": 15
           },
           "zeroline": false,
           "zerolinecolor": "rgb(36,36,36)"
          },
          "yaxis": {
           "automargin": true,
           "gridcolor": "rgb(232,232,232)",
           "linecolor": "rgb(36,36,36)",
           "showgrid": false,
           "showline": true,
           "ticks": "outside",
           "title": {
            "standoff": 15
           },
           "zeroline": false,
           "zerolinecolor": "rgb(36,36,36)"
          }
         }
        },
        "xaxis": {
         "anchor": "y",
         "domain": [
          0,
          1
         ],
         "linecolor": "black",
         "linewidth": 2,
         "mirror": true,
         "showline": true,
         "tickfont": {
          "size": 20
         },
         "title": {
          "text": "Number of PLS components"
         }
        },
        "yaxis": {
         "anchor": "x",
         "domain": [
          0,
          1
         ],
         "linecolor": "black",
         "linewidth": 2,
         "mirror": true,
         "range": [
          0.4,
          0.8
         ],
         "showline": true,
         "tickfont": {
          "size": 20
         },
         "title": {
          "text": "r2"
         }
        }
       }
      },
      "image/png": "[encoded data removed]"
     },
     "metadata": {},
     "output_type": "display_data"
    }
   ],
   "source": [
    "# Partial Least Squares Regression model (PLSR)\n",
    "#########################################################################################################\n",
    "#########################################################################################################\n",
    "#########################################################################################################\n",
    "\n",
    "### Optimizing number of PLS components using KFold (k=3) cross-validation\n",
    "from sklearn.model_selection import KFold\n",
    "from sklearn.cross_decomposition import PLSRegression\n",
    "from sklearn.model_selection import cross_val_score\n",
    "from sklearn.model_selection import cross_val_predict\n",
    "\n",
    "pio.templates.default = 'simple_white'\n",
    "font_type = 'DejaVu Sans'\n",
    "font_size = 20\n",
    "\n",
    "PLSR_method = 'PLSR'\n",
    "target_parameter_PLSR = ['Age', 'AgeLower', 'AgeUpper']\n",
    "n_splits = 3\n",
    "\n",
    "### Input X and Y variables with transformation and validation data\n",
    "df_scaled_train_X = df_scaled_train.loc[:,predictor_parameter]\n",
    "df_scaled_train_Y = pd.DataFrame(transformer.transform(df_scaled_train.loc[:,target_parameter_PLSR]))\n",
    "\n",
    "df_scaled_validation_X = df_scaled_val.loc[:,predictor_parameter]\n",
    "\n",
    "df_scaled_excluded_X = df_scaled_excluded.loc[:,predictor_parameter]\n",
    "\n",
    "### Calculating PLSR with different number of components from 1 to 15\n",
    "maxComp = min(df_scaled_train_X.shape[0], df_scaled_train_X.shape[1], df_scaled_train_Y.shape[1])\n",
    "iteration = np.arange(1, maxComp+1, 1)\n",
    "\n",
    "\n",
    "error = []\n",
    "error_metric = 'r2'\n",
    "\n",
    "model_PLSR_cv = KFold(n_splits=n_splits, shuffle=True, random_state=random_state)\n",
    "model_PLSR_cv.get_n_splits(df_scaled_train_X, df_scaled_train_Y)\n",
    "\n",
    "for i in iteration:\n",
    "    PLS = PLSRegression(n_components=i)\n",
    "\n",
    "    temp = cross_val_score(PLS, df_scaled_train_X, df_scaled_train_Y, scoring=error_metric, cv=model_PLSR_cv, n_jobs=-1)\n",
    "    error.append(np.mean(temp))\n",
    "\n",
    "error_plot_PLSR = pd.DataFrame(np.vstack(error), columns=[error_metric], index=iteration)\n",
    "\n",
    "### Plotting error metric as a function of components\n",
    "PLSR_error_plot = px.line(x=error_plot_PLSR.loc[:,error_metric].index, y=error_plot_PLSR.loc[:,error_metric])\n",
    "PLSR_error_plot.update_layout(yaxis_range=[0.4,0.8],\n",
    "                         xaxis = dict(title='Number of PLS components',\n",
    "                                    tickfont = dict(size=font_size), showline=True, linewidth=2, linecolor='black', mirror=True),\n",
    "                       yaxis = dict(title='{}'.format(error_metric),\n",
    "                                    tickfont = dict(size=font_size), showline=True, linewidth=2, linecolor='black', mirror=True),\n",
    "                       font=dict(size=font_size, family=font_type),\n",
    "                       legend_itemsizing='constant',\n",
    "                       legend=dict(yanchor='middle',\n",
    "                                   y=0.2, x=0.8),\n",
    "                       coloraxis_colorbar=dict(thicknessmode='pixels', \n",
    "                                               thickness=50,\n",
    "                                               lenmode='pixels',\n",
    "                                               len=150,\n",
    "                                               yanchor='middle',\n",
    "                                               y=0.2, x=0.8))\n",
    "PLSR_error_plot.write_image(r'{}_{}_{}_PLScomponents.svg'.format(inputName, predictor_parameter_text, PLSR_method), format='svg', width=950, height=450, scale=1)\n",
    "PLSR_error_plot.show()"
   ]
  },
  {
   "cell_type": "code",
   "execution_count": 5,
   "metadata": {},
   "outputs": [
    {
     "name": "stdout",
     "output_type": "stream",
     "text": [
      "PLSR - Mean R2cv from 3-fold: 0.379\n",
      "PLSR - Mean MAPEcv from 3-fold: 94.46% (in log-space)\n",
      "PLSR - R2val using independent data: 0.495\n",
      "PLSR - MAPEval using independent data: 802.45% (in log-space)\n",
      "PLSR - Spearman correlation coefficient using independent data: 0.767 (p=0.000)\n",
      "PLSR - R2val on the excluded data: 0.152\n",
      "PLSR - MAPEval on the excluded data: 174.71% (in log-space)\n",
      "PLSR - Spearman correlation coefficient on the excluded data: 0.628 (p=0.000)\n"
     ]
    },
    {
     "name": "stderr",
     "output_type": "stream",
     "text": [
      "C:\\Users\\56931\\AppData\\Local\\Temp\\ipykernel_17420\\293894557.py:11: FutureWarning:\n",
      "\n",
      "Series.__getitem__ treating keys as positions is deprecated. In a future version, integer keys will always be treated as labels (consistent with DataFrame behavior). To access a value by position, use `ser.iloc[pos]`\n",
      "\n"
     ]
    }
   ],
   "source": [
    "### Prediction using PLSR model with user-defined PLS components, and reporting error metrics and plots\n",
    "from sklearn.cross_decomposition import PLSRegression\n",
    "from sklearn.model_selection import KFold\n",
    "from sklearn.model_selection import cross_val_predict\n",
    "from sklearn.model_selection import cross_val_score\n",
    "from scipy import stats\n",
    "from sklearn.metrics import r2_score\n",
    "from sklearn.metrics import mean_absolute_percentage_error\n",
    "\n",
    "max_components = min(df_scaled_train_X.shape[0], df_scaled_train_X.shape[1], df_scaled_train_Y.shape[1])\n",
    "PLScomp = min(error_plot_PLSR.idxmax()[0], max_components)\n",
    "\n",
    "\n",
    "PLSR_cv = KFold(n_splits=n_splits, shuffle=True, random_state=random_state)\n",
    "PLSR_cv.get_n_splits(df_scaled_train_X)\n",
    "\n",
    "PLSR = PLSRegression(n_components=PLScomp)\n",
    "PLSR.fit(df_scaled_train_X, df_scaled_train_Y)\n",
    "\n",
    "### K-fold cross-validation\n",
    "PLSR_cv_r2 = cross_val_score(PLSR, df_scaled_train_X, df_scaled_train_Y, scoring='r2', cv=PLSR_cv, n_jobs=-1)\n",
    "print(r'PLSR - Mean R2cv from {}-fold: {:0.3f}'.format(n_splits, np.mean(PLSR_cv_r2)))\n",
    "\n",
    "PLSR_cv_MAPE = cross_val_score(PLSR, df_scaled_train_X, df_scaled_train_Y, scoring='neg_mean_absolute_percentage_error', cv=PLSR_cv, n_jobs=-1)\n",
    "print(r'PLSR - Mean MAPEcv from {}-fold: {:0.2f}% (in log-space)'.format(n_splits, np.mean(- PLSR_cv_MAPE*100)))\n",
    "\n",
    "PLSR_cv_predicted = pd.DataFrame(InvTransformer.transform(\n",
    "    cross_val_predict(PLSR, df_scaled_train_X, df_scaled_train_Y, cv=PLSR_cv, n_jobs=-1)),\n",
    "    columns=['{}_trainCV_{}'.format(PLSR_method, target_parameter),\n",
    "             '{}_trainCV_AgeLower'.format(PLSR_method),\n",
    "             '{}_trainCV_AgeUpper'.format(PLSR_method)\n",
    "            ], index=df_scaled_train_X.index)\n",
    "df_PLSR_cv_predicted = df_scaled_train.merge(PLSR_cv_predicted, on='ID', sort=False)\n",
    "\n",
    "### Validation with independent data\n",
    "PLSR_val_predicted = pd.DataFrame(InvTransformer.transform(PLSR.predict(df_scaled_validation_X)),\n",
    "                                  columns=['{}_val_{}'.format(PLSR_method, target_parameter),\n",
    "                                          '{}_val_AgeLower'.format(PLSR_method),\n",
    "                                          '{}_val_AgeUpper'.format(PLSR_method)\n",
    "                                          ], index=df_scaled_val.index)\n",
    "\n",
    "df_PLSR_val_predicted = df_scaled_val.merge(PLSR_val_predicted, on='ID', sort=False)\n",
    "\n",
    "PLSR_val_r2 = r2_score(transformer.transform(df_PLSR_val_predicted.loc[:,target_parameter_PLSR]),\n",
    "                             PLSR.predict(df_scaled_validation_X))\n",
    "print(u'PLSR - R2val using independent data: {:0.3f}'.format(PLSR_val_r2))\n",
    "\n",
    "PLSR_val_MAPE = mean_absolute_percentage_error(transformer.transform(df_PLSR_val_predicted.loc[:,target_parameter_PLSR]),\n",
    "                            PLSR.predict(df_scaled_validation_X))\n",
    "print(r'PLSR - MAPEval using independent data: {:0.2f}% (in log-space)'.format(PLSR_val_MAPE*100))\n",
    "\n",
    "PLSR_val_spearmanR = stats.spearmanr(df_PLSR_val_predicted.loc[:,target_parameter],\n",
    "                             df_PLSR_val_predicted.loc[:,'{}_val_{}'.format(PLSR_method, target_parameter)])\n",
    "print(r'PLSR - Spearman correlation coefficient using independent data: {:0.3f} (p={:0.3f})'.format(PLSR_val_spearmanR[0], PLSR_val_spearmanR[1]))\n",
    "\n",
    "### Prediction on excluded data\n",
    "PLSR_excluded_predicted = pd.DataFrame(InvTransformer.transform(PLSR.predict(df_scaled_excluded_X)),\n",
    "                                  columns=['{}_excluded_{}'.format(PLSR_method, target_parameter),\n",
    "                                          '{}_excluded_AgeLower'.format(PLSR_method),\n",
    "                                          '{}_excluded_AgeUpper'.format(PLSR_method)\n",
    "                                          ], index=df_scaled_excluded.index)\n",
    "\n",
    "df_PLSR_excluded_predicted = df_scaled_excluded.merge(PLSR_excluded_predicted, on='ID', sort=False)\n",
    "\n",
    "PLSR_excluded_r2 = r2_score(transformer.transform(df_PLSR_excluded_predicted.loc[:,'Age']),\n",
    "                             PLSR.predict(df_scaled_excluded_X)[:,1])\n",
    "print(r'PLSR - R2val on the excluded data: {:0.3f}'.format(PLSR_excluded_r2))\n",
    "\n",
    "PLSR_excluded_MAPE = mean_absolute_percentage_error(transformer.transform(df_PLSR_excluded_predicted.loc[:,'Age']),\n",
    "                            PLSR.predict(df_scaled_excluded_X)[:,1])\n",
    "print(r'PLSR - MAPEval on the excluded data: {:0.2f}% (in log-space)'.format(PLSR_excluded_MAPE*100))\n",
    "\n",
    "PLSR_excluded_spearmanR = stats.spearmanr(df_PLSR_excluded_predicted.loc[:,'Age'],\n",
    "                             df_PLSR_excluded_predicted.loc[:,'{}_excluded_{}'.format(PLSR_method, target_parameter)])\n",
    "print(r'PLSR - Spearman correlation coefficient on the excluded data: {:0.3f} (p={:0.3f})'.format(PLSR_excluded_spearmanR[0], PLSR_excluded_spearmanR[1]))"
   ]
  },
  {
   "cell_type": "code",
   "execution_count": 6,
   "metadata": {},
   "outputs": [
    {
     "data": {
      "application/vnd.plotly.v1+json": {
       "config": {
        "plotlyServerURL": "https://plot.ly"
       },
       "data": [
        {
         "hovertemplate": "x=%{x}<br>y=%{y}<extra></extra>",
         "legendgroup": "",
         "line": {
          "color": "black",
          "dash": "solid",
          "width": 1.5
         },
         "marker": {
          "line": {
           "width": 0.5
          },
          "size": 8,
          "symbol": "circle"
         },
         "mode": "lines",
         "name": "",
         "orientation": "v",
         "showlegend": false,
         "type": "scatter",
         "x": {
          "bdata": "exSuR+F6hD8AAAAAAEzNQA==",
          "dtype": "f8"
         },
         "xaxis": "x",
         "y": {
          "bdata": "exSuR+F6hD8AAAAAAEzNQA==",
          "dtype": "f8"
         },
         "yaxis": "y"
        },
        {
         "error_x": {
          "array": {
           "bdata": "AAAAAACAQUAzMzMzMzPjP0jhehSuR9U/PzVeukkM5j8AAAAAAABUQAAAAAAAAD5AObTIdr6fyj/NzMzMzMzsPwAAAAAAAB5AAAAAAAAACECkcD0K16PAP8l2vp8aL/M/AAAAAAAAIkCJQWDl0CKrPwAAAAAAgFtAAAAAAAAARUDsUbgeheuRP5qZmZmZmbk/AAAAAAAA8D+4HoXrUbiePwAAAAAAACBAzczMzMzMFEDD9Shcj8LFPwAAAAAAAD5A9P3UeOkmyT8AAAAAAAASQIXrUbgehcs/AAAAAAAALEAAAAAAAABZQAAAAAAAgEtAAAAAAAAAAAAAAAAAAAA0QIXrUbgehcs/AAAAAAAAHkBmZmZmZmbGPwAAAAAAAGlAAAAAAAAAAAAAAAAAAAA0QAAAAAAAADRAexSuR+F6pD8AAAAAAAAYQAAAAAAAACRAMzMzMzMz8z8AAAAAAAAqQArXo3A9Crc/AAAAAAAAAAAAAAAAAAAMQAAAAAAAAD5A2c73U+Oluz8AAAAAAAAUQAAAAAAAwIJA7FG4HoXr2T+amZmZmZm5PzMzMzMzM8M/AAAAAAAANECmm8QgsHLYPwAAAAAAACRAAAAAAAAAGEAK16NwPQqnP/yp8dJNYlA/CtejcD0Kpz97FK5H4XqkPwAAAAAAAAAAZmZmZmZmKEAAAAAAAABOQAAAAAAAAB5AAAAAAAAAJEAK16NwPQqnPwAAAAAAACRAAAAAAAAAREB7FK5H4XqkPwAAAAAAAElAAAAAAAAAJECamZmZmZmpPwAAAAAAgEBAAAAAAAAAVEAK16NwPQqnPwAAAAAAABhAuB6F61G4nj8AAAAAACBsQAAAAAAAAC5AAAAAAAAAeUDNzMzMzMwkQAAAAAAAAHlAAAAAAAAABEAAAAAAAABZQAAAAAAAgFFAZmZmZmZmxj8AAAAAAAAnQAAAAAAAAAAAmpmZmZmZqT/0/dR46SaxPwAAAAAAADZAAAAAAAAALkAAAAAAAAAwQAAAAAAAAOA/zczMzMzMI0AAAAAAAAAAAAAAAAAAABRAAAAAAAAAAAAAAAAAAEBqQAAAAAAAAAAAmpmZmZmZuT8AAAAAAAAqQFK4HoXrUag/zczMzMzMI0AAAAAAAAAcQJqZmZmZmbk/AAAAAAAAAACamZmZmZkmQDMzMzMzM8M/AAAAAAAADEB7FK5H4XpkPwAAAAAAADRAAAAAAAAAFEAAAAAAAAAWQAAAAAAAAAAAg8DKoUW22z8AAAAAAAAAAHE9CtejcL0/MzMzMzMzFUAAAAAAAAA0QDMzMzMzM/s/mpmZmZmZuT8AAAAAAADwPwAAAAAAADRAMzMzMzOzIEAAAAAAAAAAAHsUrkfhepQ/AAAAAAAAVEAAAAAAAAAMQH9qvHSTGMQ/AAAAAAAAWUCamZmZmZmZPwAAAAAAADRAAAAAAAAAOUAAAAAAAAAoQAAAAAAAYGhAAAAAAAAAKkAAAAAAAABEQHE9CtejcM0/ZmZmZmYmQ0AAAAAAAABpQAAAAAAAABRAzczMzMzM3D+amZmZmZm5PzMzMzMzM7M/AAAAAAAAMUAAAAAAAABJQAAAAAAAgEFAAAAAAAAACEAAAAAAAABEQAAAAAAAACRAAAAAAAAAAAAAAAAAAAA4QAAAAAAAADtAZmZmZmZmAEApXI/C9Si8PwAAAAAAAERAMzMzMzMzI0AAAAAAAABZQA==",
           "dtype": "f8"
          },
          "type": "data",
          "visible": true
         },
         "error_y": {
          "array": {
           "bdata": "aAHfCoEjVUAohYozZzEZQGASukqa/wZAELpORJDf+T8gKAFzLIxGQBjYaY1c3UBA8J8o1Mz1/j9QEltYxzcjQIBqVDXhdg1AQIA2q0aP/z9gn8ex6w7nP7BrdmMlJgtAcIlDvMthD0CoatEanMQXQFjWLyPT96JA4AfhMnIaEUCAZVpdPV7dP9Codp8pofg/OAbz6KLB9D8omwInBBviP2Dfhi+VAw1AKGxDuECNM0BY4Kd3c4khQMgaBLsPMShAEJ/KzdiK7T+YQYTq2ur9P7AokeKon/I/wOcIDV39C0CYghJiSQedQBhc1pADH3VAWOE2jUnt5j+E9Y0xExZhQGjVYQ3I7fM/8Fawgtmw/j/QJgO785IUQEwqK2eZLGNAyP53PyUN+D/g6uLCsBAgQNjLdcaQ80RAcJ56LPYcL0BA6Xh43RCgQBAFEjnReURAaL/39HxK8z/Q6zXXVYwDQAD7WASp0OQ/AFbcOAv63T8oOP9YTwwJQKAn1ze3EhBAcH/4RSTbBkAoADQ1sqApQIT9BUojqnBAANEpzejJCkCg81f7wh4BQADOCGMP1ANAiK6H1kE/GUDA6CYcHV30P9BmeOvcp8g/kGO9DeMbAEB4mYWGoQoNQIDCTtauKBFAkO468L8r9T/4RYEy3RXxP+AFjvFuyPo/YKIu3MQJHkCgjPwB2SwWQCCYkMwEEzVApJFjsapSlEBQIFyrBP//P6iDyfMDpk5A0MUFp3g9/z+gekLdmDsaQAhk4NG4cS1A0A2fZiRUEUDIyUWx8/xSQNgAkDfUaipA5D/dAfbxoEBgOKoNeNgPQBCHX0FnL1RA4CvAJ/uczT+42RKKG13GQNAo5KoKXkZA1FhEewZZ+0BQFXrIB0cbQIiCaKwcHmhAAHIGrY2/5j9wE8zSZUhbQABfHLKXkStA2N9AmppP8j9oDNbOE7rzPzBsshDiyv4/2C+LYZW94D+oF1JoUQkDQOjp3UxEJ11A8Gxw+5SkBECokVkpITsWQOh2w0TScQhAWK+8X9GXDEAgqIwvurEoQCDB10JIX0VAsCoSSb9k6j8Ujx5DKbKgQDgq3Ls4PwtA4O07HWgw2T8oXHRJkkAhQEDxFzdWmc0/UBuaH+XeEkCIYBowKTYhQBDZmSUrJuk/OGDrmfuVDUCIN5Ugn5INQNi1JwBSzPk/AFjzTY8a+j8YEs9liHnxP0BcWN4EvyZAqAvwYXVoNkCQGw7LwSoLQCDvvLgOfOg/kKLWhC/u7D/YoCFqZM/3P9DClSjp1ew/+PpZ1ziLKECoWB6Ap74jQEBKSxLkdwRAcLx3pF5H4j/QwJxbV2ftP7C63dNXuypAIOtBf7lxEkDwfO7OrCX6P3icANxEdPk/GP+eChYiMEBoCYDcLdwJQAjQzHC0NRBAiJ8ZKjm0AkAQJ/8evh3tPxy3DE2BR4NAiNtmWivFFUDg4tvoF3ASQADxWzilpmRAwCacLzBA9z9wWq9irWVVQHDlrr3yhek/UDUToYgA/T+gak/K8R5IQBAw44VQzu8/8AWk3Ffy/j94cnQnGsTTP+hz6quL7wBAiMl5f4b69T9AnT1FaqxQQJA2eyVq/0hA0EQR0hG4PkDI412AldYFQGAmASNuXAVA0HXiXkNG/j/Ika49Md1/QKj1INOSZy5A0ATEx5zxSUAIKSSJKJcfQMg+ZBWiaVlAcNTNo91U/T/Qw8UBBIBmQA==",
           "dtype": "f8"
          },
          "type": "data",
          "visible": true
         },
         "hovertemplate": "ConeName: %{text}<br>ConeAge: %{x:.2f} ky<br>ConePredAge: %{y:.2f} ky",
         "hovertext": [
          [
           "Bas Tepe",
           1710,
           613.717638950976
          ],
          [
           "Merriam crater",
           19.6,
           59.263735607527096
          ],
          [
           "El Estribo",
           32.746,
           27.238251326298695
          ],
          [
           "Tezontle",
           26.241,
           21.500616304718772
          ],
          [
           "Blue Spring Mountain",
           2780,
           355.5461943691166
          ],
          [
           "ID507",
           310,
           261.42047458806536
          ],
          [
           "Dos Cerros",
           18.939,
           19.37064307428095
          ],
          [
           "Puy de Come",
           13.7,
           73.51851746207701
          ],
          [
           "Mt Elephant",
           184,
           40.985789783071866
          ],
          [
           "ID125",
           601,
           18.98863293135542
          ],
          [
           "Lava Butte",
           7.161,
           7.9473821886396845
          ],
          [
           "El Molcajete (ID168)",
           34.956,
           39.15662546535504
          ],
          [
           "Cerro El Reparo",
           240,
           35.51458994578168
          ],
          [
           "Puu o Kalaukani (v5dc h7.2)",
           2.36,
           57.65346029756425
          ],
          [
           "Pampa de los Guanacos ",
           2890,
           15053.770183615756
          ],
          [
           "Hidden cone",
           373,
           33.54615325729348
          ],
          [
           "Xitle",
           1.81,
           5.435200887155037
          ],
          [
           "Sosed",
           1.8,
           16.333313633555917
          ],
          [
           "Montana Cabrera",
           18,
           13.696963678277616
          ],
          [
           "Heikongshan",
           4.495,
           6.376063524778172
          ],
          [
           "Cerro El Tule",
           116,
           35.583159148812314
          ],
          [
           "Cerro Gordo",
           403,
           146.26584326713785
          ],
          [
           "Molcajete",
           9.99,
           65.80100806370253
          ],
          [
           "Cone R",
           700,
           103.75319487941074
          ],
          [
           "Pelado",
           12.095,
           10.976470627043394
          ],
          [
           "ID195",
           305,
           14.858840086618416
          ],
          [
           "Nash Crater",
           3.92,
           10.393278247579799
          ],
          [
           "ID200",
           768,
           32.804810347548106
          ],
          [
           "Monte Pelau",
           1900,
           11281.786899982106
          ],
          [
           "Karayalim Tepe",
           620,
           1972.3164989841368
          ],
          [
           "Monte Josemaria Escriva",
           0.019,
           6.969762414844338
          ],
          [
           "ID142",
           260,
           833.123536770923
          ],
          [
           "Cerro Miguel",
           19.871,
           12.656877774885823
          ],
          [
           "Montana de Taco",
           706,
           18.85898367020697
          ],
          [
           "Lagoa",
           4.995,
           50.98648522856585
          ],
          [
           "Los Nacimientos (ID442)",
           2800,
           989.0789744799209
          ],
          [
           "Sta. Catalina",
           0.29,
           16.416830795062673
          ],
          [
           "ID457",
           450,
           74.57490257834885
          ],
          [
           "ID345",
           400,
           313.4215607574962
          ],
          [
           "Futatsuzuka-E",
           2.12,
           118.01697126223443
          ],
          [
           "Wheat Mountain",
           2114,
           11929.823421611174
          ],
          [
           "ID382",
           320,
           286.3402872366128
          ],
          [
           "La Poruna",
           103,
           12.121315317415936
          ],
          [
           "Zarzamora",
           173,
           19.680216458917783
          ],
          [
           "Umiahu (v3c g1.8)",
           6.33,
           8.211727101319005
          ],
          [
           "Paricutin",
           0.068,
           5.3450747166142545
          ],
          [
           "Agurejado",
           34,
           29.829876025944483
          ],
          [
           "Cerro Partido",
           620,
           38.262554850286634
          ],
          [
           "Volcan Juanyan",
           12.914,
           26.690242124023356
          ],
          [
           "ID351",
           370,
           112.892285907792
          ],
          [
           "ID436",
           7300,
           1709.9046091820426
          ],
          [
           "Khorgo",
           7.78,
           32.56872073515242
          ],
          [
           "Azamizuka",
           9.77,
           16.441577030699364
          ],
          [
           "Vigia",
           1.57,
           22.278604796246082
          ],
          [
           "Cerro Las Flores",
           730,
           54.07244253917699
          ],
          [
           "Cuatl",
           22.235,
           13.095076653422234
          ],
          [
           "Tieguoshan",
           160,
           2.825801293651928
          ],
          [
           "Cerro Alto",
           64,
           18.33327197305424
          ],
          [
           "Clear Lake East",
           2.82,
           32.05796972925846
          ],
          [
           "Ashishan",
           0.069,
           37.23539004012479
          ],
          [
           "Red Cone South",
           8.56,
           12.373215709385088
          ],
          [
           "Katabutayama",
           3.08,
           10.890026247144393
          ],
          [
           "Volcan San Antonio",
           0.343,
           16.691833234745353
          ],
          [
           "Dabaa",
           717.7,
           76.16646779956503
          ],
          [
           "Cerro Tancitaro",
           530,
           43.33702526588679
          ],
          [
           "Cristo Rey",
           403,
           172.64556922704114
          ],
          [
           "Mt Gellibrand",
           1290,
           7983.080267196557
          ],
          [
           "Red Cone North",
           8.56,
           21.13268782877857
          ],
          [
           "Kizil Tepe",
           260,
           379.4274029421255
          ],
          [
           "Cerro Verde",
           340,
           20.006656226674572
          ],
          [
           "Futatsuzuka-W",
           2.12,
           46.09304148336181
          ],
          [
           "Cone J",
           460,
           127.12936603310352
          ],
          [
           "Cerro El Mirador (ID219)",
           380,
           35.556303854449034
          ],
          [
           "Cerro Mauras",
           2.96,
           532.3307508571987
          ],
          [
           "Nangelaqiushan",
           462,
           109.37485002914515
          ],
          [
           "El Rojo Norte",
           3050,
           12134.786005067612
          ],
          [
           "Great Spring",
           2.82,
           36.102628478149626
          ],
          [
           "South Sheba cone",
           190,
           553.0296826799055
          ],
          [
           "NE Nawahine (v5d c2.6)",
           2.46,
           2.7645895622108405
          ],
          [
           "Estancia Luca",
           2570,
           74760.21071578753
          ],
          [
           "Inniol Tepe",
           550,
           351.55694467509846
          ],
          [
           "Cerro Morado",
           6700,
           482896.64157576964
          ],
          [
           "Sha’ib Ad Dirwah",
           584.5,
           68.6794061960218
          ],
          [
           "Cerro Tropetepe",
           7200,
           1314.5225350568107
          ],
          [
           "Calderon Hondo",
           134,
           8.669398393517538
          ],
          [
           "SW of Cerro Pasa Willkhi",
           3430,
           770.9430456209274
          ],
          [
           "ID440",
           4970,
           113.70367042267485
          ],
          [
           "ID59 (v4b p9.2)",
           4.77,
           12.887088316357268
          ],
          [
           "Montana de los Santos",
           229,
           14.151150487363946
          ],
          [
           "N Breakthrough I",
           0.045,
           17.875450366788996
          ],
          [
           "Chilcayoc Grande",
           0.533,
           6.011136158993729
          ],
          [
           "Cerro El Zoyate",
           2.35,
           22.911315140591526
          ],
          [
           "Saint Peter's Dome",
           670,
           753.026950597296
          ],
          [
           "ID172",
           298,
           22.400210953372227
          ],
          [
           "Cerro San Jeronimo",
           581,
           49.99438602856101
          ],
          [
           "Paxton Springs",
           15,
           28.967547136431527
          ],
          [
           "Lower Sahab (ID549)",
           346.9,
           29.76231987743751
          ],
          [
           "Laoheishan",
           0.301,
           102.02465397157188
          ],
          [
           "ID350",
           360,
           311.3151356918528
          ],
          [
           "Krasny",
           0.28,
           9.196993447821109
          ],
          [
           "Mamuel Choique (ID495)",
           5650,
           12221.008739365963
          ],
          [
           "Cabeco do Fogo",
           0.347,
           28.490564678648546
          ],
          [
           "Shiratsuka",
           3.87,
           5.374054957284656
          ],
          [
           "Telcampana",
           140,
           73.8118309019815
          ],
          [
           "Malforada",
           1.12,
           3.1550683972123617
          ],
          [
           "Lower Sahab (ID542)",
           346.9,
           45.679104064383594
          ],
          [
           "Mt Franklin",
           110,
           74.28188028456114
          ],
          [
           "Kosukemaru",
           4,
           8.495560539484753
          ],
          [
           "Mazo",
           0.298,
           33.05705691322601
          ],
          [
           "ID533",
           137.3,
           30.69949820176799
          ],
          [
           "Pu'u Kole (MK_220)",
           4.62,
           15.499111242908995
          ],
          [
           "SP Crater",
           70,
           15.655623679723089
          ],
          [
           "Rangitoto",
           0.574,
           11.996613425520659
          ],
          [
           "Racecourse Knob",
           210,
           132.65914888308964
          ],
          [
           "Puy de Laschamps",
           44,
           174.80138855902456
          ],
          [
           "Fish Spring",
           243,
           34.34358921622237
          ],
          [
           "Nagaoyama",
           1.154,
           8.598476669360481
          ],
          [
           "Cerro La Taza",
           9.503,
           9.696992014857216
          ],
          [
           "Monpeloso",
           1.768,
           15.65102604727954
          ],
          [
           "Montana del Banco",
           15.14,
           9.900868084940686
          ],
          [
           "Cerro Santiago",
           390.9,
           101.96529017175484
          ],
          [
           "Cerro El Pinalito Frutas",
           880,
           73.25299842860677
          ],
          [
           "Hachinoyama ",
           28.87,
           24.113039168663487
          ],
          [
           "Nishiusuzuka",
           8.02,
           7.605049246138903
          ],
          [
           "Montana Faro",
           15,
           9.682229600493265
          ],
          [
           "ID508",
           320,
           115.92743430292776
          ],
          [
           "Cerro de los Cedros",
           544.8,
           34.771986747362995
          ],
          [
           "Mt Gorna",
           2.414,
           16.57126952412396
          ],
          [
           "Volcan de Guimar",
           2.77,
           15.056382803422931
          ],
          [
           "Carachipampa",
           750,
           128.5626833954407
          ],
          [
           "ID39",
           207,
           29.597959834447003
          ],
          [
           "San Miguel",
           19.998,
           40.200807646032324
          ],
          [
           "Volcan de Guanapay",
           1200,
           26.995307708704633
          ],
          [
           "Chengzilou",
           8.935,
           11.575830635306323
          ],
          [
           "Goctepesi",
           1750,
           3761.577096075479
          ],
          [
           "Conito de las Lagunitas",
           6070,
           41.05640179790489
          ],
          [
           "Comal Grande",
           137,
           41.593219168816645
          ],
          [
           "ID434",
           9950,
           1142.8457454262093
          ],
          [
           "Pu'uwaiau ",
           107,
           17.524011440611606
          ],
          [
           "Monte Massa",
           380,
           562.7000730124013
          ],
          [
           "Karadivit Tepe",
           3.34,
           7.7943828718880335
          ],
          [
           "ID534",
           507.4,
           21.46391655127244
          ],
          [
           "El Jote (ID449)",
           3200,
           378.05165682842
          ],
          [
           "Amboy Crater",
           79,
           13.119940319074145
          ],
          [
           "Darangsh",
           10.4,
           18.155400607067634
          ],
          [
           "Ioyama",
           2.84,
           3.562120814765116
          ],
          [
           "ID62 (v2e n2.3)",
           13.02,
           17.037374549517065
          ],
          [
           "ID191",
           236,
           13.49607628391243
          ],
          [
           "Asay Knoll",
           520,
           500.1159707687543
          ],
          [
           "Cone K",
           990,
           379.39692995307087
          ],
          [
           "Bois de Chanat",
           90,
           249.27575600521436
          ],
          [
           "Cerro Tecario",
           730,
           28.15562044435633
          ],
          [
           "Zimpizahua",
           390,
           18.853460443949167
          ],
          [
           "1643 cone",
           0.377,
           21.100945670191987
          ],
          [
           "ID194",
           485,
           3000.81798033789
          ],
          [
           "El Carpintero Norte",
           240,
           127.66002051556423
          ],
          [
           "Mt Noorat",
           581.7,
           385.1451962542481
          ],
          [
           "North Sugarpine",
           6.8,
           62.534650908007954
          ],
          [
           "Cerro El Chocolate",
           510,
           663.6115009367677
          ],
          [
           "Al Ihn",
           546.2,
           20.107538460669886
          ],
          [
           "E Cerro Chinina",
           2400,
           1255.4662664655539
          ]
         ],
         "marker": {
          "color": "#5799c6",
          "line": {
           "color": "#74797C",
           "width": 0.5
          },
          "size": 8
         },
         "mode": "markers",
         "name": "Training",
         "showlegend": false,
         "text": [
          "Bas Tepe",
          "Merriam crater",
          "El Estribo",
          "Tezontle",
          "Blue Spring Mountain",
          "ID507",
          "Dos Cerros",
          "Puy de Come",
          "Mt Elephant",
          "ID125",
          "Lava Butte",
          "El Molcajete (ID168)",
          "Cerro El Reparo",
          "Puu o Kalaukani (v5dc h7.2)",
          "Pampa de los Guanacos ",
          "Hidden cone",
          "Xitle",
          "Sosed",
          "Montana Cabrera",
          "Heikongshan",
          "Cerro El Tule",
          "Cerro Gordo",
          "Molcajete",
          "Cone R",
          "Pelado",
          "ID195",
          "Nash Crater",
          "ID200",
          "Monte Pelau",
          "Karayalim Tepe",
          "Monte Josemaria Escriva",
          "ID142",
          "Cerro Miguel",
          "Montana de Taco",
          "Lagoa",
          "Los Nacimientos (ID442)",
          "Sta. Catalina",
          "ID457",
          "ID345",
          "Futatsuzuka-E",
          "Wheat Mountain",
          "ID382",
          "La Poruna",
          "Zarzamora",
          "Umiahu (v3c g1.8)",
          "Paricutin",
          "Agurejado",
          "Cerro Partido",
          "Volcan Juanyan",
          "ID351",
          "ID436",
          "Khorgo",
          "Azamizuka",
          "Vigia",
          "Cerro Las Flores",
          "Cuatl",
          "Tieguoshan",
          "Cerro Alto",
          "Clear Lake East",
          "Ashishan",
          "Red Cone South",
          "Katabutayama",
          "Volcan San Antonio",
          "Dabaa",
          "Cerro Tancitaro",
          "Cristo Rey",
          "Mt Gellibrand",
          "Red Cone North",
          "Kizil Tepe",
          "Cerro Verde",
          "Futatsuzuka-W",
          "Cone J",
          "Cerro El Mirador (ID219)",
          "Cerro Mauras",
          "Nangelaqiushan",
          "El Rojo Norte",
          "Great Spring",
          "South Sheba cone",
          "NE Nawahine (v5d c2.6)",
          "Estancia Luca",
          "Inniol Tepe",
          "Cerro Morado",
          "Sha’ib Ad Dirwah",
          "Cerro Tropetepe",
          "Calderon Hondo",
          "SW of Cerro Pasa Willkhi",
          "ID440",
          "ID59 (v4b p9.2)",
          "Montana de los Santos",
          "N Breakthrough I",
          "Chilcayoc Grande",
          "Cerro El Zoyate",
          "Saint Peter's Dome",
          "ID172",
          "Cerro San Jeronimo",
          "Paxton Springs",
          "Lower Sahab (ID549)",
          "Laoheishan",
          "ID350",
          "Krasny",
          "Mamuel Choique (ID495)",
          "Cabeco do Fogo",
          "Shiratsuka",
          "Telcampana",
          "Malforada",
          "Lower Sahab (ID542)",
          "Mt Franklin",
          "Kosukemaru",
          "Mazo",
          "ID533",
          "Pu'u Kole (MK_220)",
          "SP Crater",
          "Rangitoto",
          "Racecourse Knob",
          "Puy de Laschamps",
          "Fish Spring",
          "Nagaoyama",
          "Cerro La Taza",
          "Monpeloso",
          "Montana del Banco",
          "Cerro Santiago",
          "Cerro El Pinalito Frutas",
          "Hachinoyama ",
          "Nishiusuzuka",
          "Montana Faro",
          "ID508",
          "Cerro de los Cedros",
          "Mt Gorna",
          "Volcan de Guimar",
          "Carachipampa",
          "ID39",
          "San Miguel",
          "Volcan de Guanapay",
          "Chengzilou",
          "Goctepesi",
          "Conito de las Lagunitas",
          "Comal Grande",
          "ID434",
          "Pu'uwaiau ",
          "Monte Massa",
          "Karadivit Tepe",
          "ID534",
          "El Jote (ID449)",
          "Amboy Crater",
          "Darangsh",
          "Ioyama",
          "ID62 (v2e n2.3)",
          "ID191",
          "Asay Knoll",
          "Cone K",
          "Bois de Chanat",
          "Cerro Tecario",
          "Zimpizahua",
          "1643 cone",
          "ID194",
          "El Carpintero Norte",
          "Mt Noorat",
          "North Sugarpine",
          "Cerro El Chocolate",
          "Al Ihn",
          "E Cerro Chinina"
         ],
         "type": "scatter",
         "x": {
          "bdata": "AAAAAAC4mkCamZmZmZkzQHNoke18X0BABFYOLbI9OkAAAAAAALilQAAAAAAAYHNAqvHSTWLwMkBmZmZmZmYrQAAAAAAAAGdAAAAAAADIgkC+nxov3aQcQO58PzVeekFAAAAAAAAAbkDhehSuR+ECQAAAAAAAlKZAAAAAAABQd0D2KFyPwvX8P83MzMzMzPw/AAAAAAAAMkB7FK5H4foRQAAAAAAAAF1AAAAAAAAweUB7FK5H4fojQAAAAAAA4IVAcT0K16MwKEAAAAAAABBzQFyPwvUoXA9AAAAAAAAAiEAAAAAAALCdQAAAAAAAYINA2/l+arx0kz8AAAAAAEBwQOXQItv53jNAAAAAAAAQhkB7FK5H4foTQAAAAAAA4KVAj8L1KFyP0j8AAAAAACB8QAAAAAAAAHlA9ihcj8L1AEAAAAAAAISgQAAAAAAAAHRAAAAAAADAWUAAAAAAAKBlQFK4HoXrURlAnMQgsHJosT8AAAAAAABBQAAAAAAAYINAhxbZzvfTKUAAAAAAACB3QAAAAAAAhLxAH4XrUbgeH0AK16NwPYojQB+F61G4Hvk/AAAAAADQhkBcj8L1KDw2QAAAAAAAAGRAAAAAAAAAUECPwvUoXI8GQESLbOf7qbE/H4XrUbgeIUCkcD0K16MIQMHKoUW289U/mpmZmZlthkAAAAAAAJCAQAAAAAAAMHlAAAAAAAAolEAfhetRuB4hQAAAAAAAQHBAAAAAAABAdUD2KFyPwvUAQAAAAAAAwHxAAAAAAADAd0CuR+F6FK4HQAAAAAAA4HxAAAAAAADUp0CPwvUoXI8GQAAAAAAAwGdArkfhehSuA0AAAAAAABSkQAAAAAAAMIFAAAAAAAAsukAAAAAAAESCQAAAAAAAILxAAAAAAADAYEAAAAAAAMyqQAAAAAAAarNAFK5H4XoUE0AAAAAAAKBsQArXo3A9Cqc/dZMYBFYO4T/NzMzMzMwCQAAAAAAA8IRAAAAAAACgckAAAAAAACiCQAAAAAAAAC5AZmZmZmaudUDdJAaBlUPTPwAAAAAAgHZA7FG4HoXr0T8AAAAAABK2QGiR7Xw/NdY/9ihcj8L1DkAAAAAAAIBhQOxRuB6F6/E/ZmZmZmaudUAAAAAAAIBbQAAAAAAAABBA30+Nl24S0z+amZmZmSlhQHsUrkfhehJAAAAAAACAUUCR7Xw/NV7iPwAAAAAAQGpAAAAAAAAARkAAAAAAAGBuQBBYObTIdvI/qMZLN4kBI0B9PzVeukn8P0jhehSuRy5AZmZmZmZueEAAAAAAAICLQB+F61G43jxACtejcD0KIEAAAAAAAAAuQAAAAAAAAHRAZmZmZmYGgUAdWmQ7308DQClcj8L1KAZAAAAAAABwh0AAAAAAAOBpQHNoke18/zNAAAAAAADAkkAfhetRuN4hQAAAAAAAWJtAAAAAAAC2t0AAAAAAACBhQAAAAAAAb8NAAAAAAADAWkAAAAAAAMB3QLgehetRuApAZmZmZma2f0AAAAAAAACpQAAAAAAAwFNAzczMzMzMJEC4HoXrUbgGQArXo3A9CipAAAAAAACAbUAAAAAAAECAQAAAAAAA8I5AAAAAAACAVkAAAAAAANCGQAAAAAAAYHhAVOOlm8Qg2D8AAAAAAFB+QAAAAAAAAG5AmpmZmZktgkAzMzMzMzMbQAAAAAAA4H9AmpmZmZkRgUAAAAAAAMCiQA==",
          "dtype": "f8"
         },
         "y": {
          "bdata": "OYZ9ub0tg0BOj6AWwqFNQHiu9gn+PDtAi5zgYyiANUDYiU42vTh2QKPIj0O6VnBAjIbqduJeM0Clgd1jL2FSQCaDD1wufkRAjus7DBf9MkDWFHSOHsofQNm1oU0MlENAyv1VFd7BQUDuokeWpNNMQMtwYJXiZs1A9laVWejFQECTFSZNpb0VQABv0wpUVTBAimdZbNhkK0AdkPDLFoEZQIxBgPWkykFAAUe9yYFIYkDRW1O3Q3NQQF2lS1g08FlA3k9B9fPzJUAxCknjubctQLcqN8RbySRAyxmFBgRnQEAvfCO55AjGQFdITxhE0Z5A7pUCZgnhG0C+t9gA/QiKQC01oUhSUClARVaTWubbMkC1VuElRX5JQNVDX72h6I5AhsJIbLVqMEA+GS80y6RSQJIrfra+lnNAMxGiDhaBXUBoHeFl6UzHQPmHB9Fx5XFAUZyRCh0+KEC4QHWqIq4zQBuvn35nbCBAhiM6RFthFUB/KlfBctQ9QJKxt2WbIUNAfAA1tbOwOkB+KVo2GzlcQCOS3lGet5pAswRP18tIQEDAhDkxC3EwQLti2KRSRzZAXE0QzEUJS0CNHxrjrTAqQBDWabU9mwZA/fDgT1FVMkBaqVWNawdAQO8RxkIhnkJAJVMkIRa/KEAxIjCFscclQGaEnfsbsTBAAr6OaKcKU0BpdNekI6tFQEOuy4ColGVAJxhkjBQvv0BkLl3U9yE1QEuqd6TWtndAzuHzOLQBNEDrGojI6AtHQCVZeIhHyF9Aqb/29jTHQUBXlrRgpaKAQFEF+or9V1tA8WXQm2Szx0A8pRLuIg1CQJ3bRco8SIFA2HfkIeEdBkCDhBdfg0DyQKvT0T7p+HVAEj35kEJ5HUFCJyBkeytRQBAQbhMXipRAN07gYrtWIUAnpIBbixeIQEMjq+8IbVxAGtaWcDDGKUBWAcCYY00sQESh5oMd4DFAeLn6RmcLGEC0MPXyS+k2QPTv3zE3iIdAFTycOXRmNkBqIpgKSP9IQNZPTCux9zxAUa8+ZSfDPUCJZ0Duk4FZQPYkucsKdXNA/dU/U9xkIkCAHV8egd7HQEZek6WVfTxA8MZBQwh/FUAieZkJ9XNSQKJc9X+UPQlA2o3J4ezWRkDy5JpTCpJSQN6MbBy6/SBAgSgUpE2HQEBPNGxQErM+QFi4QoKL/y5Apskt6K1PL0BFu2odRP4nQBQCZr8XlWBAxYye+aTZZUB4dz+7+itBQAGltIhrMiFAEMUqI9xkI0DO0TtJU00vQCqp5ZQ+zSNAlrVtUMd9WUCNM1IgMVBSQKOTjCLwHDhAT4uSB5JrHkCk9rwyTV0jQNoQaBVb+1xAS280dtBiQUBbUDO4PpIwQD6E8TTeHC5Aca2bgAESYEB+RU3lE5k9QG8/oBC0GURA1VdqfMz+OkDjWeVF0yYnQKoFI3knY61A87eSLDiHREDCthCb7stEQD7JFgti25FAHSggnSWGMUCbKOG/mZWBQPELHbRyLR9AyskvPMN2NUDdShyW06B3QF/KR9FoPSpAUCKNVcgnMkBQiZ4yOX8MQOfg42CRCTFAQHPvtf39KkB4MSoE20F/QODzONNZtndASAJC/tIob0B0Gc+91ic8QPowN2J82jJAuyVQk9cZNUAEoFHOonGnQGVCsMY96l9A9bdOuVISeEDfVeJwb0RPQCBnmlrkvIRArKP7o4cbNEAa0/R03Z2TQA==",
          "dtype": "f8"
         }
        },
        {
         "error_x": {
          "array": {
           "bdata": "AAAAAAAANEAzMzMzMzPDP5qZmZmZmck/AAAAAAAAIkAAAAAAAAAmQClcj8L1KKw//Knx0k1i4j9mZmZmZmbGPwAAAAAAAERAAAAAAABAUEAAAAAAAAAkQHsUrkfheqQ/AAAAAAAANEB7FK5H4XqkP5qZmZmZmbk/mpmZmZmZuT+amZmZmZnpP+xRuB6F67E/AAAAAAAAJEAAAAAAAAAkQAAAAAAAAAAAAAAAAABAZUAAAAAAAABUQAAAAAAAAE5AAAAAAAAA8D8AAAAAAABpQAAAAAAAgGFAAAAAAADAckAAAAAAAIBPQAAAAAAAACZAAAAAAAAAJEAAAAAAAABZQGZmZmZmZvY/zczMzMzMJUAzMzMzMzMLQGZmZmZmZtY/mpmZmZmZqT8AAAAAAAAAAAAAAAAAAAAAAAAAAAAAAAA=",
           "dtype": "f8"
          },
          "type": "data",
          "visible": true
         },
         "error_y": {
          "array": {
           "bdata": "oJ9jjGfpJ0CIETerfy79P6hTPocoheM/gNiwZIvQ/T9okvEUPPUWQCAiro3SGvU/4BmfpdCZA0CQy97cR3cJQEjgx0O3Hh1AeHVfQzcMBkDQBUVWYL0VQFAGfvOkkdw/QErV/J6LHkBwV/5KDOUHQHgmFDOhCwJAWAcp2lqL9D+Alfug3ygQQHCmEgIe0/M/0MCVBR19NkDIqC4zxX1AQMBkwaLEmQVA2NOfpMdZEkDAyqMrivRvQDAe3zmdll9AiNrwkDMsAkCov7VGCUtPQIjvrT75V1JAMMckiBjANUAYsySrmJAjQMh6l1DCV0NAILwdXlP3N0DoftxFt+ldQBhbID+MT15A2Gblt2g/HkCIJe7zWKIDQGAq3e6cSQ1AyEjjXirzBEAQlXcKc1fyP3DTlXY/2ek/QLzH94jb5z8=",
           "dtype": "f8"
          },
          "type": "data",
          "visible": true
         },
         "hovertemplate": "ConeName: %{text}<br>ConeAge: %{x:.2f} ky<br>ConePredAge: %{y:.2f} ky",
         "hovertext": [
          [
           "Te Ahuahu",
           280,
           99.20855140237478
          ],
          [
           "Pu'u Kole (MK_42)",
           7.17,
           16.525134089511354
          ],
          [
           "Kalaieha",
           5.7,
           6.299567031786983
          ],
          [
           "Molcajete Galope",
           180,
           17.990976462506946
          ],
          [
           "Comal Chico",
           137,
           53.599418514774875
          ],
          [
           "Rincon de Chapultepec",
           3,
           11.247277782604337
          ],
          [
           "Teuhtli",
           36.303,
           23.324263992238404
          ],
          [
           "La Tinaja",
           5.96,
           28.631965504656048
          ],
          [
           "Cerro Le Ventana",
           1640,
           63.908898736650244
          ],
          [
           "Janitzio",
           896,
           26.02298715062129
          ],
          [
           "Shiunzan",
           440,
           47.54536018877495
          ],
          [
           "Komezuka",
           3.17,
           5.000141843423674
          ],
          [
           "Togasayama",
           260,
           66.6671185967152
          ],
          [
           "Omuroyama (ID255)",
           3.08,
           27.38623303347916
          ],
          [
           "Koshikirizuka",
           3.32,
           22.092317242641435
          ],
          [
           "Hiratsuka",
           5.52,
           14.240038518227106
          ],
          [
           "Puy de Pariou",
           9.1,
           36.75794265765119
          ],
          [
           "Pico Bandama",
           2.04,
           11.323196745404973
          ],
          [
           "Pasa Tepe",
           210,
           166.1545743672208
          ],
          [
           "Kucukmedet",
           500,
           247.34280428532531
          ],
          [
           "Sunset Crater ",
           0.935,
           25.990933188467228
          ],
          [
           "Cerro Colorado",
           5150,
           44.66931592161522
          ],
          [
           "ID438",
           4680,
           1606.261803738539
          ],
          [
           "N Cerro Merihuaca",
           2480,
           902.0257623076751
          ],
          [
           "Alumbrera",
           37,
           21.61163843432824
          ],
          [
           "E Antofagasta Valley (ID446)",
           4200,
           433.4100697789807
          ],
          [
           "ID453",
           2130,
           542.219018270578
          ],
          [
           "Volcan del Inca",
           3900,
           180.52951492174097
          ],
          [
           "ID460",
           1045,
           69.43483748355725
          ],
          [
           "El Pozo",
           99,
           290.02871857913584
          ],
          [
           "Las Ovejas",
           280,
           182.96360979747007
          ],
          [
           "Pampa de Agnia",
           2490,
           833.9359509422258
          ],
          [
           "Cerro Volcan",
           108.7,
           959.3644180759419
          ],
          [
           "Al Malsa",
           220.5,
           65.44552284011968
          ],
          [
           "As Zayinah",
           410.3,
           22.121944541274246
          ],
          [
           "Trinta",
           7.82,
           34.457449145090145
          ],
          [
           "Cerro Tichso",
           4.13,
           26.458490725762655
          ],
          [
           "Mt Ilice",
           0.99,
           11.614606850724
          ],
          [
           "Mt Lepre",
           1.42,
           8.92920345104503
          ],
          [
           "S Breakthrough",
           0.044,
           7.71213881801179
          ]
         ],
         "marker": {
          "color": "#ffa500",
          "line": {
           "color": "#74797C",
           "width": 0.5
          },
          "size": 8
         },
         "mode": "markers",
         "name": "Validation",
         "showlegend": false,
         "text": [
          "Te Ahuahu",
          "Pu'u Kole (MK_42)",
          "Kalaieha",
          "Molcajete Galope",
          "Comal Chico",
          "Rincon de Chapultepec",
          "Teuhtli",
          "La Tinaja",
          "Cerro Le Ventana",
          "Janitzio",
          "Shiunzan",
          "Komezuka",
          "Togasayama",
          "Omuroyama (ID255)",
          "Koshikirizuka",
          "Hiratsuka",
          "Puy de Pariou",
          "Pico Bandama",
          "Pasa Tepe",
          "Kucukmedet",
          "Sunset Crater ",
          "Cerro Colorado",
          "ID438",
          "N Cerro Merihuaca",
          "Alumbrera",
          "E Antofagasta Valley (ID446)",
          "ID453",
          "Volcan del Inca",
          "ID460",
          "El Pozo",
          "Las Ovejas",
          "Pampa de Agnia",
          "Cerro Volcan",
          "Al Malsa",
          "As Zayinah",
          "Trinta",
          "Cerro Tichso",
          "Mt Ilice",
          "Mt Lepre",
          "S Breakthrough"
         ],
         "type": "scatter",
         "x": {
          "bdata": "AAAAAACAcUCuR+F6FK4cQM3MzMzMzBZAAAAAAACAZkAAAAAAACBhQAAAAAAAAAhAEFg5tMgmQkDXo3A9CtcXQAAAAAAAoJlAAAAAAAAAjEAAAAAAAIB7QFyPwvUoXAlAAAAAAABAcECkcD0K16MIQI/C9ShcjwpAFK5H4XoUFkAzMzMzMzMiQFK4HoXrUQBAAAAAAABAakAAAAAAAEB/QOxRuB6F6+0/AAAAAAAetEAAAAAAAEiyQAAAAAAAYKNAAAAAAACAQkAAAAAAAGiwQAAAAAAApKBAAAAAAAB4rkAAAAAAAFSQQAAAAAAAwFhAAAAAAACAcUAAAAAAAHSjQM3MzMzMLFtAAAAAAACQa0DNzMzMzKR5QEjhehSuRx9AhetRuB6FEECuR+F6FK7vP7gehetRuPY/ukkMAiuHpj8=",
          "dtype": "f8"
         },
         "y": {
          "bdata": "BC/751jNWEBMdwwwb4YwQIbwMbPBMhlAt5IporD9MUCZyfK+ucxKQEWgijGbfiZAMe8J9wJTN0CnssZ9yKE8QO6kNstW9E9AjCVkfOIFOkAWqtdczsVHQJ128y4lABRAftwyErKqUECJbQcr4GI7QHoAUhqiFzZApiEjVOZ6LEB3bddDBGFCQEFgNwt6pSZAbIDxRfLEZEDUTLFA+OpuQN38JMyt/TlAxgPlJKxVRkD7e0cWDBmZQHln3sI0MIxAm2ogVpScNUDNHFSljxZ7QN+qpozA8YBA4/NGyfGQZkADvZhg1FtRQNHinKF1IHJAp8c25NXeZkAp/NjTfA+KQO8xBlTq+o1A2Ps6coNcUEDYsujBNx82QGffjrGNOkFAf6vwpV91OkCng8e/rTonQDIjA47A2yFAe0oW6zrZHkA=",
          "dtype": "f8"
         }
        }
       ],
       "layout": {
        "coloraxis": {
         "colorbar": {
          "len": 150,
          "lenmode": "pixels",
          "thickness": 50,
          "thicknessmode": "pixels",
          "x": 0.8,
          "y": 0.2,
          "yanchor": "middle"
         }
        },
        "font": {
         "family": "DejaVu Sans",
         "size": 20
        },
        "height": 950,
        "legend": {
         "itemsizing": "constant",
         "tracegroupgap": 0,
         "x": 0.01,
         "y": 0.96,
         "yanchor": "middle"
        },
        "margin": {
         "b": 0,
         "l": 0,
         "r": 0,
         "t": 0
        },
        "template": {
         "data": {
          "bar": [
           {
            "error_x": {
             "color": "rgb(36,36,36)"
            },
            "error_y": {
             "color": "rgb(36,36,36)"
            },
            "marker": {
             "line": {
              "color": "white",
              "width": 0.5
             },
             "pattern": {
              "fillmode": "overlay",
              "size": 10,
              "solidity": 0.2
             }
            },
            "type": "bar"
           }
          ],
          "barpolar": [
           {
            "marker": {
             "line": {
              "color": "white",
              "width": 0.5
             },
             "pattern": {
              "fillmode": "overlay",
              "size": 10,
              "solidity": 0.2
             }
            },
            "type": "barpolar"
           }
          ],
          "carpet": [
           {
            "aaxis": {
             "endlinecolor": "rgb(36,36,36)",
             "gridcolor": "white",
             "linecolor": "white",
             "minorgridcolor": "white",
             "startlinecolor": "rgb(36,36,36)"
            },
            "baxis": {
             "endlinecolor": "rgb(36,36,36)",
             "gridcolor": "white",
             "linecolor": "white",
             "minorgridcolor": "white",
             "startlinecolor": "rgb(36,36,36)"
            },
            "type": "carpet"
           }
          ],
          "choropleth": [
           {
            "colorbar": {
             "outlinewidth": 1,
             "tickcolor": "rgb(36,36,36)",
             "ticks": "outside"
            },
            "type": "choropleth"
           }
          ],
          "contour": [
           {
            "colorbar": {
             "outlinewidth": 1,
             "tickcolor": "rgb(36,36,36)",
             "ticks": "outside"
            },
            "colorscale": [
             [
              0,
              "#440154"
             ],
             [
              0.1111111111111111,
              "#482878"
             ],
             [
              0.2222222222222222,
              "#3e4989"
             ],
             [
              0.3333333333333333,
              "#31688e"
             ],
             [
              0.4444444444444444,
              "#26828e"
             ],
             [
              0.5555555555555556,
              "#1f9e89"
             ],
             [
              0.6666666666666666,
              "#35b779"
             ],
             [
              0.7777777777777778,
              "#6ece58"
             ],
             [
              0.8888888888888888,
              "#b5de2b"
             ],
             [
              1,
              "#fde725"
             ]
            ],
            "type": "contour"
           }
          ],
          "contourcarpet": [
           {
            "colorbar": {
             "outlinewidth": 1,
             "tickcolor": "rgb(36,36,36)",
             "ticks": "outside"
            },
            "type": "contourcarpet"
           }
          ],
          "heatmap": [
           {
            "colorbar": {
             "outlinewidth": 1,
             "tickcolor": "rgb(36,36,36)",
             "ticks": "outside"
            },
            "colorscale": [
             [
              0,
              "#440154"
             ],
             [
              0.1111111111111111,
              "#482878"
             ],
             [
              0.2222222222222222,
              "#3e4989"
             ],
             [
              0.3333333333333333,
              "#31688e"
             ],
             [
              0.4444444444444444,
              "#26828e"
             ],
             [
              0.5555555555555556,
              "#1f9e89"
             ],
             [
              0.6666666666666666,
              "#35b779"
             ],
             [
              0.7777777777777778,
              "#6ece58"
             ],
             [
              0.8888888888888888,
              "#b5de2b"
             ],
             [
              1,
              "#fde725"
             ]
            ],
            "type": "heatmap"
           }
          ],
          "histogram": [
           {
            "marker": {
             "line": {
              "color": "white",
              "width": 0.6
             }
            },
            "type": "histogram"
           }
          ],
          "histogram2d": [
           {
            "colorbar": {
             "outlinewidth": 1,
             "tickcolor": "rgb(36,36,36)",
             "ticks": "outside"
            },
            "colorscale": [
             [
              0,
              "#440154"
             ],
             [
              0.1111111111111111,
              "#482878"
             ],
             [
              0.2222222222222222,
              "#3e4989"
             ],
             [
              0.3333333333333333,
              "#31688e"
             ],
             [
              0.4444444444444444,
              "#26828e"
             ],
             [
              0.5555555555555556,
              "#1f9e89"
             ],
             [
              0.6666666666666666,
              "#35b779"
             ],
             [
              0.7777777777777778,
              "#6ece58"
             ],
             [
              0.8888888888888888,
              "#b5de2b"
             ],
             [
              1,
              "#fde725"
             ]
            ],
            "type": "histogram2d"
           }
          ],
          "histogram2dcontour": [
           {
            "colorbar": {
             "outlinewidth": 1,
             "tickcolor": "rgb(36,36,36)",
             "ticks": "outside"
            },
            "colorscale": [
             [
              0,
              "#440154"
             ],
             [
              0.1111111111111111,
              "#482878"
             ],
             [
              0.2222222222222222,
              "#3e4989"
             ],
             [
              0.3333333333333333,
              "#31688e"
             ],
             [
              0.4444444444444444,
              "#26828e"
             ],
             [
              0.5555555555555556,
              "#1f9e89"
             ],
             [
              0.6666666666666666,
              "#35b779"
             ],
             [
              0.7777777777777778,
              "#6ece58"
             ],
             [
              0.8888888888888888,
              "#b5de2b"
             ],
             [
              1,
              "#fde725"
             ]
            ],
            "type": "histogram2dcontour"
           }
          ],
          "mesh3d": [
           {
            "colorbar": {
             "outlinewidth": 1,
             "tickcolor": "rgb(36,36,36)",
             "ticks": "outside"
            },
            "type": "mesh3d"
           }
          ],
          "parcoords": [
           {
            "line": {
             "colorbar": {
              "outlinewidth": 1,
              "tickcolor": "rgb(36,36,36)",
              "ticks": "outside"
             }
            },
            "type": "parcoords"
           }
          ],
          "pie": [
           {
            "automargin": true,
            "type": "pie"
           }
          ],
          "scatter": [
           {
            "fillpattern": {
             "fillmode": "overlay",
             "size": 10,
             "solidity": 0.2
            },
            "type": "scatter"
           }
          ],
          "scatter3d": [
           {
            "line": {
             "colorbar": {
              "outlinewidth": 1,
              "tickcolor": "rgb(36,36,36)",
              "ticks": "outside"
             }
            },
            "marker": {
             "colorbar": {
              "outlinewidth": 1,
              "tickcolor": "rgb(36,36,36)",
              "ticks": "outside"
             }
            },
            "type": "scatter3d"
           }
          ],
          "scattercarpet": [
           {
            "marker": {
             "colorbar": {
              "outlinewidth": 1,
              "tickcolor": "rgb(36,36,36)",
              "ticks": "outside"
             }
            },
            "type": "scattercarpet"
           }
          ],
          "scattergeo": [
           {
            "marker": {
             "colorbar": {
              "outlinewidth": 1,
              "tickcolor": "rgb(36,36,36)",
              "ticks": "outside"
             }
            },
            "type": "scattergeo"
           }
          ],
          "scattergl": [
           {
            "marker": {
             "colorbar": {
              "outlinewidth": 1,
              "tickcolor": "rgb(36,36,36)",
              "ticks": "outside"
             }
            },
            "type": "scattergl"
           }
          ],
          "scattermap": [
           {
            "marker": {
             "colorbar": {
              "outlinewidth": 1,
              "tickcolor": "rgb(36,36,36)",
              "ticks": "outside"
             }
            },
            "type": "scattermap"
           }
          ],
          "scattermapbox": [
           {
            "marker": {
             "colorbar": {
              "outlinewidth": 1,
              "tickcolor": "rgb(36,36,36)",
              "ticks": "outside"
             }
            },
            "type": "scattermapbox"
           }
          ],
          "scatterpolar": [
           {
            "marker": {
             "colorbar": {
              "outlinewidth": 1,
              "tickcolor": "rgb(36,36,36)",
              "ticks": "outside"
             }
            },
            "type": "scatterpolar"
           }
          ],
          "scatterpolargl": [
           {
            "marker": {
             "colorbar": {
              "outlinewidth": 1,
              "tickcolor": "rgb(36,36,36)",
              "ticks": "outside"
             }
            },
            "type": "scatterpolargl"
           }
          ],
          "scatterternary": [
           {
            "marker": {
             "colorbar": {
              "outlinewidth": 1,
              "tickcolor": "rgb(36,36,36)",
              "ticks": "outside"
             }
            },
            "type": "scatterternary"
           }
          ],
          "surface": [
           {
            "colorbar": {
             "outlinewidth": 1,
             "tickcolor": "rgb(36,36,36)",
             "ticks": "outside"
            },
            "colorscale": [
             [
              0,
              "#440154"
             ],
             [
              0.1111111111111111,
              "#482878"
             ],
             [
              0.2222222222222222,
              "#3e4989"
             ],
             [
              0.3333333333333333,
              "#31688e"
             ],
             [
              0.4444444444444444,
              "#26828e"
             ],
             [
              0.5555555555555556,
              "#1f9e89"
             ],
             [
              0.6666666666666666,
              "#35b779"
             ],
             [
              0.7777777777777778,
              "#6ece58"
             ],
             [
              0.8888888888888888,
              "#b5de2b"
             ],
             [
              1,
              "#fde725"
             ]
            ],
            "type": "surface"
           }
          ],
          "table": [
           {
            "cells": {
             "fill": {
              "color": "rgb(237,237,237)"
             },
             "line": {
              "color": "white"
             }
            },
            "header": {
             "fill": {
              "color": "rgb(217,217,217)"
             },
             "line": {
              "color": "white"
             }
            },
            "type": "table"
           }
          ]
         },
         "layout": {
          "annotationdefaults": {
           "arrowhead": 0,
           "arrowwidth": 1
          },
          "autotypenumbers": "strict",
          "coloraxis": {
           "colorbar": {
            "outlinewidth": 1,
            "tickcolor": "rgb(36,36,36)",
            "ticks": "outside"
           }
          },
          "colorscale": {
           "diverging": [
            [
             0,
             "rgb(103,0,31)"
            ],
            [
             0.1,
             "rgb(178,24,43)"
            ],
            [
             0.2,
             "rgb(214,96,77)"
            ],
            [
             0.3,
             "rgb(244,165,130)"
            ],
            [
             0.4,
             "rgb(253,219,199)"
            ],
            [
             0.5,
             "rgb(247,247,247)"
            ],
            [
             0.6,
             "rgb(209,229,240)"
            ],
            [
             0.7,
             "rgb(146,197,222)"
            ],
            [
             0.8,
             "rgb(67,147,195)"
            ],
            [
             0.9,
             "rgb(33,102,172)"
            ],
            [
             1,
             "rgb(5,48,97)"
            ]
           ],
           "sequential": [
            [
             0,
             "#440154"
            ],
            [
             0.1111111111111111,
             "#482878"
            ],
            [
             0.2222222222222222,
             "#3e4989"
            ],
            [
             0.3333333333333333,
             "#31688e"
            ],
            [
             0.4444444444444444,
             "#26828e"
            ],
            [
             0.5555555555555556,
             "#1f9e89"
            ],
            [
             0.6666666666666666,
             "#35b779"
            ],
            [
             0.7777777777777778,
             "#6ece58"
            ],
            [
             0.8888888888888888,
             "#b5de2b"
            ],
            [
             1,
             "#fde725"
            ]
           ],
           "sequentialminus": [
            [
             0,
             "#440154"
            ],
            [
             0.1111111111111111,
             "#482878"
            ],
            [
             0.2222222222222222,
             "#3e4989"
            ],
            [
             0.3333333333333333,
             "#31688e"
            ],
            [
             0.4444444444444444,
             "#26828e"
            ],
            [
             0.5555555555555556,
             "#1f9e89"
            ],
            [
             0.6666666666666666,
             "#35b779"
            ],
            [
             0.7777777777777778,
             "#6ece58"
            ],
            [
             0.8888888888888888,
             "#b5de2b"
            ],
            [
             1,
             "#fde725"
            ]
           ]
          },
          "colorway": [
           "#1F77B4",
           "#FF7F0E",
           "#2CA02C",
           "#D62728",
           "#9467BD",
           "#8C564B",
           "#E377C2",
           "#7F7F7F",
           "#BCBD22",
           "#17BECF"
          ],
          "font": {
           "color": "rgb(36,36,36)"
          },
          "geo": {
           "bgcolor": "white",
           "lakecolor": "white",
           "landcolor": "white",
           "showlakes": true,
           "showland": true,
           "subunitcolor": "white"
          },
          "hoverlabel": {
           "align": "left"
          },
          "hovermode": "closest",
          "mapbox": {
           "style": "light"
          },
          "paper_bgcolor": "white",
          "plot_bgcolor": "white",
          "polar": {
           "angularaxis": {
            "gridcolor": "rgb(232,232,232)",
            "linecolor": "rgb(36,36,36)",
            "showgrid": false,
            "showline": true,
            "ticks": "outside"
           },
           "bgcolor": "white",
           "radialaxis": {
            "gridcolor": "rgb(232,232,232)",
            "linecolor": "rgb(36,36,36)",
            "showgrid": false,
            "showline": true,
            "ticks": "outside"
           }
          },
          "scene": {
           "xaxis": {
            "backgroundcolor": "white",
            "gridcolor": "rgb(232,232,232)",
            "gridwidth": 2,
            "linecolor": "rgb(36,36,36)",
            "showbackground": true,
            "showgrid": false,
            "showline": true,
            "ticks": "outside",
            "zeroline": false,
            "zerolinecolor": "rgb(36,36,36)"
           },
           "yaxis": {
            "backgroundcolor": "white",
            "gridcolor": "rgb(232,232,232)",
            "gridwidth": 2,
            "linecolor": "rgb(36,36,36)",
            "showbackground": true,
            "showgrid": false,
            "showline": true,
            "ticks": "outside",
            "zeroline": false,
            "zerolinecolor": "rgb(36,36,36)"
           },
           "zaxis": {
            "backgroundcolor": "white",
            "gridcolor": "rgb(232,232,232)",
            "gridwidth": 2,
            "linecolor": "rgb(36,36,36)",
            "showbackground": true,
            "showgrid": false,
            "showline": true,
            "ticks": "outside",
            "zeroline": false,
            "zerolinecolor": "rgb(36,36,36)"
           }
          },
          "shapedefaults": {
           "fillcolor": "black",
           "line": {
            "width": 0
           },
           "opacity": 0.3
          },
          "ternary": {
           "aaxis": {
            "gridcolor": "rgb(232,232,232)",
            "linecolor": "rgb(36,36,36)",
            "showgrid": false,
            "showline": true,
            "ticks": "outside"
           },
           "baxis": {
            "gridcolor": "rgb(232,232,232)",
            "linecolor": "rgb(36,36,36)",
            "showgrid": false,
            "showline": true,
            "ticks": "outside"
           },
           "bgcolor": "white",
           "caxis": {
            "gridcolor": "rgb(232,232,232)",
            "linecolor": "rgb(36,36,36)",
            "showgrid": false,
            "showline": true,
            "ticks": "outside"
           }
          },
          "title": {
           "x": 0.05
          },
          "xaxis": {
           "automargin": true,
           "gridcolor": "rgb(232,232,232)",
           "linecolor": "rgb(36,36,36)",
           "showgrid": false,
           "showline": true,
           "ticks": "outside",
           "title": {
            "standoff": 15
           },
           "zeroline": false,
           "zerolinecolor": "rgb(36,36,36)"
          },
          "yaxis": {
           "automargin": true,
           "gridcolor": "rgb(232,232,232)",
           "linecolor": "rgb(36,36,36)",
           "showgrid": false,
           "showline": true,
           "ticks": "outside",
           "title": {
            "standoff": 15
           },
           "zeroline": false,
           "zerolinecolor": "rgb(36,36,36)"
          }
         }
        },
        "width": 950,
        "xaxis": {
         "anchor": "y",
         "domain": [
          0,
          1
         ],
         "linecolor": "black",
         "linewidth": 2,
         "mirror": true,
         "range": [
          -1.9999999999999996,
          4.176091259055681
         ],
         "showline": true,
         "tickfont": {
          "size": 20
         },
         "title": {
          "text": "Measured Age (ky)"
         },
         "type": "log"
        },
        "yaxis": {
         "anchor": "x",
         "domain": [
          0,
          1
         ],
         "linecolor": "black",
         "linewidth": 2,
         "mirror": true,
         "range": [
          -1.9999999999999996,
          4.176091259055681
         ],
         "showline": true,
         "tickfont": {
          "size": 20
         },
         "title": {
          "text": "Predicted Age (ky)"
         },
         "type": "log"
        }
       }
      },
      "image/png": "[encoded data removed]"
     },
     "metadata": {},
     "output_type": "display_data"
    },
    {
     "data": {
      "application/vnd.plotly.v1+json": {
       "config": {
        "plotlyServerURL": "https://plot.ly"
       },
       "data": [
        {
         "name": "Pred Training",
         "opacity": 0.75,
         "type": "histogram",
         "x": {
          "bdata": "PpX3kZqtGUAuHEss91MQQPx84M7dbwpAmq+tXW6LCEBb4dd2n34XQDLVjJ23QxZA4dPhG8e1B0A1Ww6frTARQMws4oavtA1AtnT7Q/yMB0B7L+5+LpUAQA93fcAuVw1AAyaalj6PDEBoVZfPwTcQQOU15t0fPSNAj2pN9HYaDEC2EwOfGhb7Pwk9+s58WAZATyIUBPnvBECqPdNqDKT9P3gbZ98xkwxA+BWvdhPxE0DoQnVJHb8QQFvJJF5skRJAXLG7C4EqA0CWhgf3uJYFQDBrwbaxugJAsomZq7LsC0BMrACdcakiQGRwgRgNWR5Ad3T4YbcQ/z/4U9MXluYaQGpV5DM8TgRANvLESvR+B0B5soEL1nMPQDBBkvhLlhtAIDoQ0u5iBkC7FdiNST8RQMlKfIR9/RZAqa3WDFQVE0A3vQc4CsYiQP+46wj0oBZAudzAeLD1A0D1+bLOP9YHQGFG2I0x2ABAiqblbJ3R+j91Ef5gASoLQKRBaMzgJw1AoCxYDD5GCkAjQAta3ucSQA4ufX7axh1AGGgM1efdC0AkUX2FBGYGQOpEjEg61AhA8n7/Vy/sD0Bu202k8JMEQL7OqFPknvA/gdnntA1FB0Do82upiL0LQG1+X9Ql8AxA3gtZWdAfBEDyur61TxoDQGAqc430hAZAKqv2UulUEUAA6DdU7SYOQGs4m9vemhRAeEbvWlz4IUDhO+faFGgIQOeRh/IwwRdAb8Mz8fD3B0BuVagdMqUOQFiFsnh9YRNAtVR1CKaRDEDP1Ltb6xsZQO6D3Kl0xxJANk4NAMPOIkAu54B84LAMQGqXQUf7QhlAMtP8vDBF8D8JC1Ner3EmQOS3U5ERcxdAxDotZNQsKkA/POnH9OoQQLQNDQqUuRxA/PVC6ERHAUBEbmhBKJcaQEiZ2LQz7xJA8lAlkSZzBEAxBAc1yDIFQDylE9lCEQdAbpayW6Sy/D/n8kKAlA0JQFT+WFYUfxpAVAscSmDfCEDJtu/Yl0sPQGxFcMHt7QpAxKZ1q1wlC0DQrCg6OIASQHBhyMSV9hZAXQYxZELAAUDmOEwHY9IiQHcInOnsywpA8jO3TMPn+j8vIoRnwTQRQAoDNX5YYvI/yCHKfbiSDkDPx/Z/QTsRQLJAahvJHQFAaRWMqmL8C0D0Fb0/22QLQFZYq3gf7QVA5SSeQrMBBkBgUEnBguADQIqS2f8WjRNAdk3m+JOnFEAbdDkklEoMQEQZ1DlyNgFAR1iAuq0sAkCkG7hEGQEGQJBp4G5KVwJARVoBp59/EkDGV1wm+SwRQI7ZWRFHdglAVHoG/wE7AEBWULT1jikCQI5+dhsJAxNAvG4Gl/djDECUfwLsG3YGQHK/RkDFsQVAVI66ePhsE0BuTYtOBRoLQJwIMKwUjQ1APOh6mIRdCkDNAlwIY5cDQDITw4EWdyBAF+vGAza4DUACYtW20NINQKDQXXBEKhxABYTdcpjoBkBsy86Qu1QZQJxPkrlebQBAaOh+r+6HCEASh8i5eL0XQIQaUyrTlwRARpb5KxYxB0DitIPrYFP0P9hyJyTrrgZA0mXNkLbRBEDp8zcF/9sYQMyxl+QbwRdAeMrmUgETFkBstVWytLMKQI9VsrhafgdACrrYwgBlCEAA6tJXZgMgQKQUzWrBZRNA2/N73YHQF0C3l+Rl+ooQQMRc20Ck/RlA3HiR/D0CCEBn/PAzgoocQA==",
          "dtype": "f8"
         },
         "xbins": {
          "end": 9.615805480084347,
          "size": 0.2,
          "start": -4.605170185988091
         }
        },
        {
         "name": "Pred Validation",
         "opacity": 0.75,
         "type": "histogram",
         "x": {
          "bdata": "YvaRvo5jEkB2nHY8ZnAGQDqaPRuccv0/yFwtVXQeB0DVOMG1MNoPQEYL5xVrXANAVvjEAioyCUDqFcGOENYKQCvHlNQ8oRBA718/P2QSCkCkTHqwuuQOQBYS+7ZfwPk/HHPWQ4HMEEClLdx79noKQBBKbeYHwwhALUT5IZs/BUCBk/O4t9UMQFagryEyagNAdqkA6qBzFED2IYWqCAsWQBp75Q3eDwpAunwpffBkDkBZ1q4p04YdQIzmFlv0NxtADpvGpvqVCECZR3+dZ0kYQE6FqR7ELhlAyEO6gpjIFEAmdxd2KPYQQIa2MDkPrhZA3baTZ0/WFEDAFaWYlecaQFvaxb4PdxtAhInEO5G5EEDOee+IxsUIQCuEuHJbUQxAPsuPxmE0CkBKwr1VPJ4DQGS4hPm9gwFAJ9J7MqVXAEA=",
          "dtype": "f8"
         },
         "xbins": {
          "end": 9.615805480084347,
          "size": 0.2,
          "start": -4.605170185988091
         }
        }
       ],
       "layout": {
        "barmode": "overlay",
        "font": {
         "family": "DejaVu Sans",
         "size": 20
        },
        "legend": {
         "x": 0.99,
         "xanchor": "right",
         "y": 0.99,
         "yanchor": "top"
        },
        "margin": {
         "b": 0,
         "l": 0,
         "r": 0,
         "t": 0
        },
        "showlegend": false,
        "template": {
         "data": {
          "bar": [
           {
            "error_x": {
             "color": "rgb(36,36,36)"
            },
            "error_y": {
             "color": "rgb(36,36,36)"
            },
            "marker": {
             "line": {
              "color": "white",
              "width": 0.5
             },
             "pattern": {
              "fillmode": "overlay",
              "size": 10,
              "solidity": 0.2
             }
            },
            "type": "bar"
           }
          ],
          "barpolar": [
           {
            "marker": {
             "line": {
              "color": "white",
              "width": 0.5
             },
             "pattern": {
              "fillmode": "overlay",
              "size": 10,
              "solidity": 0.2
             }
            },
            "type": "barpolar"
           }
          ],
          "carpet": [
           {
            "aaxis": {
             "endlinecolor": "rgb(36,36,36)",
             "gridcolor": "white",
             "linecolor": "white",
             "minorgridcolor": "white",
             "startlinecolor": "rgb(36,36,36)"
            },
            "baxis": {
             "endlinecolor": "rgb(36,36,36)",
             "gridcolor": "white",
             "linecolor": "white",
             "minorgridcolor": "white",
             "startlinecolor": "rgb(36,36,36)"
            },
            "type": "carpet"
           }
          ],
          "choropleth": [
           {
            "colorbar": {
             "outlinewidth": 1,
             "tickcolor": "rgb(36,36,36)",
             "ticks": "outside"
            },
            "type": "choropleth"
           }
          ],
          "contour": [
           {
            "colorbar": {
             "outlinewidth": 1,
             "tickcolor": "rgb(36,36,36)",
             "ticks": "outside"
            },
            "colorscale": [
             [
              0,
              "#440154"
             ],
             [
              0.1111111111111111,
              "#482878"
             ],
             [
              0.2222222222222222,
              "#3e4989"
             ],
             [
              0.3333333333333333,
              "#31688e"
             ],
             [
              0.4444444444444444,
              "#26828e"
             ],
             [
              0.5555555555555556,
              "#1f9e89"
             ],
             [
              0.6666666666666666,
              "#35b779"
             ],
             [
              0.7777777777777778,
              "#6ece58"
             ],
             [
              0.8888888888888888,
              "#b5de2b"
             ],
             [
              1,
              "#fde725"
             ]
            ],
            "type": "contour"
           }
          ],
          "contourcarpet": [
           {
            "colorbar": {
             "outlinewidth": 1,
             "tickcolor": "rgb(36,36,36)",
             "ticks": "outside"
            },
            "type": "contourcarpet"
           }
          ],
          "heatmap": [
           {
            "colorbar": {
             "outlinewidth": 1,
             "tickcolor": "rgb(36,36,36)",
             "ticks": "outside"
            },
            "colorscale": [
             [
              0,
              "#440154"
             ],
             [
              0.1111111111111111,
              "#482878"
             ],
             [
              0.2222222222222222,
              "#3e4989"
             ],
             [
              0.3333333333333333,
              "#31688e"
             ],
             [
              0.4444444444444444,
              "#26828e"
             ],
             [
              0.5555555555555556,
              "#1f9e89"
             ],
             [
              0.6666666666666666,
              "#35b779"
             ],
             [
              0.7777777777777778,
              "#6ece58"
             ],
             [
              0.8888888888888888,
              "#b5de2b"
             ],
             [
              1,
              "#fde725"
             ]
            ],
            "type": "heatmap"
           }
          ],
          "histogram": [
           {
            "marker": {
             "line": {
              "color": "white",
              "width": 0.6
             }
            },
            "type": "histogram"
           }
          ],
          "histogram2d": [
           {
            "colorbar": {
             "outlinewidth": 1,
             "tickcolor": "rgb(36,36,36)",
             "ticks": "outside"
            },
            "colorscale": [
             [
              0,
              "#440154"
             ],
             [
              0.1111111111111111,
              "#482878"
             ],
             [
              0.2222222222222222,
              "#3e4989"
             ],
             [
              0.3333333333333333,
              "#31688e"
             ],
             [
              0.4444444444444444,
              "#26828e"
             ],
             [
              0.5555555555555556,
              "#1f9e89"
             ],
             [
              0.6666666666666666,
              "#35b779"
             ],
             [
              0.7777777777777778,
              "#6ece58"
             ],
             [
              0.8888888888888888,
              "#b5de2b"
             ],
             [
              1,
              "#fde725"
             ]
            ],
            "type": "histogram2d"
           }
          ],
          "histogram2dcontour": [
           {
            "colorbar": {
             "outlinewidth": 1,
             "tickcolor": "rgb(36,36,36)",
             "ticks": "outside"
            },
            "colorscale": [
             [
              0,
              "#440154"
             ],
             [
              0.1111111111111111,
              "#482878"
             ],
             [
              0.2222222222222222,
              "#3e4989"
             ],
             [
              0.3333333333333333,
              "#31688e"
             ],
             [
              0.4444444444444444,
              "#26828e"
             ],
             [
              0.5555555555555556,
              "#1f9e89"
             ],
             [
              0.6666666666666666,
              "#35b779"
             ],
             [
              0.7777777777777778,
              "#6ece58"
             ],
             [
              0.8888888888888888,
              "#b5de2b"
             ],
             [
              1,
              "#fde725"
             ]
            ],
            "type": "histogram2dcontour"
           }
          ],
          "mesh3d": [
           {
            "colorbar": {
             "outlinewidth": 1,
             "tickcolor": "rgb(36,36,36)",
             "ticks": "outside"
            },
            "type": "mesh3d"
           }
          ],
          "parcoords": [
           {
            "line": {
             "colorbar": {
              "outlinewidth": 1,
              "tickcolor": "rgb(36,36,36)",
              "ticks": "outside"
             }
            },
            "type": "parcoords"
           }
          ],
          "pie": [
           {
            "automargin": true,
            "type": "pie"
           }
          ],
          "scatter": [
           {
            "fillpattern": {
             "fillmode": "overlay",
             "size": 10,
             "solidity": 0.2
            },
            "type": "scatter"
           }
          ],
          "scatter3d": [
           {
            "line": {
             "colorbar": {
              "outlinewidth": 1,
              "tickcolor": "rgb(36,36,36)",
              "ticks": "outside"
             }
            },
            "marker": {
             "colorbar": {
              "outlinewidth": 1,
              "tickcolor": "rgb(36,36,36)",
              "ticks": "outside"
             }
            },
            "type": "scatter3d"
           }
          ],
          "scattercarpet": [
           {
            "marker": {
             "colorbar": {
              "outlinewidth": 1,
              "tickcolor": "rgb(36,36,36)",
              "ticks": "outside"
             }
            },
            "type": "scattercarpet"
           }
          ],
          "scattergeo": [
           {
            "marker": {
             "colorbar": {
              "outlinewidth": 1,
              "tickcolor": "rgb(36,36,36)",
              "ticks": "outside"
             }
            },
            "type": "scattergeo"
           }
          ],
          "scattergl": [
           {
            "marker": {
             "colorbar": {
              "outlinewidth": 1,
              "tickcolor": "rgb(36,36,36)",
              "ticks": "outside"
             }
            },
            "type": "scattergl"
           }
          ],
          "scattermap": [
           {
            "marker": {
             "colorbar": {
              "outlinewidth": 1,
              "tickcolor": "rgb(36,36,36)",
              "ticks": "outside"
             }
            },
            "type": "scattermap"
           }
          ],
          "scattermapbox": [
           {
            "marker": {
             "colorbar": {
              "outlinewidth": 1,
              "tickcolor": "rgb(36,36,36)",
              "ticks": "outside"
             }
            },
            "type": "scattermapbox"
           }
          ],
          "scatterpolar": [
           {
            "marker": {
             "colorbar": {
              "outlinewidth": 1,
              "tickcolor": "rgb(36,36,36)",
              "ticks": "outside"
             }
            },
            "type": "scatterpolar"
           }
          ],
          "scatterpolargl": [
           {
            "marker": {
             "colorbar": {
              "outlinewidth": 1,
              "tickcolor": "rgb(36,36,36)",
              "ticks": "outside"
             }
            },
            "type": "scatterpolargl"
           }
          ],
          "scatterternary": [
           {
            "marker": {
             "colorbar": {
              "outlinewidth": 1,
              "tickcolor": "rgb(36,36,36)",
              "ticks": "outside"
             }
            },
            "type": "scatterternary"
           }
          ],
          "surface": [
           {
            "colorbar": {
             "outlinewidth": 1,
             "tickcolor": "rgb(36,36,36)",
             "ticks": "outside"
            },
            "colorscale": [
             [
              0,
              "#440154"
             ],
             [
              0.1111111111111111,
              "#482878"
             ],
             [
              0.2222222222222222,
              "#3e4989"
             ],
             [
              0.3333333333333333,
              "#31688e"
             ],
             [
              0.4444444444444444,
              "#26828e"
             ],
             [
              0.5555555555555556,
              "#1f9e89"
             ],
             [
              0.6666666666666666,
              "#35b779"
             ],
             [
              0.7777777777777778,
              "#6ece58"
             ],
             [
              0.8888888888888888,
              "#b5de2b"
             ],
             [
              1,
              "#fde725"
             ]
            ],
            "type": "surface"
           }
          ],
          "table": [
           {
            "cells": {
             "fill": {
              "color": "rgb(237,237,237)"
             },
             "line": {
              "color": "white"
             }
            },
            "header": {
             "fill": {
              "color": "rgb(217,217,217)"
             },
             "line": {
              "color": "white"
             }
            },
            "type": "table"
           }
          ]
         },
         "layout": {
          "annotationdefaults": {
           "arrowhead": 0,
           "arrowwidth": 1
          },
          "autotypenumbers": "strict",
          "coloraxis": {
           "colorbar": {
            "outlinewidth": 1,
            "tickcolor": "rgb(36,36,36)",
            "ticks": "outside"
           }
          },
          "colorscale": {
           "diverging": [
            [
             0,
             "rgb(103,0,31)"
            ],
            [
             0.1,
             "rgb(178,24,43)"
            ],
            [
             0.2,
             "rgb(214,96,77)"
            ],
            [
             0.3,
             "rgb(244,165,130)"
            ],
            [
             0.4,
             "rgb(253,219,199)"
            ],
            [
             0.5,
             "rgb(247,247,247)"
            ],
            [
             0.6,
             "rgb(209,229,240)"
            ],
            [
             0.7,
             "rgb(146,197,222)"
            ],
            [
             0.8,
             "rgb(67,147,195)"
            ],
            [
             0.9,
             "rgb(33,102,172)"
            ],
            [
             1,
             "rgb(5,48,97)"
            ]
           ],
           "sequential": [
            [
             0,
             "#440154"
            ],
            [
             0.1111111111111111,
             "#482878"
            ],
            [
             0.2222222222222222,
             "#3e4989"
            ],
            [
             0.3333333333333333,
             "#31688e"
            ],
            [
             0.4444444444444444,
             "#26828e"
            ],
            [
             0.5555555555555556,
             "#1f9e89"
            ],
            [
             0.6666666666666666,
             "#35b779"
            ],
            [
             0.7777777777777778,
             "#6ece58"
            ],
            [
             0.8888888888888888,
             "#b5de2b"
            ],
            [
             1,
             "#fde725"
            ]
           ],
           "sequentialminus": [
            [
             0,
             "#440154"
            ],
            [
             0.1111111111111111,
             "#482878"
            ],
            [
             0.2222222222222222,
             "#3e4989"
            ],
            [
             0.3333333333333333,
             "#31688e"
            ],
            [
             0.4444444444444444,
             "#26828e"
            ],
            [
             0.5555555555555556,
             "#1f9e89"
            ],
            [
             0.6666666666666666,
             "#35b779"
            ],
            [
             0.7777777777777778,
             "#6ece58"
            ],
            [
             0.8888888888888888,
             "#b5de2b"
            ],
            [
             1,
             "#fde725"
            ]
           ]
          },
          "colorway": [
           "#1F77B4",
           "#FF7F0E",
           "#2CA02C",
           "#D62728",
           "#9467BD",
           "#8C564B",
           "#E377C2",
           "#7F7F7F",
           "#BCBD22",
           "#17BECF"
          ],
          "font": {
           "color": "rgb(36,36,36)"
          },
          "geo": {
           "bgcolor": "white",
           "lakecolor": "white",
           "landcolor": "white",
           "showlakes": true,
           "showland": true,
           "subunitcolor": "white"
          },
          "hoverlabel": {
           "align": "left"
          },
          "hovermode": "closest",
          "mapbox": {
           "style": "light"
          },
          "paper_bgcolor": "white",
          "plot_bgcolor": "white",
          "polar": {
           "angularaxis": {
            "gridcolor": "rgb(232,232,232)",
            "linecolor": "rgb(36,36,36)",
            "showgrid": false,
            "showline": true,
            "ticks": "outside"
           },
           "bgcolor": "white",
           "radialaxis": {
            "gridcolor": "rgb(232,232,232)",
            "linecolor": "rgb(36,36,36)",
            "showgrid": false,
            "showline": true,
            "ticks": "outside"
           }
          },
          "scene": {
           "xaxis": {
            "backgroundcolor": "white",
            "gridcolor": "rgb(232,232,232)",
            "gridwidth": 2,
            "linecolor": "rgb(36,36,36)",
            "showbackground": true,
            "showgrid": false,
            "showline": true,
            "ticks": "outside",
            "zeroline": false,
            "zerolinecolor": "rgb(36,36,36)"
           },
           "yaxis": {
            "backgroundcolor": "white",
            "gridcolor": "rgb(232,232,232)",
            "gridwidth": 2,
            "linecolor": "rgb(36,36,36)",
            "showbackground": true,
            "showgrid": false,
            "showline": true,
            "ticks": "outside",
            "zeroline": false,
            "zerolinecolor": "rgb(36,36,36)"
           },
           "zaxis": {
            "backgroundcolor": "white",
            "gridcolor": "rgb(232,232,232)",
            "gridwidth": 2,
            "linecolor": "rgb(36,36,36)",
            "showbackground": true,
            "showgrid": false,
            "showline": true,
            "ticks": "outside",
            "zeroline": false,
            "zerolinecolor": "rgb(36,36,36)"
           }
          },
          "shapedefaults": {
           "fillcolor": "black",
           "line": {
            "width": 0
           },
           "opacity": 0.3
          },
          "ternary": {
           "aaxis": {
            "gridcolor": "rgb(232,232,232)",
            "linecolor": "rgb(36,36,36)",
            "showgrid": false,
            "showline": true,
            "ticks": "outside"
           },
           "baxis": {
            "gridcolor": "rgb(232,232,232)",
            "linecolor": "rgb(36,36,36)",
            "showgrid": false,
            "showline": true,
            "ticks": "outside"
           },
           "bgcolor": "white",
           "caxis": {
            "gridcolor": "rgb(232,232,232)",
            "linecolor": "rgb(36,36,36)",
            "showgrid": false,
            "showline": true,
            "ticks": "outside"
           }
          },
          "title": {
           "x": 0.05
          },
          "xaxis": {
           "automargin": true,
           "gridcolor": "rgb(232,232,232)",
           "linecolor": "rgb(36,36,36)",
           "showgrid": false,
           "showline": true,
           "ticks": "outside",
           "title": {
            "standoff": 15
           },
           "zeroline": false,
           "zerolinecolor": "rgb(36,36,36)"
          },
          "yaxis": {
           "automargin": true,
           "gridcolor": "rgb(232,232,232)",
           "linecolor": "rgb(36,36,36)",
           "showgrid": false,
           "showline": true,
           "ticks": "outside",
           "title": {
            "standoff": 15
           },
           "zeroline": false,
           "zerolinecolor": "rgb(36,36,36)"
          }
         }
        },
        "width": 950,
        "xaxis": {
         "linecolor": "black",
         "linewidth": 2,
         "mirror": true,
         "range": [
          -4.605170185988091,
          9.615805480084347
         ],
         "showline": true,
         "showticklabels": false,
         "tickfont": {
          "size": 20
         }
        },
        "yaxis": {
         "linecolor": "black",
         "linewidth": 2,
         "mirror": true,
         "range": [
          0,
          21
         ],
         "showline": true,
         "tickfont": {
          "size": 20
         },
         "title": {
          "text": "Nr. of cones"
         }
        }
       }
      },
      "image/png": "[encoded data removed]"
     },
     "metadata": {},
     "output_type": "display_data"
    },
    {
     "ename": "ShapeError",
     "evalue": "Expected object of length 40, got length: 161",
     "output_type": "error",
     "traceback": [
      "\u001b[31m---------------------------------------------------------------------------\u001b[39m",
      "\u001b[31mShapeError\u001b[39m                                Traceback (most recent call last)",
      "\u001b[36mCell\u001b[39m\u001b[36m \u001b[39m\u001b[32mIn[6]\u001b[39m\u001b[32m, line 85\u001b[39m\n\u001b[32m     82\u001b[39m hist_pred_PLSR.write_image(\u001b[33mr\u001b[39m\u001b[33m'\u001b[39m\u001b[38;5;132;01m{}\u001b[39;00m\u001b[33m_TrainValidationSplit_\u001b[39m\u001b[38;5;132;01m{}\u001b[39;00m\u001b[33m_\u001b[39m\u001b[38;5;132;01m{}\u001b[39;00m\u001b[33m.svg\u001b[39m\u001b[33m'\u001b[39m.format(inputName, predictor_parameter_text, PLSR_method), \u001b[38;5;28mformat\u001b[39m=\u001b[33m'\u001b[39m\u001b[33msvg\u001b[39m\u001b[33m'\u001b[39m, width=\u001b[32m950\u001b[39m, height=\u001b[32m200\u001b[39m, scale=\u001b[32m1\u001b[39m)\n\u001b[32m     83\u001b[39m hist_pred_PLSR.show()\n\u001b[32m---> \u001b[39m\u001b[32m85\u001b[39m fig_residual_PLSR = \u001b[43mpx\u001b[49m\u001b[43m.\u001b[49m\u001b[43mscatter\u001b[49m\u001b[43m(\u001b[49m\n\u001b[32m     86\u001b[39m \u001b[43m    \u001b[49m\u001b[43mdf_PLSR_cv_predicted\u001b[49m\u001b[43m,\u001b[49m\n\u001b[32m     87\u001b[39m \u001b[43m    \u001b[49m\u001b[43mx\u001b[49m\u001b[43m=\u001b[49m\u001b[43mnp\u001b[49m\u001b[43m.\u001b[49m\u001b[43mlog\u001b[49m\u001b[43m(\u001b[49m\u001b[43mdf_PLSR_val_predicted\u001b[49m\u001b[43m[\u001b[49m\u001b[43mtarget_parameter\u001b[49m\u001b[43m]\u001b[49m\u001b[43m)\u001b[49m\u001b[43m,\u001b[49m\n\u001b[32m     88\u001b[39m \u001b[43m    \u001b[49m\u001b[43my\u001b[49m\u001b[43m=\u001b[49m\u001b[43mnp\u001b[49m\u001b[43m.\u001b[49m\u001b[43mlog\u001b[49m\u001b[43m(\u001b[49m\u001b[43mdf_PLSR_val_predicted\u001b[49m\u001b[43m.\u001b[49m\u001b[43mloc\u001b[49m\u001b[43m[\u001b[49m\u001b[43m:\u001b[49m\u001b[43m,\u001b[49m\u001b[33;43m'\u001b[39;49m\u001b[38;5;132;43;01m{}\u001b[39;49;00m\u001b[33;43m_val_\u001b[39;49m\u001b[38;5;132;43;01m{}\u001b[39;49;00m\u001b[33;43m'\u001b[39;49m\u001b[43m.\u001b[49m\u001b[43mformat\u001b[49m\u001b[43m(\u001b[49m\u001b[43mPLSR_method\u001b[49m\u001b[43m,\u001b[49m\u001b[43m \u001b[49m\u001b[43mtarget_parameter\u001b[49m\u001b[43m)\u001b[49m\u001b[43m]\u001b[49m\u001b[43m)\u001b[49m\u001b[43m-\u001b[49m\u001b[43mnp\u001b[49m\u001b[43m.\u001b[49m\u001b[43mlog\u001b[49m\u001b[43m(\u001b[49m\u001b[43mdf_PLSR_val_predicted\u001b[49m\u001b[43m[\u001b[49m\u001b[43mtarget_parameter\u001b[49m\u001b[43m]\u001b[49m\u001b[43m)\u001b[49m\u001b[43m,\u001b[49m\n\u001b[32m     89\u001b[39m \u001b[43m    \u001b[49m\u001b[43mwidth\u001b[49m\u001b[43m=\u001b[49m\u001b[32;43m1020\u001b[39;49m\u001b[43m,\u001b[49m\u001b[43m \u001b[49m\u001b[43mheight\u001b[49m\u001b[43m=\u001b[49m\u001b[32;43m400\u001b[39;49m\u001b[43m)\u001b[49m\n\u001b[32m     90\u001b[39m fig_residual_PLSR.add_hline(y=\u001b[32m0\u001b[39m, line_width=\u001b[32m3\u001b[39m, line_dash=\u001b[33m'\u001b[39m\u001b[33mdash\u001b[39m\u001b[33m'\u001b[39m, line_color=\u001b[33m'\u001b[39m\u001b[33mblack\u001b[39m\u001b[33m'\u001b[39m)\n\u001b[32m     91\u001b[39m fig_residual_PLSR.update_layout(xaxis = \u001b[38;5;28mdict\u001b[39m(title=\u001b[33m'\u001b[39m\u001b[33mLog(absolute age)\u001b[39m\u001b[33m'\u001b[39m.format(),\n\u001b[32m     92\u001b[39m                                     tickfont = \u001b[38;5;28mdict\u001b[39m(size=font_size), showline=\u001b[38;5;28;01mTrue\u001b[39;00m, linewidth=\u001b[32m2\u001b[39m, linecolor=\u001b[33m'\u001b[39m\u001b[33mblack\u001b[39m\u001b[33m'\u001b[39m, mirror=\u001b[38;5;28;01mTrue\u001b[39;00m),\n\u001b[32m     93\u001b[39m                            yaxis = \u001b[38;5;28mdict\u001b[39m(title=\u001b[33m'\u001b[39m\u001b[33mResiduals\u001b[39m\u001b[33m'\u001b[39m.format(),\n\u001b[32m   (...)\u001b[39m\u001b[32m     97\u001b[39m                            yaxis_range=[-\u001b[32m6.5\u001b[39m,\u001b[32m6.5\u001b[39m]\n\u001b[32m     98\u001b[39m                           )\n",
      "\u001b[36mFile \u001b[39m\u001b[32m~\\anaconda3\\envs\\gdal_env\\Lib\\site-packages\\plotly\\express\\_chart_types.py:69\u001b[39m, in \u001b[36mscatter\u001b[39m\u001b[34m(data_frame, x, y, color, symbol, size, hover_name, hover_data, custom_data, text, facet_row, facet_col, facet_col_wrap, facet_row_spacing, facet_col_spacing, error_x, error_x_minus, error_y, error_y_minus, animation_frame, animation_group, category_orders, labels, orientation, color_discrete_sequence, color_discrete_map, color_continuous_scale, range_color, color_continuous_midpoint, symbol_sequence, symbol_map, opacity, size_max, marginal_x, marginal_y, trendline, trendline_options, trendline_color_override, trendline_scope, log_x, log_y, range_x, range_y, render_mode, title, subtitle, template, width, height)\u001b[39m\n\u001b[32m     14\u001b[39m \u001b[38;5;28;01mdef\u001b[39;00m\u001b[38;5;250m \u001b[39m\u001b[34mscatter\u001b[39m(\n\u001b[32m     15\u001b[39m     data_frame=\u001b[38;5;28;01mNone\u001b[39;00m,\n\u001b[32m     16\u001b[39m     x=\u001b[38;5;28;01mNone\u001b[39;00m,\n\u001b[32m   (...)\u001b[39m\u001b[32m     63\u001b[39m     height=\u001b[38;5;28;01mNone\u001b[39;00m,\n\u001b[32m     64\u001b[39m ) -> go.Figure:\n\u001b[32m     65\u001b[39m \u001b[38;5;250m    \u001b[39m\u001b[33;03m\"\"\"\u001b[39;00m\n\u001b[32m     66\u001b[39m \u001b[33;03m    In a scatter plot, each row of `data_frame` is represented by a symbol\u001b[39;00m\n\u001b[32m     67\u001b[39m \u001b[33;03m    mark in 2D space.\u001b[39;00m\n\u001b[32m     68\u001b[39m \u001b[33;03m    \"\"\"\u001b[39;00m\n\u001b[32m---> \u001b[39m\u001b[32m69\u001b[39m     \u001b[38;5;28;01mreturn\u001b[39;00m \u001b[43mmake_figure\u001b[49m\u001b[43m(\u001b[49m\u001b[43margs\u001b[49m\u001b[43m=\u001b[49m\u001b[38;5;28;43mlocals\u001b[39;49m\u001b[43m(\u001b[49m\u001b[43m)\u001b[49m\u001b[43m,\u001b[49m\u001b[43m \u001b[49m\u001b[43mconstructor\u001b[49m\u001b[43m=\u001b[49m\u001b[43mgo\u001b[49m\u001b[43m.\u001b[49m\u001b[43mScatter\u001b[49m\u001b[43m)\u001b[49m\n",
      "\u001b[36mFile \u001b[39m\u001b[32m~\\anaconda3\\envs\\gdal_env\\Lib\\site-packages\\plotly\\express\\_core.py:2483\u001b[39m, in \u001b[36mmake_figure\u001b[39m\u001b[34m(args, constructor, trace_patch, layout_patch)\u001b[39m\n\u001b[32m   2480\u001b[39m layout_patch = layout_patch \u001b[38;5;129;01mor\u001b[39;00m {}\n\u001b[32m   2481\u001b[39m apply_default_cascade(args)\n\u001b[32m-> \u001b[39m\u001b[32m2483\u001b[39m args = \u001b[43mbuild_dataframe\u001b[49m\u001b[43m(\u001b[49m\u001b[43margs\u001b[49m\u001b[43m,\u001b[49m\u001b[43m \u001b[49m\u001b[43mconstructor\u001b[49m\u001b[43m)\u001b[49m\n\u001b[32m   2484\u001b[39m \u001b[38;5;28;01mif\u001b[39;00m constructor \u001b[38;5;129;01min\u001b[39;00m [go.Treemap, go.Sunburst, go.Icicle] \u001b[38;5;129;01mand\u001b[39;00m args[\u001b[33m\"\u001b[39m\u001b[33mpath\u001b[39m\u001b[33m\"\u001b[39m] \u001b[38;5;129;01mis\u001b[39;00m \u001b[38;5;129;01mnot\u001b[39;00m \u001b[38;5;28;01mNone\u001b[39;00m:\n\u001b[32m   2485\u001b[39m     args = process_dataframe_hierarchy(args)\n",
      "\u001b[36mFile \u001b[39m\u001b[32m~\\anaconda3\\envs\\gdal_env\\Lib\\site-packages\\plotly\\express\\_core.py:1729\u001b[39m, in \u001b[36mbuild_dataframe\u001b[39m\u001b[34m(args, constructor)\u001b[39m\n\u001b[32m   1726\u001b[39m     args[\u001b[33m\"\u001b[39m\u001b[33mcolor\u001b[39m\u001b[33m\"\u001b[39m] = \u001b[38;5;28;01mNone\u001b[39;00m\n\u001b[32m   1727\u001b[39m \u001b[38;5;66;03m# now that things have been prepped, we do the systematic rewriting of `args`\u001b[39;00m\n\u001b[32m-> \u001b[39m\u001b[32m1729\u001b[39m df_output, wide_id_vars = \u001b[43mprocess_args_into_dataframe\u001b[49m\u001b[43m(\u001b[49m\n\u001b[32m   1730\u001b[39m \u001b[43m    \u001b[49m\u001b[43margs\u001b[49m\u001b[43m,\u001b[49m\n\u001b[32m   1731\u001b[39m \u001b[43m    \u001b[49m\u001b[43mwide_mode\u001b[49m\u001b[43m,\u001b[49m\n\u001b[32m   1732\u001b[39m \u001b[43m    \u001b[49m\u001b[43mvar_name\u001b[49m\u001b[43m,\u001b[49m\n\u001b[32m   1733\u001b[39m \u001b[43m    \u001b[49m\u001b[43mvalue_name\u001b[49m\u001b[43m,\u001b[49m\n\u001b[32m   1734\u001b[39m \u001b[43m    \u001b[49m\u001b[43mis_pd_like\u001b[49m\u001b[43m,\u001b[49m\n\u001b[32m   1735\u001b[39m \u001b[43m    \u001b[49m\u001b[43mnative_namespace\u001b[49m\u001b[43m,\u001b[49m\n\u001b[32m   1736\u001b[39m \u001b[43m\u001b[49m\u001b[43m)\u001b[49m\n\u001b[32m   1737\u001b[39m df_output: nw.DataFrame\n\u001b[32m   1738\u001b[39m \u001b[38;5;66;03m# now that `df_output` exists and `args` contains only references, we complete\u001b[39;00m\n\u001b[32m   1739\u001b[39m \u001b[38;5;66;03m# the special-case and wide-mode handling by further rewriting args and/or mutating\u001b[39;00m\n\u001b[32m   1740\u001b[39m \u001b[38;5;66;03m# df_output\u001b[39;00m\n",
      "\u001b[36mFile \u001b[39m\u001b[32m~\\anaconda3\\envs\\gdal_env\\Lib\\site-packages\\plotly\\express\\_core.py:1213\u001b[39m, in \u001b[36mprocess_args_into_dataframe\u001b[39m\u001b[34m(args, wide_mode, var_name, value_name, is_pd_like, native_namespace)\u001b[39m\n\u001b[32m   1211\u001b[39m ranges = []\n\u001b[32m   1212\u001b[39m wide_id_vars = \u001b[38;5;28mset\u001b[39m()\n\u001b[32m-> \u001b[39m\u001b[32m1213\u001b[39m reserved_names = \u001b[43m_get_reserved_col_names\u001b[49m\u001b[43m(\u001b[49m\u001b[43margs\u001b[49m\u001b[43m)\u001b[49m \u001b[38;5;28;01mif\u001b[39;00m df_provided \u001b[38;5;28;01melse\u001b[39;00m \u001b[38;5;28mset\u001b[39m()\n\u001b[32m   1215\u001b[39m \u001b[38;5;66;03m# Case of functions with a \"dimensions\" kw: scatter_matrix, parcats, parcoords\u001b[39;00m\n\u001b[32m   1216\u001b[39m \u001b[38;5;28;01mif\u001b[39;00m \u001b[33m\"\u001b[39m\u001b[33mdimensions\u001b[39m\u001b[33m\"\u001b[39m \u001b[38;5;129;01min\u001b[39;00m args \u001b[38;5;129;01mand\u001b[39;00m args[\u001b[33m\"\u001b[39m\u001b[33mdimensions\u001b[39m\u001b[33m\"\u001b[39m] \u001b[38;5;129;01mis\u001b[39;00m \u001b[38;5;28;01mNone\u001b[39;00m:\n",
      "\u001b[36mFile \u001b[39m\u001b[32m~\\anaconda3\\envs\\gdal_env\\Lib\\site-packages\\plotly\\express\\_core.py:1115\u001b[39m, in \u001b[36m_get_reserved_col_names\u001b[39m\u001b[34m(args)\u001b[39m\n\u001b[32m   1113\u001b[39m arg_name = arg_series.name\n\u001b[32m   1114\u001b[39m \u001b[38;5;28;01mif\u001b[39;00m arg_name \u001b[38;5;129;01mand\u001b[39;00m arg_name \u001b[38;5;129;01min\u001b[39;00m df.columns:\n\u001b[32m-> \u001b[39m\u001b[32m1115\u001b[39m     in_df = (\u001b[43marg_series\u001b[49m\u001b[43m \u001b[49m\u001b[43m==\u001b[49m\u001b[43m \u001b[49m\u001b[43mdf\u001b[49m\u001b[43m.\u001b[49m\u001b[43mget_column\u001b[49m\u001b[43m(\u001b[49m\u001b[43marg_name\u001b[49m\u001b[43m)\u001b[49m).all()\n\u001b[32m   1116\u001b[39m     \u001b[38;5;28;01mif\u001b[39;00m in_df:\n\u001b[32m   1117\u001b[39m         reserved_names.add(arg_name)\n",
      "\u001b[36mFile \u001b[39m\u001b[32m~\\anaconda3\\envs\\gdal_env\\Lib\\site-packages\\narwhals\\series.py:1563\u001b[39m, in \u001b[36mSeries.__eq__\u001b[39m\u001b[34m(self, other)\u001b[39m\n\u001b[32m   1561\u001b[39m \u001b[38;5;28;01mdef\u001b[39;00m\u001b[38;5;250m \u001b[39m\u001b[34m__eq__\u001b[39m(\u001b[38;5;28mself\u001b[39m, other: \u001b[38;5;28mobject\u001b[39m) -> Self:  \u001b[38;5;66;03m# type: ignore[override]\u001b[39;00m\n\u001b[32m   1562\u001b[39m     \u001b[38;5;28;01mreturn\u001b[39;00m \u001b[38;5;28mself\u001b[39m._with_compliant(\n\u001b[32m-> \u001b[39m\u001b[32m1563\u001b[39m         \u001b[38;5;28;43mself\u001b[39;49m\u001b[43m.\u001b[49m\u001b[43m_compliant_series\u001b[49m\u001b[43m.\u001b[49m\u001b[34;43m__eq__\u001b[39;49m\u001b[43m(\u001b[49m\u001b[38;5;28;43mself\u001b[39;49m\u001b[43m.\u001b[49m\u001b[43m_extract_native\u001b[49m\u001b[43m(\u001b[49m\u001b[43mother\u001b[49m\u001b[43m)\u001b[49m\u001b[43m)\u001b[49m\n\u001b[32m   1564\u001b[39m     )\n",
      "\u001b[36mFile \u001b[39m\u001b[32m~\\anaconda3\\envs\\gdal_env\\Lib\\site-packages\\narwhals\\_pandas_like\\series.py:388\u001b[39m, in \u001b[36mPandasLikeSeries.__eq__\u001b[39m\u001b[34m(self, other)\u001b[39m\n\u001b[32m    387\u001b[39m \u001b[38;5;28;01mdef\u001b[39;00m\u001b[38;5;250m \u001b[39m\u001b[34m__eq__\u001b[39m(\u001b[38;5;28mself\u001b[39m, other: \u001b[38;5;28mobject\u001b[39m) -> PandasLikeSeries:  \u001b[38;5;66;03m# type: ignore[override]\u001b[39;00m\n\u001b[32m--> \u001b[39m\u001b[32m388\u001b[39m     ser, other = \u001b[43malign_and_extract_native\u001b[49m\u001b[43m(\u001b[49m\u001b[38;5;28;43mself\u001b[39;49m\u001b[43m,\u001b[49m\u001b[43m \u001b[49m\u001b[43mother\u001b[49m\u001b[43m)\u001b[49m\n\u001b[32m    389\u001b[39m     \u001b[38;5;28;01mreturn\u001b[39;00m \u001b[38;5;28mself\u001b[39m._with_native(ser == other).alias(\u001b[38;5;28mself\u001b[39m.name)\n",
      "\u001b[36mFile \u001b[39m\u001b[32m~\\anaconda3\\envs\\gdal_env\\Lib\\site-packages\\narwhals\\_pandas_like\\utils.py:113\u001b[39m, in \u001b[36malign_and_extract_native\u001b[39m\u001b[34m(lhs, rhs)\u001b[39m\n\u001b[32m    109\u001b[39m         \u001b[38;5;28;01mreturn\u001b[39;00m (lhs.native, rhs.native.iloc[\u001b[32m0\u001b[39m])\n\u001b[32m    110\u001b[39m     \u001b[38;5;28;01mif\u001b[39;00m rhs.native.index \u001b[38;5;129;01mis\u001b[39;00m \u001b[38;5;129;01mnot\u001b[39;00m lhs_index:\n\u001b[32m    111\u001b[39m         \u001b[38;5;28;01mreturn\u001b[39;00m (\n\u001b[32m    112\u001b[39m             lhs.native,\n\u001b[32m--> \u001b[39m\u001b[32m113\u001b[39m             \u001b[43mset_index\u001b[49m\u001b[43m(\u001b[49m\n\u001b[32m    114\u001b[39m \u001b[43m                \u001b[49m\u001b[43mrhs\u001b[49m\u001b[43m.\u001b[49m\u001b[43mnative\u001b[49m\u001b[43m,\u001b[49m\n\u001b[32m    115\u001b[39m \u001b[43m                \u001b[49m\u001b[43mlhs_index\u001b[49m\u001b[43m,\u001b[49m\n\u001b[32m    116\u001b[39m \u001b[43m                \u001b[49m\u001b[43mimplementation\u001b[49m\u001b[43m=\u001b[49m\u001b[43mrhs\u001b[49m\u001b[43m.\u001b[49m\u001b[43m_implementation\u001b[49m\u001b[43m,\u001b[49m\n\u001b[32m    117\u001b[39m \u001b[43m                \u001b[49m\u001b[43mbackend_version\u001b[49m\u001b[43m=\u001b[49m\u001b[43mrhs\u001b[49m\u001b[43m.\u001b[49m\u001b[43m_backend_version\u001b[49m\u001b[43m,\u001b[49m\n\u001b[32m    118\u001b[39m \u001b[43m            \u001b[49m\u001b[43m)\u001b[49m,\n\u001b[32m    119\u001b[39m         )\n\u001b[32m    120\u001b[39m     \u001b[38;5;28;01mreturn\u001b[39;00m (lhs.native, rhs.native)\n\u001b[32m    122\u001b[39m \u001b[38;5;28;01mif\u001b[39;00m \u001b[38;5;28misinstance\u001b[39m(rhs, \u001b[38;5;28mlist\u001b[39m):\n",
      "\u001b[36mFile \u001b[39m\u001b[32m~\\anaconda3\\envs\\gdal_env\\Lib\\site-packages\\narwhals\\_pandas_like\\utils.py:144\u001b[39m, in \u001b[36mset_index\u001b[39m\u001b[34m(obj, index, implementation, backend_version)\u001b[39m\n\u001b[32m    140\u001b[39m \u001b[38;5;28;01mif\u001b[39;00m \u001b[38;5;28misinstance\u001b[39m(index, implementation.to_native_namespace().Index) \u001b[38;5;129;01mand\u001b[39;00m (\n\u001b[32m    141\u001b[39m     expected_len := \u001b[38;5;28mlen\u001b[39m(index)\n\u001b[32m    142\u001b[39m ) != (actual_len := \u001b[38;5;28mlen\u001b[39m(obj)):\n\u001b[32m    143\u001b[39m     msg = \u001b[33mf\u001b[39m\u001b[33m\"\u001b[39m\u001b[33mExpected object of length \u001b[39m\u001b[38;5;132;01m{\u001b[39;00mexpected_len\u001b[38;5;132;01m}\u001b[39;00m\u001b[33m, got length: \u001b[39m\u001b[38;5;132;01m{\u001b[39;00mactual_len\u001b[38;5;132;01m}\u001b[39;00m\u001b[33m\"\u001b[39m\n\u001b[32m--> \u001b[39m\u001b[32m144\u001b[39m     \u001b[38;5;28;01mraise\u001b[39;00m ShapeError(msg)\n\u001b[32m    145\u001b[39m \u001b[38;5;28;01mif\u001b[39;00m implementation \u001b[38;5;129;01mis\u001b[39;00m Implementation.CUDF:  \u001b[38;5;66;03m# pragma: no cover\u001b[39;00m\n\u001b[32m    146\u001b[39m     obj = obj.copy(deep=\u001b[38;5;28;01mFalse\u001b[39;00m)  \u001b[38;5;66;03m# type: ignore[attr-defined]\u001b[39;00m\n",
      "\u001b[31mShapeError\u001b[39m: Expected object of length 40, got length: 161"
     ]
    }
   ],
   "source": [
    "### Plotting measured vs predicted graph\n",
    "font_type = 'DejaVu Sans'\n",
    "font_size = 20\n",
    "\n",
    "axis_range = [0.01, 15000]\n",
    "hist_axis_rangeY = [0, 21]\n",
    "\n",
    "fig_pred_PLSR = px.line(x=axis_range, y=axis_range, range_x=axis_range, range_y=axis_range, \n",
    "                   log_x=True, log_y=True, width=950, height=950)\n",
    "fig_pred_PLSR.update_traces(line_color='black', line_width=1.5)\n",
    "fig_pred_PLSR.add_trace(go.Scatter(x=df_PLSR_cv_predicted.loc[:,target_parameter],\n",
    "                              y=df_PLSR_cv_predicted.loc[:,'{}_trainCV_{}'.format(PLSR_method, target_parameter)],\n",
    "                              mode='markers',\n",
    "                              error_x = dict(\n",
    "                                  type='data',\n",
    "                                  array=df_PLSR_cv_predicted.loc[:,'AgeErrorReCalc1STD'].values,\n",
    "                                  visible=True),\n",
    "                              error_y = dict(\n",
    "                                  type='data',\n",
    "                                  array=df_PLSR_cv_predicted.loc[:,'{}_trainCV_{}'.format(PLSR_method, 'AgeUpper')].values - df_PLSR_cv_predicted.loc[:,'{}_trainCV_{}'.format(PLSR_method, 'AgeLower')].values,\n",
    "                                  visible=True),\n",
    "                              hovertext=df_PLSR_cv_predicted[['ConeName', 'Age', '{}_trainCV_{}'.format(PLSR_method, target_parameter)]],\n",
    "                              hovertemplate=\n",
    "                              'ConeName: %{text}' +\n",
    "                              '<br>ConeAge: %{x:.2f} ky'+\n",
    "                              '<br>ConePredAge: %{y:.2f} ky',\n",
    "                              text=df_PLSR_cv_predicted['ConeName'],\n",
    "                              marker=dict(color='#5799c6', size=2, line=dict(color='#74797C')),\n",
    "                              name='Training',\n",
    "                              showlegend=False))\n",
    "fig_pred_PLSR.add_trace(go.Scatter(x=df_PLSR_val_predicted.loc[:,target_parameter],\n",
    "                              y=df_PLSR_val_predicted.loc[:,'{}_val_{}'.format(PLSR_method, target_parameter)],\n",
    "                              mode='markers',\n",
    "                              error_x = dict(\n",
    "                                  type='data',\n",
    "                                  array=df_PLSR_val_predicted.loc[:,'AgeErrorReCalc1STD'].values,\n",
    "                                  visible=True),\n",
    "                              error_y = dict(\n",
    "                                  type='data',\n",
    "                                  array=df_PLSR_val_predicted.loc[:,'{}_val_{}'.format(PLSR_method, 'AgeUpper')].values - df_PLSR_val_predicted.loc[:,'{}_val_{}'.format(PLSR_method, 'AgeLower')].values,\n",
    "                                  visible=True),\n",
    "                              hovertext=df_PLSR_val_predicted[['ConeName', 'Age', '{}_val_{}'.format(PLSR_method, target_parameter)]],\n",
    "                              hovertemplate=\n",
    "                              'ConeName: %{text}' +\n",
    "                              '<br>ConeAge: %{x:.2f} ky'+\n",
    "                              '<br>ConePredAge: %{y:.2f} ky',\n",
    "                              text=df_PLSR_val_predicted['ConeName'],\n",
    "                              marker=dict(color='#ffa500', size=2, line=dict(color='#74797C')),\n",
    "                              name='Validation',\n",
    "                              showlegend=False))\n",
    "fig_pred_PLSR.update_traces(marker=dict(size=8,line=dict(width=0.5)))\n",
    "fig_pred_PLSR.update_layout(xaxis = dict(title='Measured {} ({})'.format(target_parameter, units),\n",
    "                                    tickfont = dict(size=font_size), showline=True, linewidth=2, linecolor='black', mirror=True),\n",
    "                       yaxis = dict(title='Predicted {} ({})'.format(target_parameter, units),\n",
    "                                    tickfont = dict(size=font_size), showline=True, linewidth=2, linecolor='black', mirror=True),\n",
    "                       font=dict(size=font_size, family=font_type),\n",
    "                       margin_r=0, margin_t=0, margin_l=0, margin_b=0,\n",
    "                       legend_itemsizing='constant',\n",
    "                       legend=dict(yanchor='middle',\n",
    "                                   y=0.96, x=0.01),\n",
    "                       coloraxis_colorbar=dict(thicknessmode='pixels', \n",
    "                                               thickness=50,\n",
    "                                               lenmode='pixels',\n",
    "                                               len=150,\n",
    "                                               yanchor='middle',\n",
    "                                               y=0.2, x=0.8))\n",
    "fig_pred_PLSR.write_image(r'{}_{}_{}_Predition.svg'.format(inputName, predictor_parameter_text, PLSR_method), format='svg', width=950, height=950, scale=1)\n",
    "fig_pred_PLSR.show()\n",
    "\n",
    "### Plotting the distrubiton of predictions \n",
    "hist_pred_PLSR = go.Figure()\n",
    "hist_pred_PLSR.add_trace(go.Histogram(x=np.log(df_PLSR_cv_predicted.loc[:,'{}_trainCV_{}'.format(PLSR_method, target_parameter)]),\n",
    "                                             xbins=dict(start=np.log(axis_range[0]),end=np.log(axis_range[1]),size=0.2), opacity=0.75, name='Pred Training'))\n",
    "hist_pred_PLSR.add_trace(go.Histogram(x=np.log(df_PLSR_val_predicted.loc[:,'{}_val_{}'.format(PLSR_method, target_parameter)]),\n",
    "                                             xbins=dict(start=np.log(axis_range[0]),end=np.log(axis_range[1]), size=0.2), opacity=0.75, name='Pred Validation'))\n",
    "hist_pred_PLSR.update_layout(barmode='overlay', showlegend=False, yaxis_range=hist_axis_rangeY, xaxis_range=np.log(axis_range), xaxis_showticklabels=False,\n",
    "                                    margin_r=0, margin_t=0, margin_l=0, margin_b=0, width=950, \n",
    "                                    xaxis = dict(tickfont = dict(size=font_size), showline=True, linewidth=2, linecolor='black', mirror=True),\n",
    "                                    yaxis = dict(title='Nr. of cones', tickfont = dict(size=font_size), showline=True, linewidth=2, linecolor='black', mirror=True),\n",
    "                                    legend=dict(yanchor='top', y=0.99, xanchor='right', x=0.99),\n",
    "                                    font=dict(size=font_size, family=font_type))\n",
    "hist_pred_PLSR.write_image(r'{}_TrainValidationSplit_{}_{}.svg'.format(inputName, predictor_parameter_text, PLSR_method), format='svg', width=950, height=200, scale=1)\n",
    "hist_pred_PLSR.show()\n",
    "\n",
    "fig_residual_PLSR = px.scatter(\n",
    "    df_PLSR_cv_predicted,\n",
    "    x=np.log(df_PLSR_val_predicted[target_parameter]),\n",
    "    y=np.log(df_PLSR_val_predicted.loc[:,'{}_val_{}'.format(PLSR_method, target_parameter)])-np.log(df_PLSR_val_predicted[target_parameter]),\n",
    "    width=1020, height=400)\n",
    "fig_residual_PLSR.add_hline(y=0, line_width=3, line_dash='dash', line_color='black')\n",
    "fig_residual_PLSR.update_layout(xaxis = dict(title='Log(absolute age)'.format(),\n",
    "                                    tickfont = dict(size=font_size), showline=True, linewidth=2, linecolor='black', mirror=True),\n",
    "                           yaxis = dict(title='Residuals'.format(),\n",
    "                                    tickfont = dict(size=font_size), showline=True, linewidth=2, linecolor='black', mirror=True),\n",
    "                           font=dict(size=font_size, family=font_type),\n",
    "                           xaxis_range=[np.log(axis_range[0]),np.log(axis_range[1])],\n",
    "                           yaxis_range=[-6.5,6.5]\n",
    "                          )\n",
    "fig_residual_PLSR.write_image(r'{}_{}_{}_Predition_Residuals.svg'.format(inputName, predictor_parameter_text, PLSR_method), format='svg', width=950, height=200, scale=1)\n",
    "fig_residual_PLSR.show()"
   ]
  },
  {
   "cell_type": "code",
   "execution_count": 12,
   "metadata": {},
   "outputs": [],
   "source": [
    "import pandas as pd\n",
    "import numpy as np\n",
    "\n",
    "##ruta\n",
    "ruta = r\"C:\\Users\\56931\\Documents\\intentoage\\Rapanuimorfometria.xlsx\"\n",
    "hoja = \"variables\"\n",
    "\n",
    "predictor_parameter = ['BaseHco', 'BaseWco', 'BaseVol', 'FlSlopeMean', 'HcoWcoMean']\n",
    "\n",
    "##cargar datos\n",
    "df_rapanui = pd.read_excel(ruta, sheet_name=hoja)\n",
    "\n",
    "##data con parametros predictores\n",
    "df_rapanui_X = df_rapanui[predictor_parameter].copy()\n",
    "\n",
    "##transformacion para normalizacion\n",
    "X_rapanui_scaled = pd.DataFrame(transformer.transform(df_rapanui_X), columns=predictor_parameter)\n",
    "\n",
    "##aplicacion de modelo PLSR\n",
    "Y_rapanui_pred_log = PLSR.predict(X_rapanui_scaled)\n",
    "\n",
    "##revertir transform\n",
    "Y_rapanui_pred = InvTransformer.transform(Y_rapanui_pred_log)\n",
    "\n",
    "##data\n",
    "df_predicted_rapanui = pd.DataFrame(\n",
    "    Y_rapanui_pred,\n",
    "    columns=['Age_pred', 'AgeLower_pred', 'AgeUpper_pred']\n",
    ")\n",
    "\n",
    "##exportar\n",
    "df_predicted_rapanui.to_excel(r\"C:\\Users\\56931\\Documents\\intentoage\\Edades_Predichas_Rapanui.xlsx\", index=False)\n",
    "\n"
   ]
  },
  {
   "cell_type": "code",
   "execution_count": 6,
   "metadata": {},
   "outputs": [
    {
     "name": "stdout",
     "output_type": "stream",
     "text": [
      "MLR - Mean R2cv from 3-fold: 0.370\n",
      "MLR - Mean MAPEcv from 3-fold: 94.79% (in log-space)\n",
      "MLR - R2val using independent data: 0.494\n",
      "MLR - MAPEval using independent data: 802.63% (in log-space)\n",
      "MLR - Spearman correlation coefficient using independent data: 0.758 (p=0.000)\n",
      "MLR - R2val on the excluded data: 0.151\n",
      "MLR - MAPEval on the excluded data: 174.82% (in log-space)\n",
      "MLR - Spearman correlation coefficient on the excluded data: 0.626 (p=0.000)\n"
     ]
    }
   ],
   "source": [
    "# Multiple Linear Regression model (MLR)\n",
    "#########################################################################################################\n",
    "#########################################################################################################\n",
    "#########################################################################################################\n",
    "\n",
    "### Creating a MLR model and reporting error metrics and plots\n",
    "from sklearn import linear_model\n",
    "from sklearn.model_selection import KFold\n",
    "from sklearn.model_selection import cross_val_predict\n",
    "from sklearn.model_selection import cross_val_score\n",
    "from scipy import stats\n",
    "from sklearn.metrics import r2_score\n",
    "from sklearn.metrics import mean_absolute_percentage_error\n",
    "\n",
    "MLR_method = 'MLR'\n",
    "target_parameter_MLR = ['Age', 'AgeLower', 'AgeUpper']\n",
    "n_splits = 3\n",
    "\n",
    "MLR_cv = KFold(n_splits=n_splits, shuffle=True, random_state=random_state)\n",
    "MLR_cv.get_n_splits(df_scaled_train_X)\n",
    "\n",
    "MLR = linear_model.LinearRegression()\n",
    "MLR.fit(df_scaled_train_X, df_scaled_train_Y)\n",
    "\n",
    "### K-fold cross-validation\n",
    "MLR_cv_r2 = cross_val_score(MLR, df_scaled_train_X, df_scaled_train_Y, scoring='r2', cv=MLR_cv, n_jobs=-1)\n",
    "print(r'MLR - Mean R2cv from {}-fold: {:0.3f}'.format(n_splits, np.mean(MLR_cv_r2)))\n",
    "\n",
    "MLR_cv_MAPE = cross_val_score(MLR, df_scaled_train_X, df_scaled_train_Y, scoring='neg_mean_absolute_percentage_error', cv=MLR_cv, n_jobs=-1)\n",
    "print(r'MLR - Mean MAPEcv from {}-fold: {:0.2f}% (in log-space)'.format(n_splits, np.mean(- MLR_cv_MAPE*100)))\n",
    "\n",
    "MLR_cv_predicted = pd.DataFrame(InvTransformer.transform(MLR.predict(df_scaled_train_X)),\n",
    "                             columns=['{}_trainCV_{}'.format(MLR_method, target_parameter),\n",
    "                                      '{}_trainCV_AgeLower'.format(MLR_method),\n",
    "                                      '{}_trainCV_AgeUpper'.format(MLR_method)],\n",
    "                            index=df_scaled_train_X.index)\n",
    "df_MLR_cv_predicted = df_scaled_train.merge(MLR_cv_predicted, on='ID', sort=False)\n",
    "\n",
    "### Validation with independent data\n",
    "MLR_val_predicted = pd.DataFrame(InvTransformer.transform(MLR.predict(df_scaled_validation_X.loc[:,predictor_parameter])),\n",
    "                       columns=['{}_val_{}'.format(MLR_method, target_parameter),\n",
    "                                '{}_val_AgeLower'.format(MLR_method),\n",
    "                                '{}_val_AgeUpper'.format(MLR_method)],\n",
    "                       index=df_scaled_validation_X.index)\n",
    "df_MLR_val_predicted = df_scaled_val.merge(MLR_val_predicted, on='ID', sort=False)\n",
    "\n",
    "MLR_val_r2 = r2_score(transformer.transform(df_MLR_val_predicted.loc[:,target_parameter_MLR]),\n",
    "                             MLR.predict(df_scaled_validation_X.loc[:,predictor_parameter]))\n",
    "print(r'MLR - R2val using independent data: {:0.3f}'.format(MLR_val_r2))\n",
    "\n",
    "MLR_val_MAPE = mean_absolute_percentage_error(transformer.transform(df_MLR_val_predicted.loc[:,target_parameter_MLR]),\n",
    "                            MLR.predict(df_scaled_validation_X))\n",
    "print(r'MLR - MAPEval using independent data: {:0.2f}% (in log-space)'.format(MLR_val_MAPE*100))\n",
    "\n",
    "MLR_val_spearmanR = stats.spearmanr(df_MLR_val_predicted.loc[:,target_parameter],\n",
    "                             df_MLR_val_predicted.loc[:,'{}_val_{}'.format(MLR_method, target_parameter)])\n",
    "print(r'MLR - Spearman correlation coefficient using independent data: {:0.3f} (p={:0.3f})'.format(MLR_val_spearmanR[0], MLR_val_spearmanR[1]))\n",
    "\n",
    "### Prediction on excluded data\n",
    "MLR_excluded_predicted = pd.DataFrame(InvTransformer.transform(MLR.predict(df_scaled_excluded_X)),\n",
    "                                  columns=['{}_excluded_{}'.format(MLR_method, target_parameter),\n",
    "                                          '{}_excluded_AgeLower'.format(MLR_method),\n",
    "                                          '{}_excluded_AgeUpper'.format(MLR_method)\n",
    "                                          ], index=df_scaled_excluded.index)\n",
    "\n",
    "df_MLR_excluded_predicted = df_scaled_excluded.merge(MLR_excluded_predicted, on='ID', sort=False)\n",
    "\n",
    "MLR_excluded_r2 = r2_score(transformer.transform(df_MLR_excluded_predicted.loc[:,'Age']),\n",
    "                             MLR.predict(df_scaled_excluded_X)[:,1])\n",
    "print(r'MLR - R2val on the excluded data: {:0.3f}'.format(MLR_excluded_r2))\n",
    "\n",
    "MLR_excluded_MAPE = mean_absolute_percentage_error(transformer.transform(df_MLR_excluded_predicted.loc[:,'Age']),\n",
    "                            MLR.predict(df_scaled_excluded_X)[:,1])\n",
    "print(r'MLR - MAPEval on the excluded data: {:0.2f}% (in log-space)'.format(MLR_excluded_MAPE*100))\n",
    "\n",
    "MLR_excluded_spearmanR = stats.spearmanr(df_MLR_excluded_predicted.loc[:,'Age'],\n",
    "                             df_MLR_excluded_predicted.loc[:,'{}_excluded_{}'.format(MLR_method, target_parameter)])\n",
    "print(r'MLR - Spearman correlation coefficient on the excluded data: {:0.3f} (p={:0.3f})'.format(MLR_excluded_spearmanR[0], MLR_excluded_spearmanR[1]))"
   ]
  },
  {
   "cell_type": "code",
   "execution_count": 7,
   "metadata": {},
   "outputs": [
    {
     "ename": "NameError",
     "evalue": "name 'axis_range' is not defined",
     "output_type": "error",
     "traceback": [
      "\u001b[31m---------------------------------------------------------------------------\u001b[39m",
      "\u001b[31mNameError\u001b[39m                                 Traceback (most recent call last)",
      "\u001b[36mCell\u001b[39m\u001b[36m \u001b[39m\u001b[32mIn[7]\u001b[39m\u001b[32m, line 2\u001b[39m\n\u001b[32m      1\u001b[39m \u001b[38;5;66;03m### Plotting measured vs predicted graph\u001b[39;00m\n\u001b[32m----> \u001b[39m\u001b[32m2\u001b[39m fig_pred_MLR = px.line(x=\u001b[43maxis_range\u001b[49m, y=axis_range, range_x=axis_range, range_y=axis_range, \n\u001b[32m      3\u001b[39m                    log_x=\u001b[38;5;28;01mTrue\u001b[39;00m, log_y=\u001b[38;5;28;01mTrue\u001b[39;00m, width=\u001b[32m950\u001b[39m, height=\u001b[32m950\u001b[39m)\n\u001b[32m      4\u001b[39m fig_pred_MLR.update_traces(line_color=\u001b[33m'\u001b[39m\u001b[33mblack\u001b[39m\u001b[33m'\u001b[39m, line_width=\u001b[32m1.5\u001b[39m)\n\u001b[32m      5\u001b[39m fig_pred_MLR.add_trace(go.Scatter(x=df_MLR_cv_predicted.loc[:,target_parameter],\n\u001b[32m      6\u001b[39m                               y=df_MLR_cv_predicted.loc[:,\u001b[33m'\u001b[39m\u001b[38;5;132;01m{}\u001b[39;00m\u001b[33m_trainCV_\u001b[39m\u001b[38;5;132;01m{}\u001b[39;00m\u001b[33m'\u001b[39m.format(MLR_method, target_parameter)],\n\u001b[32m      7\u001b[39m                               mode=\u001b[33m'\u001b[39m\u001b[33mmarkers\u001b[39m\u001b[33m'\u001b[39m,\n\u001b[32m   (...)\u001b[39m\u001b[32m     23\u001b[39m                               name=\u001b[33m'\u001b[39m\u001b[33mTraining\u001b[39m\u001b[33m'\u001b[39m,\n\u001b[32m     24\u001b[39m                               showlegend=\u001b[38;5;28;01mFalse\u001b[39;00m))\n",
      "\u001b[31mNameError\u001b[39m: name 'axis_range' is not defined"
     ]
    }
   ],
   "source": [
    "### Plotting measured vs predicted graph\n",
    "fig_pred_MLR = px.line(x=axis_range, y=axis_range, range_x=axis_range, range_y=axis_range, \n",
    "                   log_x=True, log_y=True, width=950, height=950)\n",
    "fig_pred_MLR.update_traces(line_color='black', line_width=1.5)\n",
    "fig_pred_MLR.add_trace(go.Scatter(x=df_MLR_cv_predicted.loc[:,target_parameter],\n",
    "                              y=df_MLR_cv_predicted.loc[:,'{}_trainCV_{}'.format(MLR_method, target_parameter)],\n",
    "                              mode='markers',\n",
    "                              error_x = dict(\n",
    "                                  type='data',\n",
    "                                  array=df_MLR_cv_predicted.loc[:,'AgeErrorReCalc1STD'].values,\n",
    "                                  visible=True),\n",
    "                              error_y = dict(\n",
    "                                  type='data',\n",
    "                                  array=df_MLR_cv_predicted.loc[:,'{}_trainCV_{}'.format(MLR_method, 'AgeUpper')].values - df_MLR_cv_predicted.loc[:,'{}_trainCV_{}'.format(MLR_method, 'AgeLower')].values,\n",
    "                                  visible=True),\n",
    "                              hovertext=df_MLR_cv_predicted[['ConeName', 'Age', '{}_trainCV_{}'.format(MLR_method, target_parameter)]],\n",
    "                              hovertemplate=\n",
    "                              'ConeName: %{text}' +\n",
    "                              '<br>ConeAge: %{x:.2f} ky'+\n",
    "                              '<br>ConePredAge: %{y:.2f} ky',\n",
    "                              text=df_MLR_cv_predicted['ConeName'],\n",
    "                              marker=dict(color='#5799c6', size=2, line=dict(color='#74797C')),\n",
    "                              name='Training',\n",
    "                              showlegend=False))\n",
    "fig_pred_MLR.add_trace(go.Scatter(x=df_MLR_val_predicted.loc[:,target_parameter],\n",
    "                              y=df_MLR_val_predicted.loc[:,'{}_val_{}'.format(MLR_method, target_parameter)],\n",
    "                              mode='markers',\n",
    "                              error_x = dict(\n",
    "                                  type='data',\n",
    "                                  array=df_MLR_val_predicted.loc[:,'AgeErrorReCalc1STD'].values,\n",
    "                                  visible=True),\n",
    "                              error_y = dict(\n",
    "                                  type='data',\n",
    "                                  array=df_MLR_val_predicted.loc[:,'{}_val_{}'.format(MLR_method, 'AgeUpper')].values - df_MLR_val_predicted.loc[:,'{}_val_{}'.format(MLR_method, 'AgeLower')].values,\n",
    "                                  visible=True),\n",
    "                              hovertext=df_MLR_val_predicted[['ConeName', 'Age', '{}_val_{}'.format(MLR_method, target_parameter)]],\n",
    "                              hovertemplate=\n",
    "                              'ConeName: %{text}' +\n",
    "                              '<br>ConeAge: %{x:.2f} ky'+\n",
    "                              '<br>ConePredAge: %{y:.2f} ky',\n",
    "                              text=df_MLR_val_predicted['ConeName'],\n",
    "                              marker=dict(color='#ffa500', size=2, line=dict(color='#74797C')),\n",
    "                              name='Validation',\n",
    "                              showlegend=False))\n",
    "fig_pred_MLR.update_traces(marker=dict(size=8,line=dict(width=0.5)))\n",
    "fig_pred_MLR.update_layout(xaxis = dict(title='Measured {} ({})'.format(target_parameter, units),\n",
    "                                    tickfont = dict(size=font_size), showline=True, linewidth=2, linecolor='black', mirror=True),\n",
    "                       yaxis = dict(title='Predicted {} ({})'.format(target_parameter, units),\n",
    "                                    tickfont = dict(size=font_size), showline=True, linewidth=2, linecolor='black', mirror=True),\n",
    "                       font=dict(size=font_size, family=font_type),\n",
    "                       margin_r=0, margin_t=0, margin_l=0, margin_b=0,\n",
    "                       legend_itemsizing='constant',\n",
    "                       legend=dict(yanchor='middle',\n",
    "                                   y=0.96, x=0.01),\n",
    "                       coloraxis_colorbar=dict(thicknessmode='pixels', \n",
    "                                               thickness=50,\n",
    "                                               lenmode='pixels',\n",
    "                                               len=150,\n",
    "                                               yanchor='middle',\n",
    "                                               y=0.2, x=0.8))\n",
    "fig_pred_MLR.write_image(r'{}_{}_{}_Predition.svg'.format(inputName, predictor_parameter_text, MLR_method), format='svg', width=950, height=950, scale=1)\n",
    "fig_pred_MLR.show()\n",
    "\n",
    "### Plotting the distrubiton of predictions \n",
    "hist_pred_MLR = go.Figure()\n",
    "hist_pred_MLR.add_trace(go.Histogram(x=np.log(df_MLR_cv_predicted.loc[:,'{}_trainCV_{}'.format(MLR_method, target_parameter)]),\n",
    "                                             xbins=dict(start=np.log(axis_range[0]),end=np.log(axis_range[1]),size=0.2), opacity=0.75, name='Pred Training'))\n",
    "hist_pred_MLR.add_trace(go.Histogram(x=np.log(df_MLR_val_predicted.loc[:,'{}_val_{}'.format(MLR_method, target_parameter)]),\n",
    "                                             xbins=dict(start=np.log(axis_range[0]),end=np.log(axis_range[1]),size=0.2), opacity=0.75, name='Pred Validation'))\n",
    "hist_pred_MLR.update_layout(barmode='overlay', showlegend=False, yaxis_range=hist_axis_rangeY, xaxis_range=np.log(axis_range), xaxis_showticklabels=False,\n",
    "                                    margin_r=0, margin_t=0, margin_l=0, margin_b=0, width=950,\n",
    "                                    xaxis = dict(tickfont = dict(size=font_size), showline=True, linewidth=2, linecolor='black', mirror=True),\n",
    "                                    yaxis = dict(title='Nr. of cones', tickfont = dict(size=font_size), showline=True, linewidth=2, linecolor='black', mirror=True),\n",
    "                                    legend=dict(yanchor='top', y=0.99, xanchor='right', x=0.99),\n",
    "                                    font=dict(size=font_size, family=font_type))\n",
    "hist_pred_MLR.write_image(r'{}_TrainValidationSplit_{}_{}.svg'.format(inputName, predictor_parameter_text, MLR_method), format='svg', width=950, height=200, scale=1)\n",
    "hist_pred_MLR.show()\n",
    "\n",
    "fig_residual_MLR = px.scatter(\n",
    "    df_MLR_cv_predicted,\n",
    "    x=np.log(df_MLR_val_predicted[target_parameter]),\n",
    "    y=np.log(df_MLR_val_predicted.loc[:,'{}_val_{}'.format(MLR_method, target_parameter)])-np.log(df_MLR_val_predicted[target_parameter]),\n",
    "    width=1020, height=400)\n",
    "fig_residual_MLR.add_hline(y=0, line_width=3, line_dash='dash', line_color='black')\n",
    "fig_residual_MLR.update_layout(xaxis = dict(title='Log(absolute age)'.format(),\n",
    "                                    tickfont = dict(size=font_size), showline=True, linewidth=2, linecolor='black', mirror=True),\n",
    "                           yaxis = dict(title='Residuals'.format(),\n",
    "                                    tickfont = dict(size=font_size), showline=True, linewidth=2, linecolor='black', mirror=True),\n",
    "                           font=dict(size=font_size, family=font_type),\n",
    "                           xaxis_range=[np.log(axis_range[0]),np.log(axis_range[1])],\n",
    "                           yaxis_range=[-6.5,6.5]\n",
    "                          )\n",
    "fig_residual_MLR.write_image(r'{}_{}_{}_Predition_Residuals.svg'.format(inputName, predictor_parameter_text, MLR_method), format='svg', width=950, height=200, scale=1)\n",
    "fig_residual_MLR.show()"
   ]
  },
  {
   "cell_type": "code",
   "execution_count": 9,
   "metadata": {},
   "outputs": [
    {
     "name": "stdout",
     "output_type": "stream",
     "text": [
      "SVR - C from Grid Search: 250\n",
      "SVR - Gamma value from Grid Search: 0.01\n",
      "SVR - Epsilon from Grid Search: 1\n",
      "SVR - Mean R2cv from 3-fold: 0.441\n",
      "SVR - Mean MAPEcv from 3-fold: 86.29% (in log-space)\n",
      "SVR - R2val using independent data: 0.540\n",
      "SVR - MAPEval using independent data: 705.81% (in log-space)\n",
      "SVR - Spearman correlation coefficient using independent data: 0.745 (p=0.000)\n",
      "SVR - R2val on the excluded data: 0.253\n",
      "SVR - MAPEval on the excluded data: 186.31% (in log-space)\n",
      "SVR - Spearman correlation coefficient on the excluded data: 0.632 (p=0.000)\n"
     ]
    }
   ],
   "source": [
    "# Support Vector Regression model (SVR)\n",
    "#########################################################################################################\n",
    "#########################################################################################################\n",
    "#########################################################################################################\n",
    "\n",
    "### Support Vector Regression model (SVR)\n",
    "from sklearn.svm import SVR\n",
    "from sklearn.model_selection import KFold\n",
    "from sklearn.model_selection import GridSearchCV\n",
    "from sklearn.model_selection import cross_val_predict\n",
    "from sklearn.model_selection import cross_val_score\n",
    "from scipy import stats\n",
    "from sklearn.metrics import r2_score\n",
    "from sklearn.metrics import mean_absolute_percentage_error\n",
    "\n",
    "SVR_method = 'SVR'\n",
    "n_splits = 3\n",
    "\n",
    "### Grid search for parameters\n",
    "SVR_cv = KFold(n_splits=n_splits, shuffle=True, random_state=random_state)\n",
    "SVR_cv.get_n_splits(df_scaled_train_X, df_scaled_train_Y)\n",
    "\n",
    "tuned_parameters = [{\n",
    "    'gamma': [0.001, 0.001, 0.01, 0.1, 1, 5, 10, 20, 50, 80, 100, 150, 250],\n",
    "    'C': [0.001, 0.001, 0.01, 0.1, 1, 5, 10, 20, 50, 80, 100, 150, 250],\n",
    "    'epsilon': [1, 0.1, 0.01, 0.001]\n",
    "}]\n",
    "\n",
    "GridSearch = GridSearchCV(SVR(kernel='rbf'), tuned_parameters, scoring='r2', cv=SVR_cv)\n",
    "GridSearch.fit(df_scaled_train_X, df_scaled_train_Y.loc[:,target_parameter].values.ravel())\n",
    "\n",
    "c_value = GridSearch.best_params_.get('C')\n",
    "print(r'SVR - C from Grid Search: {}'.format(c_value))\n",
    "gamma_value = GridSearch.best_params_.get('gamma')\n",
    "print(r'SVR - Gamma value from Grid Search: {}'.format(gamma_value))\n",
    "epsilon_value = GridSearch.best_params_.get('epsilon')\n",
    "print(r'SVR - Epsilon from Grid Search: {}'.format(epsilon_value))\n",
    "\n",
    "SVR = SVR(kernel='rbf', gamma=gamma_value, C=c_value, epsilon=epsilon_value)\n",
    "SVR.fit(df_scaled_train_X, df_scaled_train_Y.loc[:,target_parameter].values.ravel())\n",
    "\n",
    "### K-fold cross-validation\n",
    "SVR_cv_r2 = cross_val_score(SVR, df_scaled_train_X, df_scaled_train_Y.loc[:,target_parameter], scoring='r2', cv=SVR_cv, n_jobs=-1)\n",
    "print(r'SVR - Mean R2cv from {}-fold: {:0.3f}'.format(n_splits, np.mean(SVR_cv_r2)))\n",
    "\n",
    "SVR_cv_MAPE = cross_val_score(SVR, df_scaled_train_X, df_scaled_train_Y.loc[:,target_parameter], scoring='neg_mean_absolute_percentage_error', cv=SVR_cv, n_jobs=-1)\n",
    "print(r'SVR - Mean MAPEcv from {}-fold: {:0.2f}% (in log-space)'.format(n_splits, np.mean(- SVR_cv_MAPE*100)))\n",
    "\n",
    "SVR_cv_predicted = pd.DataFrame(InvTransformer.transform(\n",
    "    cross_val_predict(SVR, df_scaled_train_X, df_scaled_train_Y.loc[:,target_parameter], cv=SVR_cv, n_jobs=-1)),\n",
    "    columns=['{}_trainCV_{}'.format(SVR_method, target_parameter)], index=df_scaled_train_X.index)\n",
    "df_SVR_cv_predicted = df_scaled_train.merge(SVR_cv_predicted, on='ID', sort=False)\n",
    "\n",
    "### Validation with independent data\n",
    "df_scaled_validation_X = df_scaled_val.loc[:,predictor_parameter]\n",
    "SVR_val_predicted = pd.DataFrame(InvTransformer.transform(SVR.predict(df_scaled_validation_X)),\n",
    "                                  columns=['{}_val_{}'.format(SVR_method, target_parameter)], index=df_scaled_val.index)\n",
    "df_SVR_val_predicted = df_scaled_val.merge(SVR_val_predicted, on='ID', sort=False)\n",
    "\n",
    "SVR_val_r2 = r2_score(transformer.transform(df_SVR_val_predicted.loc[:,target_parameter]),\n",
    "                             SVR.predict(df_scaled_validation_X))\n",
    "print(r'SVR - R2val using independent data: {:0.3f}'.format(SVR_val_r2))\n",
    "\n",
    "SVR_val_MAPE = mean_absolute_percentage_error(transformer.transform(df_SVR_val_predicted.loc[:,target_parameter]),\n",
    "                            SVR.predict(df_scaled_validation_X))\n",
    "print(r'SVR - MAPEval using independent data: {:0.2f}% (in log-space)'.format(SVR_val_MAPE*100))\n",
    "\n",
    "SVR_val_spearmanR = stats.spearmanr(df_SVR_val_predicted.loc[:,target_parameter],\n",
    "                             df_SVR_val_predicted.loc[:,'{}_val_{}'.format(SVR_method, target_parameter)])\n",
    "print(r'SVR - Spearman correlation coefficient using independent data: {:0.3f} (p={:0.3f})'.format(SVR_val_spearmanR[0], SVR_val_spearmanR[1]))\n",
    "\n",
    "### Prediction on excluded data\n",
    "SVR_excluded_predicted = pd.DataFrame(InvTransformer.transform(SVR.predict(df_scaled_excluded_X)),\n",
    "                                      columns=['{}_excluded_{}'.format(SVR_method, target_parameter)],\n",
    "                                      index=df_scaled_excluded.index)\n",
    "\n",
    "df_SVR_excluded_predicted = df_scaled_excluded.merge(SVR_excluded_predicted, on='ID', sort=False)\n",
    "\n",
    "SVR_excluded_r2 = r2_score(transformer.transform(df_SVR_excluded_predicted.loc[:,'Age']),\n",
    "                             SVR.predict(df_scaled_excluded_X))\n",
    "print(r'SVR - R2val on the excluded data: {:0.3f}'.format(SVR_excluded_r2))\n",
    "\n",
    "SVR_excluded_MAPE = mean_absolute_percentage_error(transformer.transform(df_SVR_excluded_predicted.loc[:,'Age']),\n",
    "                            SVR.predict(df_scaled_excluded_X))\n",
    "print(r'SVR - MAPEval on the excluded data: {:0.2f}% (in log-space)'.format(SVR_excluded_MAPE*100))\n",
    "\n",
    "SVR_excluded_spearmanR = stats.spearmanr(df_SVR_excluded_predicted.loc[:,'Age'],\n",
    "                             df_SVR_excluded_predicted.loc[:,'{}_excluded_{}'.format(SVR_method, target_parameter)])\n",
    "print(r'SVR - Spearman correlation coefficient on the excluded data: {:0.3f} (p={:0.3f})'.format(SVR_excluded_spearmanR[0], SVR_excluded_spearmanR[1]))"
   ]
  },
  {
   "cell_type": "code",
   "execution_count": 13,
   "metadata": {},
   "outputs": [],
   "source": [
    "import pandas as pd\n",
    "import numpy as np\n",
    "\n",
    "##ruta\n",
    "ruta_excel_rapanui = r\"C:\\Users\\56931\\Documents\\intentoage\\Rapanuimorfometria.xlsx\"\n",
    "hoja = \"variables\"\n",
    "\n",
    "predictor_parameter = ['BaseHco', 'BaseWco', 'BaseVol', 'FlSlopeMean', 'HcoWcoMean']  \n",
    "\n",
    "##cargar datos\n",
    "df_rapanui = pd.read_excel(ruta_excel_rapanui, sheet_name=hoja)\n",
    "\n",
    "##data con parametros predictores\n",
    "df_rapanui_X = df_rapanui[predictor_parameter].copy()\n",
    "\n",
    "##transformacion para normalizacion\n",
    "X_rapanui_scaled = pd.DataFrame(transformer.transform(df_rapanui_X), columns=predictor_parameter)\n",
    "\n",
    "##aplicacion de modelo SVR\n",
    "Y_rapanui_pred_log = SVR.predict(X_rapanui_scaled)\n",
    "\n",
    "##revertir transform\n",
    "Y_rapanui_pred = InvTransformer.transform(Y_rapanui_pred_log)\n",
    "\n",
    "##data\n",
    "df_predicted_rapanui_svr = pd.DataFrame(\n",
    "    Y_rapanui_pred,\n",
    "    columns=['Age_pred']  \n",
    ")\n",
    "\n",
    "##exportar\n",
    "df_predicted_rapanui_svr.to_excel(r\"C:\\Users\\56931\\Documents\\intentoage\\Edades_Predichas_Rapanui_SVR.xlsx\", index=False)\n",
    "\n"
   ]
  },
  {
   "cell_type": "code",
   "execution_count": 24,
   "metadata": {},
   "outputs": [
    {
     "data": {
      "application/vnd.plotly.v1+json": {
       "config": {
        "plotlyServerURL": "https://plot.ly"
       },
       "data": [
        {
         "hovertemplate": "x=%{x}<br>y=%{y}<extra></extra>",
         "legendgroup": "",
         "line": {
          "color": "black",
          "dash": "solid",
          "width": 1.5
         },
         "marker": {
          "line": {
           "width": 0.5
          },
          "size": 8,
          "symbol": "circle"
         },
         "mode": "lines",
         "name": "",
         "orientation": "v",
         "showlegend": false,
         "type": "scatter",
         "x": {
          "bdata": "exSuR+F6hD8AAAAAAEzNQA==",
          "dtype": "f8"
         },
         "xaxis": "x",
         "y": {
          "bdata": "exSuR+F6hD8AAAAAAEzNQA==",
          "dtype": "f8"
         },
         "yaxis": "y"
        },
        {
         "error_x": {
          "array": {
           "bdata": "AAAAAACAQUAzMzMzMzPjP0jhehSuR9U/PzVeukkM5j8AAAAAAABUQAAAAAAAAD5AObTIdr6fyj/NzMzMzMzsPwAAAAAAAB5AAAAAAAAACECkcD0K16PAP8l2vp8aL/M/AAAAAAAAIkCJQWDl0CKrPwAAAAAAgFtAAAAAAAAARUDsUbgeheuRP5qZmZmZmbk/AAAAAAAA8D+4HoXrUbiePwAAAAAAACBAzczMzMzMFEDD9Shcj8LFPwAAAAAAAD5A9P3UeOkmyT8AAAAAAAASQIXrUbgehcs/AAAAAAAALEAAAAAAAABZQAAAAAAAgEtAAAAAAAAAAAAAAAAAAAA0QIXrUbgehcs/AAAAAAAAHkBmZmZmZmbGPwAAAAAAAGlAAAAAAAAAAAAAAAAAAAA0QAAAAAAAADRAexSuR+F6pD8AAAAAAAAYQAAAAAAAACRAMzMzMzMz8z8AAAAAAAAqQArXo3A9Crc/AAAAAAAAAAAAAAAAAAAMQAAAAAAAAD5A2c73U+Oluz8AAAAAAAAUQAAAAAAAwIJA7FG4HoXr2T+amZmZmZm5PzMzMzMzM8M/AAAAAAAANECmm8QgsHLYPwAAAAAAACRAAAAAAAAAGEAK16NwPQqnP/yp8dJNYlA/CtejcD0Kpz97FK5H4XqkPwAAAAAAAAAAZmZmZmZmKEAAAAAAAABOQAAAAAAAAB5AAAAAAAAAJEAK16NwPQqnPwAAAAAAACRAAAAAAAAAREB7FK5H4XqkPwAAAAAAAElAAAAAAAAAJECamZmZmZmpPwAAAAAAgEBAAAAAAAAAVEAK16NwPQqnPwAAAAAAABhAuB6F61G4nj8AAAAAACBsQAAAAAAAAC5AAAAAAAAAeUDNzMzMzMwkQAAAAAAAAHlAAAAAAAAABEAAAAAAAABZQAAAAAAAgFFAZmZmZmZmxj8AAAAAAAAnQAAAAAAAAAAAmpmZmZmZqT/0/dR46SaxPwAAAAAAADZAAAAAAAAALkAAAAAAAAAwQAAAAAAAAOA/zczMzMzMI0AAAAAAAAAAAAAAAAAAABRAAAAAAAAAAAAAAAAAAEBqQAAAAAAAAAAAmpmZmZmZuT8AAAAAAAAqQFK4HoXrUag/zczMzMzMI0AAAAAAAAAcQJqZmZmZmbk/AAAAAAAAAACamZmZmZkmQDMzMzMzM8M/AAAAAAAADEB7FK5H4XpkPwAAAAAAADRAAAAAAAAAFEAAAAAAAAAWQAAAAAAAAAAAg8DKoUW22z8AAAAAAAAAAHE9CtejcL0/MzMzMzMzFUAAAAAAAAA0QDMzMzMzM/s/mpmZmZmZuT8AAAAAAADwPwAAAAAAADRAMzMzMzOzIEAAAAAAAAAAAHsUrkfhepQ/AAAAAAAAVEAAAAAAAAAMQH9qvHSTGMQ/AAAAAAAAWUCamZmZmZmZPwAAAAAAADRAAAAAAAAAOUAAAAAAAAAoQAAAAAAAYGhAAAAAAAAAKkAAAAAAAABEQHE9CtejcM0/ZmZmZmYmQ0AAAAAAAABpQAAAAAAAABRAzczMzMzM3D+amZmZmZm5PzMzMzMzM7M/AAAAAAAAMUAAAAAAAABJQAAAAAAAgEFAAAAAAAAACEAAAAAAAABEQAAAAAAAACRAAAAAAAAAAAAAAAAAAAA4QAAAAAAAADtAZmZmZmZmAEApXI/C9Si8PwAAAAAAAERAMzMzMzMzI0AAAAAAAABZQA==",
           "dtype": "f8"
          },
          "type": "data",
          "visible": true
         },
         "hovertemplate": "ConeName: %{text}<br>ConeAge: %{x:.2f} ky<br>ConePredAge: %{y:.2f} ky",
         "hovertext": [
          [
           "Bas Tepe",
           1710,
           1600.190459196972
          ],
          [
           "Merriam crater",
           19.6,
           330.36219634567414
          ],
          [
           "El Estribo",
           32.746,
           29.596326740642073
          ],
          [
           "Tezontle",
           26.241,
           32.71065389994632
          ],
          [
           "Blue Spring Mountain",
           2780,
           967.776131554084
          ],
          [
           "ID507",
           310,
           505.01662187543644
          ],
          [
           "Dos Cerros",
           18.939,
           16.77813975857296
          ],
          [
           "Puy de Come",
           13.7,
           203.339512533628
          ],
          [
           "Mt Elephant",
           184,
           75.66590711696895
          ],
          [
           "ID125",
           601,
           22.52845611668542
          ],
          [
           "Lava Butte",
           7.161,
           4.890867832581426
          ],
          [
           "El Molcajete (ID168)",
           34.956,
           110.61549698324
          ],
          [
           "Cerro El Reparo",
           240,
           37.38632104216971
          ],
          [
           "Puu o Kalaukani (v5dc h7.2)",
           2.36,
           95.99933037194184
          ],
          [
           "Pampa de los Guanacos ",
           2890,
           5830.315172288009
          ],
          [
           "Hidden cone",
           373,
           32.70901182855313
          ],
          [
           "Xitle",
           1.81,
           2.6696291995760544
          ],
          [
           "Sosed",
           1.8,
           12.23588774593764
          ],
          [
           "Montana Cabrera",
           18,
           9.017713444914147
          ],
          [
           "Heikongshan",
           4.495,
           3.384155563636167
          ],
          [
           "Cerro El Tule",
           116,
           80.81749395085767
          ],
          [
           "Cerro Gordo",
           403,
           232.0665891238591
          ],
          [
           "Molcajete",
           9.99,
           108.64612223149894
          ],
          [
           "Cone R",
           700,
           201.85426270581036
          ],
          [
           "Pelado",
           12.095,
           15.135644725150797
          ],
          [
           "ID195",
           305,
           10.306720379423009
          ],
          [
           "Nash Crater",
           3.92,
           13.463404582828497
          ],
          [
           "ID200",
           768,
           42.362857350669536
          ],
          [
           "Monte Pelau",
           1900,
           8718.605038336651
          ],
          [
           "Karayalim Tepe",
           620,
           2134.320756582559
          ],
          [
           "Monte Josemaria Escriva",
           0.019,
           3.3061974650425343
          ],
          [
           "ID142",
           260,
           929.8653914032868
          ],
          [
           "Cerro Miguel",
           19.871,
           11.79199886503699
          ],
          [
           "Montana de Taco",
           706,
           19.99792626309699
          ],
          [
           "Lagoa",
           4.995,
           66.5704980222981
          ],
          [
           "Los Nacimientos (ID442)",
           2800,
           1266.4020757937194
          ],
          [
           "Sta. Catalina",
           0.29,
           10.922189891586696
          ],
          [
           "ID457",
           450,
           106.74257462923497
          ],
          [
           "ID345",
           400,
           778.541243180243
          ],
          [
           "Futatsuzuka-E",
           2.12,
           127.12291286307796
          ],
          [
           "Wheat Mountain",
           2114,
           5445.20358590572
          ],
          [
           "ID382",
           320,
           1015.3670528490442
          ],
          [
           "La Poruna",
           103,
           8.832169779168519
          ],
          [
           "Zarzamora",
           173,
           14.942765100614736
          ],
          [
           "Umiahu (v3c g1.8)",
           6.33,
           7.669469432136908
          ],
          [
           "Paricutin",
           0.068,
           2.907064012424298
          ],
          [
           "Agurejado",
           34,
           34.05863895738002
          ],
          [
           "Cerro Partido",
           620,
           43.06849124002555
          ],
          [
           "Volcan Juanyan",
           12.914,
           32.86600467557973
          ],
          [
           "ID351",
           370,
           228.63790408695525
          ],
          [
           "ID436",
           7300,
           2628.9840537859545
          ],
          [
           "Khorgo",
           7.78,
           43.481010262921785
          ],
          [
           "Azamizuka",
           9.77,
           14.238128794150184
          ],
          [
           "Vigia",
           1.57,
           16.35968445985589
          ],
          [
           "Cerro Las Flores",
           730,
           66.08677274883149
          ],
          [
           "Cuatl",
           22.235,
           11.247790011525868
          ],
          [
           "Tieguoshan",
           160,
           1.410886239154952
          ],
          [
           "Cerro Alto",
           64,
           17.824194346413115
          ],
          [
           "Clear Lake East",
           2.82,
           26.70452266458439
          ],
          [
           "Ashishan",
           0.069,
           37.47704759120743
          ],
          [
           "Red Cone South",
           8.56,
           7.096474067473863
          ],
          [
           "Katabutayama",
           3.08,
           6.028383069735371
          ],
          [
           "Volcan San Antonio",
           0.343,
           14.412267940281135
          ],
          [
           "Dabaa",
           717.7,
           122.49121935736338
          ],
          [
           "Cerro Tancitaro",
           530,
           82.53733225619702
          ],
          [
           "Cristo Rey",
           403,
           429.1277647967223
          ],
          [
           "Mt Gellibrand",
           1290,
           7754.408898388181
          ],
          [
           "Red Cone North",
           8.56,
           16.009817301220888
          ],
          [
           "Kizil Tepe",
           260,
           699.0289137341748
          ],
          [
           "Cerro Verde",
           340,
           17.413368845336635
          ],
          [
           "Futatsuzuka-W",
           2.12,
           50.06024414968924
          ],
          [
           "Cone J",
           460,
           252.65334598768797
          ],
          [
           "Cerro El Mirador (ID219)",
           380,
           64.67567644039597
          ],
          [
           "Cerro Mauras",
           2.96,
           1058.6334187987882
          ],
          [
           "Nangelaqiushan",
           462,
           203.56003977442666
          ],
          [
           "El Rojo Norte",
           3050,
           6290.106141047476
          ],
          [
           "Great Spring",
           2.82,
           59.04095599901517
          ],
          [
           "South Sheba cone",
           190,
           794.8725145030749
          ],
          [
           "NE Nawahine (v5d c2.6)",
           2.46,
           2.341683107004714
          ],
          [
           "Estancia Luca",
           2570,
           2779.535161781631
          ],
          [
           "Inniol Tepe",
           550,
           642.1088275832977
          ],
          [
           "Cerro Morado",
           6700,
           5863.8112478694275
          ],
          [
           "Sha’ib Ad Dirwah",
           584.5,
           136.71479630800255
          ],
          [
           "Cerro Tropetepe",
           7200,
           2716.5371305768504
          ],
          [
           "Calderon Hondo",
           134,
           5.994569598925085
          ],
          [
           "SW of Cerro Pasa Willkhi",
           3430,
           1462.4601679859045
          ],
          [
           "ID440",
           4970,
           175.1881718247173
          ],
          [
           "ID59 (v4b p9.2)",
           4.77,
           7.248280381215025
          ],
          [
           "Montana de los Santos",
           229,
           9.51088114828867
          ],
          [
           "N Breakthrough I",
           0.045,
           15.069180054203306
          ],
          [
           "Chilcayoc Grande",
           0.533,
           2.8355784188152846
          ],
          [
           "Cerro El Zoyate",
           2.35,
           24.769856493703028
          ],
          [
           "Saint Peter's Dome",
           670,
           879.4389837774534
          ],
          [
           "ID172",
           298,
           17.194090539699044
          ],
          [
           "Cerro San Jeronimo",
           581,
           77.75675466653202
          ],
          [
           "Paxton Springs",
           15,
           30.53725764456046
          ],
          [
           "Lower Sahab (ID549)",
           346.9,
           104.5699986085972
          ],
          [
           "Laoheishan",
           0.301,
           180.78151648515868
          ],
          [
           "ID350",
           360,
           491.2823807040262
          ],
          [
           "Krasny",
           0.28,
           6.110108183470061
          ],
          [
           "Mamuel Choique (ID495)",
           5650,
           6176.078986183793
          ],
          [
           "Cabeco do Fogo",
           0.347,
           24.840160125322637
          ],
          [
           "Shiratsuka",
           3.87,
           5.995767927505473
          ],
          [
           "Telcampana",
           140,
           135.82750389061403
          ],
          [
           "Malforada",
           1.12,
           0.5721422452406498
          ],
          [
           "Lower Sahab (ID542)",
           346.9,
           110.98263421797648
          ],
          [
           "Mt Franklin",
           110,
           125.71037527088494
          ],
          [
           "Kosukemaru",
           4,
           5.164919028454207
          ],
          [
           "Mazo",
           0.298,
           29.227763645315445
          ],
          [
           "ID533",
           137.3,
           102.43377758808967
          ],
          [
           "Pu'u Kole (MK_220)",
           4.62,
           10.673399948068823
          ],
          [
           "SP Crater",
           70,
           14.302009336174068
          ],
          [
           "Rangitoto",
           0.574,
           7.050701138297912
          ],
          [
           "Racecourse Knob",
           210,
           276.4627738396011
          ],
          [
           "Puy de Laschamps",
           44,
           363.13424223224916
          ],
          [
           "Fish Spring",
           243,
           38.393975045349755
          ],
          [
           "Nagaoyama",
           1.154,
           5.572916757755152
          ],
          [
           "Cerro La Taza",
           9.503,
           6.723806462529594
          ],
          [
           "Monpeloso",
           1.768,
           11.668713871794907
          ],
          [
           "Montana del Banco",
           15.14,
           7.170120190526909
          ],
          [
           "Cerro Santiago",
           390.9,
           208.0968904926381
          ],
          [
           "Cerro El Pinalito Frutas",
           880,
           93.32663677059904
          ],
          [
           "Hachinoyama ",
           28.87,
           30.84835190836943
          ],
          [
           "Nishiusuzuka",
           8.02,
           24.845897333125457
          ],
          [
           "Montana Faro",
           15,
           7.546958138282106
          ],
          [
           "ID508",
           320,
           243.6858064289516
          ],
          [
           "Cerro de los Cedros",
           544.8,
           32.970267502462654
          ],
          [
           "Mt Gorna",
           2.414,
           14.021260362648867
          ],
          [
           "Volcan de Guimar",
           2.77,
           12.048531685583983
          ],
          [
           "Carachipampa",
           750,
           454.8926711528944
          ],
          [
           "ID39",
           207,
           37.985652082372845
          ],
          [
           "San Miguel",
           19.998,
           46.93121062187807
          ],
          [
           "Volcan de Guanapay",
           1200,
           55.68159405050161
          ],
          [
           "Chengzilou",
           8.935,
           7.208123644481491
          ],
          [
           "Goctepesi",
           1750,
           6744.303298820949
          ],
          [
           "Conito de las Lagunitas",
           6070,
           44.4538628883473
          ],
          [
           "Comal Grande",
           137,
           60.681358302774484
          ],
          [
           "ID434",
           9950,
           1606.6695687957972
          ],
          [
           "Pu'uwaiau ",
           107,
           23.21289300569025
          ],
          [
           "Monte Massa",
           380,
           1537.4115447017641
          ],
          [
           "Karadivit Tepe",
           3.34,
           4.004993866203067
          ],
          [
           "ID534",
           507.4,
           37.584037166723476
          ],
          [
           "El Jote (ID449)",
           3200,
           631.4173864124147
          ],
          [
           "Amboy Crater",
           79,
           8.817865751166755
          ],
          [
           "Darangsh",
           10.4,
           24.243471183071733
          ],
          [
           "Ioyama",
           2.84,
           0.9583294194211462
          ],
          [
           "ID62 (v2e n2.3)",
           13.02,
           36.37995783018579
          ],
          [
           "ID191",
           236,
           15.036585621690065
          ],
          [
           "Asay Knoll",
           520,
           1333.6865472216616
          ],
          [
           "Cone K",
           990,
           1021.6597153901643
          ],
          [
           "Bois de Chanat",
           90,
           610.4606169471728
          ],
          [
           "Cerro Tecario",
           730,
           40.644302656447046
          ],
          [
           "Zimpizahua",
           390,
           21.45362874538093
          ],
          [
           "1643 cone",
           0.377,
           18.79807528034422
          ],
          [
           "ID194",
           485,
           2688.6934421375845
          ],
          [
           "El Carpintero Norte",
           240,
           281.06283766538513
          ],
          [
           "Mt Noorat",
           581.7,
           642.8530529245734
          ],
          [
           "North Sugarpine",
           6.8,
           86.18395903657263
          ],
          [
           "Cerro El Chocolate",
           510,
           1003.17161486028
          ],
          [
           "Al Ihn",
           546.2,
           27.729056043062286
          ],
          [
           "E Cerro Chinina",
           2400,
           2465.3375863798415
          ]
         ],
         "marker": {
          "color": "#5799c6",
          "line": {
           "color": "#74797C",
           "width": 0.5
          },
          "size": 8
         },
         "mode": "markers",
         "name": "Training",
         "showlegend": false,
         "text": [
          "Bas Tepe",
          "Merriam crater",
          "El Estribo",
          "Tezontle",
          "Blue Spring Mountain",
          "ID507",
          "Dos Cerros",
          "Puy de Come",
          "Mt Elephant",
          "ID125",
          "Lava Butte",
          "El Molcajete (ID168)",
          "Cerro El Reparo",
          "Puu o Kalaukani (v5dc h7.2)",
          "Pampa de los Guanacos ",
          "Hidden cone",
          "Xitle",
          "Sosed",
          "Montana Cabrera",
          "Heikongshan",
          "Cerro El Tule",
          "Cerro Gordo",
          "Molcajete",
          "Cone R",
          "Pelado",
          "ID195",
          "Nash Crater",
          "ID200",
          "Monte Pelau",
          "Karayalim Tepe",
          "Monte Josemaria Escriva",
          "ID142",
          "Cerro Miguel",
          "Montana de Taco",
          "Lagoa",
          "Los Nacimientos (ID442)",
          "Sta. Catalina",
          "ID457",
          "ID345",
          "Futatsuzuka-E",
          "Wheat Mountain",
          "ID382",
          "La Poruna",
          "Zarzamora",
          "Umiahu (v3c g1.8)",
          "Paricutin",
          "Agurejado",
          "Cerro Partido",
          "Volcan Juanyan",
          "ID351",
          "ID436",
          "Khorgo",
          "Azamizuka",
          "Vigia",
          "Cerro Las Flores",
          "Cuatl",
          "Tieguoshan",
          "Cerro Alto",
          "Clear Lake East",
          "Ashishan",
          "Red Cone South",
          "Katabutayama",
          "Volcan San Antonio",
          "Dabaa",
          "Cerro Tancitaro",
          "Cristo Rey",
          "Mt Gellibrand",
          "Red Cone North",
          "Kizil Tepe",
          "Cerro Verde",
          "Futatsuzuka-W",
          "Cone J",
          "Cerro El Mirador (ID219)",
          "Cerro Mauras",
          "Nangelaqiushan",
          "El Rojo Norte",
          "Great Spring",
          "South Sheba cone",
          "NE Nawahine (v5d c2.6)",
          "Estancia Luca",
          "Inniol Tepe",
          "Cerro Morado",
          "Sha’ib Ad Dirwah",
          "Cerro Tropetepe",
          "Calderon Hondo",
          "SW of Cerro Pasa Willkhi",
          "ID440",
          "ID59 (v4b p9.2)",
          "Montana de los Santos",
          "N Breakthrough I",
          "Chilcayoc Grande",
          "Cerro El Zoyate",
          "Saint Peter's Dome",
          "ID172",
          "Cerro San Jeronimo",
          "Paxton Springs",
          "Lower Sahab (ID549)",
          "Laoheishan",
          "ID350",
          "Krasny",
          "Mamuel Choique (ID495)",
          "Cabeco do Fogo",
          "Shiratsuka",
          "Telcampana",
          "Malforada",
          "Lower Sahab (ID542)",
          "Mt Franklin",
          "Kosukemaru",
          "Mazo",
          "ID533",
          "Pu'u Kole (MK_220)",
          "SP Crater",
          "Rangitoto",
          "Racecourse Knob",
          "Puy de Laschamps",
          "Fish Spring",
          "Nagaoyama",
          "Cerro La Taza",
          "Monpeloso",
          "Montana del Banco",
          "Cerro Santiago",
          "Cerro El Pinalito Frutas",
          "Hachinoyama ",
          "Nishiusuzuka",
          "Montana Faro",
          "ID508",
          "Cerro de los Cedros",
          "Mt Gorna",
          "Volcan de Guimar",
          "Carachipampa",
          "ID39",
          "San Miguel",
          "Volcan de Guanapay",
          "Chengzilou",
          "Goctepesi",
          "Conito de las Lagunitas",
          "Comal Grande",
          "ID434",
          "Pu'uwaiau ",
          "Monte Massa",
          "Karadivit Tepe",
          "ID534",
          "El Jote (ID449)",
          "Amboy Crater",
          "Darangsh",
          "Ioyama",
          "ID62 (v2e n2.3)",
          "ID191",
          "Asay Knoll",
          "Cone K",
          "Bois de Chanat",
          "Cerro Tecario",
          "Zimpizahua",
          "1643 cone",
          "ID194",
          "El Carpintero Norte",
          "Mt Noorat",
          "North Sugarpine",
          "Cerro El Chocolate",
          "Al Ihn",
          "E Cerro Chinina"
         ],
         "type": "scatter",
         "x": {
          "bdata": "AAAAAAC4mkCamZmZmZkzQHNoke18X0BABFYOLbI9OkAAAAAAALilQAAAAAAAYHNAqvHSTWLwMkBmZmZmZmYrQAAAAAAAAGdAAAAAAADIgkC+nxov3aQcQO58PzVeekFAAAAAAAAAbkDhehSuR+ECQAAAAAAAlKZAAAAAAABQd0D2KFyPwvX8P83MzMzMzPw/AAAAAAAAMkB7FK5H4foRQAAAAAAAAF1AAAAAAAAweUB7FK5H4fojQAAAAAAA4IVAcT0K16MwKEAAAAAAABBzQFyPwvUoXA9AAAAAAAAAiEAAAAAAALCdQAAAAAAAYINA2/l+arx0kz8AAAAAAEBwQOXQItv53jNAAAAAAAAQhkB7FK5H4foTQAAAAAAA4KVAj8L1KFyP0j8AAAAAACB8QAAAAAAAAHlA9ihcj8L1AEAAAAAAAISgQAAAAAAAAHRAAAAAAADAWUAAAAAAAKBlQFK4HoXrURlAnMQgsHJosT8AAAAAAABBQAAAAAAAYINAhxbZzvfTKUAAAAAAACB3QAAAAAAAhLxAH4XrUbgeH0AK16NwPYojQB+F61G4Hvk/AAAAAADQhkBcj8L1KDw2QAAAAAAAAGRAAAAAAAAAUECPwvUoXI8GQESLbOf7qbE/H4XrUbgeIUCkcD0K16MIQMHKoUW289U/mpmZmZlthkAAAAAAAJCAQAAAAAAAMHlAAAAAAAAolEAfhetRuB4hQAAAAAAAQHBAAAAAAABAdUD2KFyPwvUAQAAAAAAAwHxAAAAAAADAd0CuR+F6FK4HQAAAAAAA4HxAAAAAAADUp0CPwvUoXI8GQAAAAAAAwGdArkfhehSuA0AAAAAAABSkQAAAAAAAMIFAAAAAAAAsukAAAAAAAESCQAAAAAAAILxAAAAAAADAYEAAAAAAAMyqQAAAAAAAarNAFK5H4XoUE0AAAAAAAKBsQArXo3A9Cqc/dZMYBFYO4T/NzMzMzMwCQAAAAAAA8IRAAAAAAACgckAAAAAAACiCQAAAAAAAAC5AZmZmZmaudUDdJAaBlUPTPwAAAAAAgHZA7FG4HoXr0T8AAAAAABK2QGiR7Xw/NdY/9ihcj8L1DkAAAAAAAIBhQOxRuB6F6/E/ZmZmZmaudUAAAAAAAIBbQAAAAAAAABBA30+Nl24S0z+amZmZmSlhQHsUrkfhehJAAAAAAACAUUCR7Xw/NV7iPwAAAAAAQGpAAAAAAAAARkAAAAAAAGBuQBBYObTIdvI/qMZLN4kBI0B9PzVeukn8P0jhehSuRy5AZmZmZmZueEAAAAAAAICLQB+F61G43jxACtejcD0KIEAAAAAAAAAuQAAAAAAAAHRAZmZmZmYGgUAdWmQ7308DQClcj8L1KAZAAAAAAABwh0AAAAAAAOBpQHNoke18/zNAAAAAAADAkkAfhetRuN4hQAAAAAAAWJtAAAAAAAC2t0AAAAAAACBhQAAAAAAAb8NAAAAAAADAWkAAAAAAAMB3QLgehetRuApAZmZmZma2f0AAAAAAAACpQAAAAAAAwFNAzczMzMzMJEC4HoXrUbgGQArXo3A9CipAAAAAAACAbUAAAAAAAECAQAAAAAAA8I5AAAAAAACAVkAAAAAAANCGQAAAAAAAYHhAVOOlm8Qg2D8AAAAAAFB+QAAAAAAAAG5AmpmZmZktgkAzMzMzMzMbQAAAAAAA4H9AmpmZmZkRgUAAAAAAAMCiQA==",
          "dtype": "f8"
         },
         "y": {
          "bdata": "3li8B8MAmUBrNmWOy6V0QLnJiN6omD1ArIX9tPZaQEB60XWENT6OQF22TBVEkH9Ax8nOKjTHMEB2kGNJ3WppQIpj4jie6lJA+Ihq5kiHNkCG+zeoP5ATQFxzdU1kp1tAEvDI93KxQkDxWGAH9f9XQJuNIa9QxrZAcg5M5sBaQECpAcWNZlsFQJ2oVEfGeChAJjaVvBEJIkB4JvMmwBILQCPnJdJRNFRA0KeDfyECbUBqYA8RWilbQLz0vR5WO2lAkMu0OXNFLkDuRh10Cp0kQD0hkF1D7SpAkx4THHIuRUBfbuVxTQfBQCPwNDqkrKBAas4TqBdzCkDa+lNS7A6NQCGbD+CAlSdAMdJ3GHj/M0D+DCMKg6RQQCfCwbmbyZNAHyICRinYJUDT2bxXhq9aQJ3yTXdUVIhAXcvpzd3HX0D+tjQeNEW1QGN0Z7nvuo9AJX9EKBKqIUCg5nUbsuItQIHMEmWJrR5AXO3lxqpBB0D/Gzp7gQdBQHL8KVLEiEVAJua/PdluQECk7tS1aZRsQFzY5dX3iaRADCWKvpG9RUDPOG4E7HksQOL130cUXDBAlJpJr42FUEDijhdV3n4mQFLA+HL9kvY/dmSTZv7SMUBEruuYW7Q6QI1vPeUPvUJAb9kSGcpiHEASGJFzEB0YQL1kkcgU0yxAbMJQI3CfXkDv3NSmY6JUQAp4GVML0npAoJSQrWhKvkC/rftigwIwQH21Hzc72IVA+OdnitJpMUBmWI4UtgdJQPdC2DXolG9Aa4tlSD4rUEDeBfCeiIqQQOVziNjrcWlArEcPLBuSuEAuLNILPoVNQPA/4uj61ohAhHJRWsS7AkBZnLkAErelQFX5/uDeEIRAJLzwrc/ntkCFxYGc3xZhQIJqxwITOaVAk+rzc3D6F0CByEY219mWQBAm64AF5mVAUDpWNj3+HEDlFcA2kgUjQGutbJFrIy5AuHDwvEOvBkBXEa9QFcU4QBg97QmDe4tAa3jo6q8xMUBt9h+rbnBTQMXpjLeJiT5AMaxx23okWkBTIdwuAplmQAYNoaGEtH5AgBocM8BwGEA6RHA4FCC4QPup5bsU1zhAtSpslqr7F0AAcHDpevpgQMv+/kD9TuI/7oiheuO+W0ChFdfJdm1fQLDLpojgqBRA+9jft046PUBOpRIDw5tZQNoqxODHWCVAmei796CaLEAicMv/6jMcQH+oioVnR3FACdQu2yWydkDRmzfGbTJDQBCOx7CqShZAz8p0hS3lGkA4eyOqYVYnQDjPuvwzrhxAkSUXuhkDakA22emd51RXQCbyNZct2T5AJoxFuozYOECOz1DLFTAeQHr3UiDydW5Ab7m7uTF8QEBUjmSj4gosQFHOJCXZGChAOvyLYUhufEBJg/HYKf5CQLtT3+gxd0dAuwZOeT7XS0ASSlpdHtUcQOTU/aRNWLpA7ijbLRg6RkAio7W/NldOQHxBcaOtGplAnfzwJ4A2N0Cta/lrpQWYQFIXsBwdBRBA6FzZusHKQkDt+K/OVruDQDOPu0y/oiFAwM+gIFQ+OED0q2Z1oqruP+hAS3WiMEJASFPBWbsSLkDJIDwGv9aUQGPL3BhH7Y9AuSDwV68Tg0A/FWuCeFJEQMXvcQMhdDVAENNcqU7MMkAwDdkKYwGlQJRcEWIBkXFAZmZpDdMWhECFeB/8xYtVQEijnHdfWY9AWOe1aqO6O0D9OR/YrEKjQA==",
          "dtype": "f8"
         }
        },
        {
         "error_x": {
          "array": {
           "bdata": "AAAAAAAANEAzMzMzMzPDP5qZmZmZmck/AAAAAAAAIkAAAAAAAAAmQClcj8L1KKw//Knx0k1i4j9mZmZmZmbGPwAAAAAAAERAAAAAAABAUEAAAAAAAAAkQHsUrkfheqQ/AAAAAAAANEB7FK5H4XqkP5qZmZmZmbk/mpmZmZmZuT+amZmZmZnpP+xRuB6F67E/AAAAAAAAJEAAAAAAAAAkQAAAAAAAAAAAAAAAAABAZUAAAAAAAABUQAAAAAAAAE5AAAAAAAAA8D8AAAAAAABpQAAAAAAAgGFAAAAAAADAckAAAAAAAIBPQAAAAAAAACZAAAAAAAAAJEAAAAAAAABZQGZmZmZmZvY/zczMzMzMJUAzMzMzMzMLQGZmZmZmZtY/mpmZmZmZqT8AAAAAAAAAAAAAAAAAAAAAAAAAAAAAAAA=",
           "dtype": "f8"
          },
          "type": "data",
          "visible": true
         },
         "hovertemplate": "ConeName: %{text}<br>ConeAge: %{x:.2f} ky<br>ConePredAge: %{y:.2f} ky",
         "hovertext": [
          [
           "Te Ahuahu",
           280,
           204.50752978077162
          ],
          [
           "Pu'u Kole (MK_42)",
           7.17,
           10.888611103342134
          ],
          [
           "Kalaieha",
           5.7,
           3.461780567274276
          ],
          [
           "Molcajete Galope",
           180,
           14.788361844158977
          ],
          [
           "Comal Chico",
           137,
           92.79422045699093
          ],
          [
           "Rincon de Chapultepec",
           3,
           8.041580267937166
          ],
          [
           "Teuhtli",
           36.303,
           24.22728751507156
          ],
          [
           "La Tinaja",
           5.96,
           58.55574190044121
          ],
          [
           "Cerro Le Ventana",
           1640,
           112.23394779830909
          ],
          [
           "Janitzio",
           896,
           33.12072129136382
          ],
          [
           "Shiunzan",
           440,
           62.171780984712754
          ],
          [
           "Komezuka",
           3.17,
           2.3897394426384784
          ],
          [
           "Togasayama",
           260,
           107.16038554838023
          ],
          [
           "Omuroyama (ID255)",
           3.08,
           43.404731525717615
          ],
          [
           "Koshikirizuka",
           3.32,
           43.70552578825615
          ],
          [
           "Hiratsuka",
           5.52,
           21.109368666432246
          ],
          [
           "Puy de Pariou",
           9.1,
           46.08768746620824
          ],
          [
           "Pico Bandama",
           2.04,
           8.105669364401049
          ],
          [
           "Pasa Tepe",
           210,
           305.14290253284184
          ],
          [
           "Kucukmedet",
           500,
           426.81701119909513
          ],
          [
           "Sunset Crater ",
           0.935,
           46.47171136535491
          ],
          [
           "Cerro Colorado",
           5150,
           85.80789176505118
          ],
          [
           "ID438",
           4680,
           2202.328987237305
          ],
          [
           "N Cerro Merihuaca",
           2480,
           2067.4462327929077
          ],
          [
           "Alumbrera",
           37,
           25.988103468633668
          ],
          [
           "E Antofagasta Valley (ID446)",
           4200,
           883.459216318167
          ],
          [
           "ID453",
           2130,
           1201.8820892086892
          ],
          [
           "Volcan del Inca",
           3900,
           477.0344050226236
          ],
          [
           "ID460",
           1045,
           71.11066354538747
          ],
          [
           "El Pozo",
           99,
           773.485924631612
          ],
          [
           "Las Ovejas",
           280,
           385.27409294523545
          ],
          [
           "Pampa de Agnia",
           2490,
           1729.5300343482045
          ],
          [
           "Cerro Volcan",
           108.7,
           2079.991570579645
          ],
          [
           "Al Malsa",
           220.5,
           108.03619410018071
          ],
          [
           "As Zayinah",
           410.3,
           19.281972018639948
          ],
          [
           "Trinta",
           7.82,
           57.175495270709334
          ],
          [
           "Cerro Tichso",
           4.13,
           35.7096948803816
          ],
          [
           "Mt Ilice",
           0.99,
           7.399182761753016
          ],
          [
           "Mt Lepre",
           1.42,
           5.240447700600907
          ],
          [
           "S Breakthrough",
           0.044,
           3.700603902286225
          ]
         ],
         "marker": {
          "color": "#ffa500",
          "line": {
           "color": "#74797C",
           "width": 0.5
          },
          "size": 8
         },
         "mode": "markers",
         "name": "Validation",
         "showlegend": false,
         "text": [
          "Te Ahuahu",
          "Pu'u Kole (MK_42)",
          "Kalaieha",
          "Molcajete Galope",
          "Comal Chico",
          "Rincon de Chapultepec",
          "Teuhtli",
          "La Tinaja",
          "Cerro Le Ventana",
          "Janitzio",
          "Shiunzan",
          "Komezuka",
          "Togasayama",
          "Omuroyama (ID255)",
          "Koshikirizuka",
          "Hiratsuka",
          "Puy de Pariou",
          "Pico Bandama",
          "Pasa Tepe",
          "Kucukmedet",
          "Sunset Crater ",
          "Cerro Colorado",
          "ID438",
          "N Cerro Merihuaca",
          "Alumbrera",
          "E Antofagasta Valley (ID446)",
          "ID453",
          "Volcan del Inca",
          "ID460",
          "El Pozo",
          "Las Ovejas",
          "Pampa de Agnia",
          "Cerro Volcan",
          "Al Malsa",
          "As Zayinah",
          "Trinta",
          "Cerro Tichso",
          "Mt Ilice",
          "Mt Lepre",
          "S Breakthrough"
         ],
         "type": "scatter",
         "x": {
          "bdata": "AAAAAACAcUCuR+F6FK4cQM3MzMzMzBZAAAAAAACAZkAAAAAAACBhQAAAAAAAAAhAEFg5tMgmQkDXo3A9CtcXQAAAAAAAoJlAAAAAAAAAjEAAAAAAAIB7QFyPwvUoXAlAAAAAAABAcECkcD0K16MIQI/C9ShcjwpAFK5H4XoUFkAzMzMzMzMiQFK4HoXrUQBAAAAAAABAakAAAAAAAEB/QOxRuB6F6+0/AAAAAAAetEAAAAAAAEiyQAAAAAAAYKNAAAAAAACAQkAAAAAAAGiwQAAAAAAApKBAAAAAAAB4rkAAAAAAAFSQQAAAAAAAwFhAAAAAAACAcUAAAAAAAHSjQM3MzMzMLFtAAAAAAACQa0DNzMzMzKR5QEjhehSuRx9AhetRuB6FEECuR+F6FK7vP7gehetRuPY/ukkMAiuHpj8=",
          "dtype": "f8"
         },
         "y": {
          "bdata": "IEUYrz2QaUATb9cI+MYlQIP4kgK6sQtAdCfkKaSTLUDGJQqC1DJXQOnlRQJKFSBAfgW8gy86OEC5tPOMIkdNQFytLwD5DlxAVCuXy3OPQEA+tVfr/BVPQI6/gLYvHgNA00K/wUPKWkAFTx0+zrNFQLyFRatO2kVAnIi9lf8bNUAW0cdXOQtHQE6VgEsaNiBAJJEqVEkSc0BFyVV6Eq16QOmsuwlhPEdAkGapf7RzVUAN4gNxqDShQOLnn3jkJqBAhNhSWfT8OUCJ4pp5rJuLQOa9ZEKHx5JAye9H7IzQfUAcE40cFcdRQMEIdCzjK4hAnL1Ir2IUeEAu/VLBHgabQIGWI6/7P6BAZSUPAVECW0AYcnZRL0gzQE4mCKF2lkxAVbAmSNfaQUC2bKtdw5gdQMzqCew39hRAjyf+N9aaDUA=",
          "dtype": "f8"
         }
        }
       ],
       "layout": {
        "coloraxis": {
         "colorbar": {
          "len": 150,
          "lenmode": "pixels",
          "thickness": 50,
          "thicknessmode": "pixels",
          "x": 0.8,
          "y": 0.2,
          "yanchor": "middle"
         }
        },
        "font": {
         "family": "DejaVu Sans",
         "size": 20
        },
        "height": 950,
        "legend": {
         "itemsizing": "constant",
         "tracegroupgap": 0,
         "x": 0.01,
         "y": 0.96,
         "yanchor": "middle"
        },
        "margin": {
         "b": 0,
         "l": 0,
         "r": 0,
         "t": 0
        },
        "template": {
         "data": {
          "bar": [
           {
            "error_x": {
             "color": "rgb(36,36,36)"
            },
            "error_y": {
             "color": "rgb(36,36,36)"
            },
            "marker": {
             "line": {
              "color": "white",
              "width": 0.5
             },
             "pattern": {
              "fillmode": "overlay",
              "size": 10,
              "solidity": 0.2
             }
            },
            "type": "bar"
           }
          ],
          "barpolar": [
           {
            "marker": {
             "line": {
              "color": "white",
              "width": 0.5
             },
             "pattern": {
              "fillmode": "overlay",
              "size": 10,
              "solidity": 0.2
             }
            },
            "type": "barpolar"
           }
          ],
          "carpet": [
           {
            "aaxis": {
             "endlinecolor": "rgb(36,36,36)",
             "gridcolor": "white",
             "linecolor": "white",
             "minorgridcolor": "white",
             "startlinecolor": "rgb(36,36,36)"
            },
            "baxis": {
             "endlinecolor": "rgb(36,36,36)",
             "gridcolor": "white",
             "linecolor": "white",
             "minorgridcolor": "white",
             "startlinecolor": "rgb(36,36,36)"
            },
            "type": "carpet"
           }
          ],
          "choropleth": [
           {
            "colorbar": {
             "outlinewidth": 1,
             "tickcolor": "rgb(36,36,36)",
             "ticks": "outside"
            },
            "type": "choropleth"
           }
          ],
          "contour": [
           {
            "colorbar": {
             "outlinewidth": 1,
             "tickcolor": "rgb(36,36,36)",
             "ticks": "outside"
            },
            "colorscale": [
             [
              0,
              "#440154"
             ],
             [
              0.1111111111111111,
              "#482878"
             ],
             [
              0.2222222222222222,
              "#3e4989"
             ],
             [
              0.3333333333333333,
              "#31688e"
             ],
             [
              0.4444444444444444,
              "#26828e"
             ],
             [
              0.5555555555555556,
              "#1f9e89"
             ],
             [
              0.6666666666666666,
              "#35b779"
             ],
             [
              0.7777777777777778,
              "#6ece58"
             ],
             [
              0.8888888888888888,
              "#b5de2b"
             ],
             [
              1,
              "#fde725"
             ]
            ],
            "type": "contour"
           }
          ],
          "contourcarpet": [
           {
            "colorbar": {
             "outlinewidth": 1,
             "tickcolor": "rgb(36,36,36)",
             "ticks": "outside"
            },
            "type": "contourcarpet"
           }
          ],
          "heatmap": [
           {
            "colorbar": {
             "outlinewidth": 1,
             "tickcolor": "rgb(36,36,36)",
             "ticks": "outside"
            },
            "colorscale": [
             [
              0,
              "#440154"
             ],
             [
              0.1111111111111111,
              "#482878"
             ],
             [
              0.2222222222222222,
              "#3e4989"
             ],
             [
              0.3333333333333333,
              "#31688e"
             ],
             [
              0.4444444444444444,
              "#26828e"
             ],
             [
              0.5555555555555556,
              "#1f9e89"
             ],
             [
              0.6666666666666666,
              "#35b779"
             ],
             [
              0.7777777777777778,
              "#6ece58"
             ],
             [
              0.8888888888888888,
              "#b5de2b"
             ],
             [
              1,
              "#fde725"
             ]
            ],
            "type": "heatmap"
           }
          ],
          "histogram": [
           {
            "marker": {
             "line": {
              "color": "white",
              "width": 0.6
             }
            },
            "type": "histogram"
           }
          ],
          "histogram2d": [
           {
            "colorbar": {
             "outlinewidth": 1,
             "tickcolor": "rgb(36,36,36)",
             "ticks": "outside"
            },
            "colorscale": [
             [
              0,
              "#440154"
             ],
             [
              0.1111111111111111,
              "#482878"
             ],
             [
              0.2222222222222222,
              "#3e4989"
             ],
             [
              0.3333333333333333,
              "#31688e"
             ],
             [
              0.4444444444444444,
              "#26828e"
             ],
             [
              0.5555555555555556,
              "#1f9e89"
             ],
             [
              0.6666666666666666,
              "#35b779"
             ],
             [
              0.7777777777777778,
              "#6ece58"
             ],
             [
              0.8888888888888888,
              "#b5de2b"
             ],
             [
              1,
              "#fde725"
             ]
            ],
            "type": "histogram2d"
           }
          ],
          "histogram2dcontour": [
           {
            "colorbar": {
             "outlinewidth": 1,
             "tickcolor": "rgb(36,36,36)",
             "ticks": "outside"
            },
            "colorscale": [
             [
              0,
              "#440154"
             ],
             [
              0.1111111111111111,
              "#482878"
             ],
             [
              0.2222222222222222,
              "#3e4989"
             ],
             [
              0.3333333333333333,
              "#31688e"
             ],
             [
              0.4444444444444444,
              "#26828e"
             ],
             [
              0.5555555555555556,
              "#1f9e89"
             ],
             [
              0.6666666666666666,
              "#35b779"
             ],
             [
              0.7777777777777778,
              "#6ece58"
             ],
             [
              0.8888888888888888,
              "#b5de2b"
             ],
             [
              1,
              "#fde725"
             ]
            ],
            "type": "histogram2dcontour"
           }
          ],
          "mesh3d": [
           {
            "colorbar": {
             "outlinewidth": 1,
             "tickcolor": "rgb(36,36,36)",
             "ticks": "outside"
            },
            "type": "mesh3d"
           }
          ],
          "parcoords": [
           {
            "line": {
             "colorbar": {
              "outlinewidth": 1,
              "tickcolor": "rgb(36,36,36)",
              "ticks": "outside"
             }
            },
            "type": "parcoords"
           }
          ],
          "pie": [
           {
            "automargin": true,
            "type": "pie"
           }
          ],
          "scatter": [
           {
            "fillpattern": {
             "fillmode": "overlay",
             "size": 10,
             "solidity": 0.2
            },
            "type": "scatter"
           }
          ],
          "scatter3d": [
           {
            "line": {
             "colorbar": {
              "outlinewidth": 1,
              "tickcolor": "rgb(36,36,36)",
              "ticks": "outside"
             }
            },
            "marker": {
             "colorbar": {
              "outlinewidth": 1,
              "tickcolor": "rgb(36,36,36)",
              "ticks": "outside"
             }
            },
            "type": "scatter3d"
           }
          ],
          "scattercarpet": [
           {
            "marker": {
             "colorbar": {
              "outlinewidth": 1,
              "tickcolor": "rgb(36,36,36)",
              "ticks": "outside"
             }
            },
            "type": "scattercarpet"
           }
          ],
          "scattergeo": [
           {
            "marker": {
             "colorbar": {
              "outlinewidth": 1,
              "tickcolor": "rgb(36,36,36)",
              "ticks": "outside"
             }
            },
            "type": "scattergeo"
           }
          ],
          "scattergl": [
           {
            "marker": {
             "colorbar": {
              "outlinewidth": 1,
              "tickcolor": "rgb(36,36,36)",
              "ticks": "outside"
             }
            },
            "type": "scattergl"
           }
          ],
          "scattermap": [
           {
            "marker": {
             "colorbar": {
              "outlinewidth": 1,
              "tickcolor": "rgb(36,36,36)",
              "ticks": "outside"
             }
            },
            "type": "scattermap"
           }
          ],
          "scattermapbox": [
           {
            "marker": {
             "colorbar": {
              "outlinewidth": 1,
              "tickcolor": "rgb(36,36,36)",
              "ticks": "outside"
             }
            },
            "type": "scattermapbox"
           }
          ],
          "scatterpolar": [
           {
            "marker": {
             "colorbar": {
              "outlinewidth": 1,
              "tickcolor": "rgb(36,36,36)",
              "ticks": "outside"
             }
            },
            "type": "scatterpolar"
           }
          ],
          "scatterpolargl": [
           {
            "marker": {
             "colorbar": {
              "outlinewidth": 1,
              "tickcolor": "rgb(36,36,36)",
              "ticks": "outside"
             }
            },
            "type": "scatterpolargl"
           }
          ],
          "scatterternary": [
           {
            "marker": {
             "colorbar": {
              "outlinewidth": 1,
              "tickcolor": "rgb(36,36,36)",
              "ticks": "outside"
             }
            },
            "type": "scatterternary"
           }
          ],
          "surface": [
           {
            "colorbar": {
             "outlinewidth": 1,
             "tickcolor": "rgb(36,36,36)",
             "ticks": "outside"
            },
            "colorscale": [
             [
              0,
              "#440154"
             ],
             [
              0.1111111111111111,
              "#482878"
             ],
             [
              0.2222222222222222,
              "#3e4989"
             ],
             [
              0.3333333333333333,
              "#31688e"
             ],
             [
              0.4444444444444444,
              "#26828e"
             ],
             [
              0.5555555555555556,
              "#1f9e89"
             ],
             [
              0.6666666666666666,
              "#35b779"
             ],
             [
              0.7777777777777778,
              "#6ece58"
             ],
             [
              0.8888888888888888,
              "#b5de2b"
             ],
             [
              1,
              "#fde725"
             ]
            ],
            "type": "surface"
           }
          ],
          "table": [
           {
            "cells": {
             "fill": {
              "color": "rgb(237,237,237)"
             },
             "line": {
              "color": "white"
             }
            },
            "header": {
             "fill": {
              "color": "rgb(217,217,217)"
             },
             "line": {
              "color": "white"
             }
            },
            "type": "table"
           }
          ]
         },
         "layout": {
          "annotationdefaults": {
           "arrowhead": 0,
           "arrowwidth": 1
          },
          "autotypenumbers": "strict",
          "coloraxis": {
           "colorbar": {
            "outlinewidth": 1,
            "tickcolor": "rgb(36,36,36)",
            "ticks": "outside"
           }
          },
          "colorscale": {
           "diverging": [
            [
             0,
             "rgb(103,0,31)"
            ],
            [
             0.1,
             "rgb(178,24,43)"
            ],
            [
             0.2,
             "rgb(214,96,77)"
            ],
            [
             0.3,
             "rgb(244,165,130)"
            ],
            [
             0.4,
             "rgb(253,219,199)"
            ],
            [
             0.5,
             "rgb(247,247,247)"
            ],
            [
             0.6,
             "rgb(209,229,240)"
            ],
            [
             0.7,
             "rgb(146,197,222)"
            ],
            [
             0.8,
             "rgb(67,147,195)"
            ],
            [
             0.9,
             "rgb(33,102,172)"
            ],
            [
             1,
             "rgb(5,48,97)"
            ]
           ],
           "sequential": [
            [
             0,
             "#440154"
            ],
            [
             0.1111111111111111,
             "#482878"
            ],
            [
             0.2222222222222222,
             "#3e4989"
            ],
            [
             0.3333333333333333,
             "#31688e"
            ],
            [
             0.4444444444444444,
             "#26828e"
            ],
            [
             0.5555555555555556,
             "#1f9e89"
            ],
            [
             0.6666666666666666,
             "#35b779"
            ],
            [
             0.7777777777777778,
             "#6ece58"
            ],
            [
             0.8888888888888888,
             "#b5de2b"
            ],
            [
             1,
             "#fde725"
            ]
           ],
           "sequentialminus": [
            [
             0,
             "#440154"
            ],
            [
             0.1111111111111111,
             "#482878"
            ],
            [
             0.2222222222222222,
             "#3e4989"
            ],
            [
             0.3333333333333333,
             "#31688e"
            ],
            [
             0.4444444444444444,
             "#26828e"
            ],
            [
             0.5555555555555556,
             "#1f9e89"
            ],
            [
             0.6666666666666666,
             "#35b779"
            ],
            [
             0.7777777777777778,
             "#6ece58"
            ],
            [
             0.8888888888888888,
             "#b5de2b"
            ],
            [
             1,
             "#fde725"
            ]
           ]
          },
          "colorway": [
           "#1F77B4",
           "#FF7F0E",
           "#2CA02C",
           "#D62728",
           "#9467BD",
           "#8C564B",
           "#E377C2",
           "#7F7F7F",
           "#BCBD22",
           "#17BECF"
          ],
          "font": {
           "color": "rgb(36,36,36)"
          },
          "geo": {
           "bgcolor": "white",
           "lakecolor": "white",
           "landcolor": "white",
           "showlakes": true,
           "showland": true,
           "subunitcolor": "white"
          },
          "hoverlabel": {
           "align": "left"
          },
          "hovermode": "closest",
          "mapbox": {
           "style": "light"
          },
          "paper_bgcolor": "white",
          "plot_bgcolor": "white",
          "polar": {
           "angularaxis": {
            "gridcolor": "rgb(232,232,232)",
            "linecolor": "rgb(36,36,36)",
            "showgrid": false,
            "showline": true,
            "ticks": "outside"
           },
           "bgcolor": "white",
           "radialaxis": {
            "gridcolor": "rgb(232,232,232)",
            "linecolor": "rgb(36,36,36)",
            "showgrid": false,
            "showline": true,
            "ticks": "outside"
           }
          },
          "scene": {
           "xaxis": {
            "backgroundcolor": "white",
            "gridcolor": "rgb(232,232,232)",
            "gridwidth": 2,
            "linecolor": "rgb(36,36,36)",
            "showbackground": true,
            "showgrid": false,
            "showline": true,
            "ticks": "outside",
            "zeroline": false,
            "zerolinecolor": "rgb(36,36,36)"
           },
           "yaxis": {
            "backgroundcolor": "white",
            "gridcolor": "rgb(232,232,232)",
            "gridwidth": 2,
            "linecolor": "rgb(36,36,36)",
            "showbackground": true,
            "showgrid": false,
            "showline": true,
            "ticks": "outside",
            "zeroline": false,
            "zerolinecolor": "rgb(36,36,36)"
           },
           "zaxis": {
            "backgroundcolor": "white",
            "gridcolor": "rgb(232,232,232)",
            "gridwidth": 2,
            "linecolor": "rgb(36,36,36)",
            "showbackground": true,
            "showgrid": false,
            "showline": true,
            "ticks": "outside",
            "zeroline": false,
            "zerolinecolor": "rgb(36,36,36)"
           }
          },
          "shapedefaults": {
           "fillcolor": "black",
           "line": {
            "width": 0
           },
           "opacity": 0.3
          },
          "ternary": {
           "aaxis": {
            "gridcolor": "rgb(232,232,232)",
            "linecolor": "rgb(36,36,36)",
            "showgrid": false,
            "showline": true,
            "ticks": "outside"
           },
           "baxis": {
            "gridcolor": "rgb(232,232,232)",
            "linecolor": "rgb(36,36,36)",
            "showgrid": false,
            "showline": true,
            "ticks": "outside"
           },
           "bgcolor": "white",
           "caxis": {
            "gridcolor": "rgb(232,232,232)",
            "linecolor": "rgb(36,36,36)",
            "showgrid": false,
            "showline": true,
            "ticks": "outside"
           }
          },
          "title": {
           "x": 0.05
          },
          "xaxis": {
           "automargin": true,
           "gridcolor": "rgb(232,232,232)",
           "linecolor": "rgb(36,36,36)",
           "showgrid": false,
           "showline": true,
           "ticks": "outside",
           "title": {
            "standoff": 15
           },
           "zeroline": false,
           "zerolinecolor": "rgb(36,36,36)"
          },
          "yaxis": {
           "automargin": true,
           "gridcolor": "rgb(232,232,232)",
           "linecolor": "rgb(36,36,36)",
           "showgrid": false,
           "showline": true,
           "ticks": "outside",
           "title": {
            "standoff": 15
           },
           "zeroline": false,
           "zerolinecolor": "rgb(36,36,36)"
          }
         }
        },
        "width": 950,
        "xaxis": {
         "anchor": "y",
         "domain": [
          0,
          1
         ],
         "linecolor": "black",
         "linewidth": 2,
         "mirror": true,
         "range": [
          -1.9999999999999996,
          4.176091259055681
         ],
         "showline": true,
         "tickfont": {
          "size": 20
         },
         "title": {
          "text": "Measured Age (ky)"
         },
         "type": "log"
        },
        "yaxis": {
         "anchor": "x",
         "domain": [
          0,
          1
         ],
         "linecolor": "black",
         "linewidth": 2,
         "mirror": true,
         "range": [
          -1.9999999999999996,
          4.176091259055681
         ],
         "showline": true,
         "tickfont": {
          "size": 20
         },
         "title": {
          "text": "Predicted Age (ky)"
         },
         "type": "log"
        }
       }
      },
      "image/png": "[encoded data removed]"
     },
     "metadata": {},
     "output_type": "display_data"
    },
    {
     "data": {
      "application/vnd.plotly.v1+json": {
       "config": {
        "plotlyServerURL": "https://plot.ly"
       },
       "data": [
        {
         "name": "Pred Training",
         "opacity": 0.75,
         "type": "histogram",
         "x": {
          "bdata": "Assob/KCHUDG7jLoZDMXQAPSwWDoGQtADXijsc/mC0DCax01AIAbQBlq6kX75RhAA9d6cYSPBkDms6Ehb0IVQAatnNgoThFAgyH+XhHrCECGqP7U3WX5PxmutnEB0xJA8pK6sm74DEAinuyp4kESQKyswIx2VyFAzenAX7XmC0DGsSyRDGzvP8M0+Nf0CARAQ7oYWfGXAUDjdnygc4HzPwae/SibkRFAZjJ7wMDJFUCGIe49nMASQMJDW1TtOhVAzaXBCoa8BUCNc6sGkakCQI1oodC/zARAw2mccF34DUD8PARgfCUiQLlcvKriqR5AmrKK2P0h8z9Z77yuFFcbQAOBvlhHvQNA8k0eHgz3B0ACen4QBcsQQHlhQLxjkxxAg2T26FkgA0AG0biagq4SQEJ0ajkzoRpAufQeKnBhE0CcCPifeTQhQIbjhFcosRtAclxPWl1tAUCNGYvkQaIFQDK/k2JITABABl0BNgUT8T/DXFP0gzkMQHIOn4QyGg5AAyAUxYPwC0AGVRvKgroVQObTZ1RWfx9AsqJvXLgtDkBNz+XQVD8FQHL1bpzKWwZAWZj0Ro3DEECDGl/2glwDQIs/3h+rB9Y/jVivWGELB0AyKfd9VkcKQPLxf3Zl/QxAGupBfINa/z+afSiVYL78PwOEwTY6WAVARjLCqm47E0CG5jwxK6cRQGIyZ588PxhArGhoCnvpIUBDzDaXhC8GQKY0xXziMhpAwyZYuJ/bBkCNzPsKSk4PQMa/yWzJIBZAZuF7T3OtEEBZwWBD49sbQGKtlUeLQxVAnOIw0VN+IUBmmoriG1AQQFk3VkZ1thpAx1WbnFM66z/GXb0jXLgfQOaFLHjp2xlAzEOUbGVaIUCmq2cv7asTQIKlrkrioB9A424fhFan/D9Z9UDLyCYdQMb6umDXqRRABlgy2zWx/z/DmiRx/QQCQDLA4K6CswVABo9JFQqt8D9yaQ4oUa0JQNkbcKz8HRtAMoBQsKvBBkCiISJMEmoRQPLVoSUBWgtAhsc/CHSZEkDCttIuBsoUQEI8X16/yRhAY8uNV4j1/D/Mp+Tw9XQhQI0SGx8fswlAY86jGyio/D/CJs1MQqUTQPMjD88l3uG/WdbhEWbWEkBioykG/1UTQGNTodgtRfo/crDxbD4AC0DmlrJVUYQSQLIM8Vop8QJActf+0H9IBUCGPhUqAkD/P8aDp4kBfRZAIk5UQz+UF0CN73F75i4NQGNMLy+YfPs/BtlxgI99/j/DKnoTwacDQONeaV7NhP8/Iqdvqh1aFUBG2lHb+CQSQAOnKT3DbgtAMgggM5izCUCDhVvaTSsAQOI/fOTH+xVAjRIyXgD3C0DDquuq5R8FQM291Nda6QNAxgEdZ/F6GEDDCrLGABkNQAMVGEYayg5AWUBQCR8UEECa0xVpdJr/P9M3gDAGoiFATeb2kwlbDkDCoR/8K2wQQEbpwLMVhx1AMhjVl1woCUCmHYfI9lkdQJpmo0pfM/Y/8ny8ETwDDUBGdv/jt8oZQE0wfY8LagFAjZkOZlOBCUChgzC66Mqlv43kOISMwAxAg2RTbROvBUCC4h4qZsgcQILgTPJ7txtA4l1cqCeoGUByrEPxjKMNQE0Ak1TzhghAQx6bRVR4B0B5E6KHVZYfQKI8AHbnjRZAYvKFIBndGUCGKGSPcNMRQDlON7TIpBtA8tO40nCUCkCi4+2qhj0fQA==",
          "dtype": "f8"
         },
         "xbins": {
          "end": 9.615805480084347,
          "size": 0.2,
          "start": -4.605170185988091
         }
        },
        {
         "name": "Pred Validation",
         "opacity": 0.75,
         "type": "histogram",
         "x": {
          "bdata": "gyOan0xIFUCGQzSTCxoDQAx6Du1X3vM/Rg/JQPyMBUDjvMQTHR8SQMZtuTFQrQBAhuBuS/V/CUADx3+dqEcQQENxJivh4RJABqoIa1MADEBjhvbSBIUQQBgOPPu94Os/IznyroKyEkBGw3/LHyoOQEb6ppJEOA5ABkyvANJlCEBGiHU29aQOQAYNqQ6SvQBAA4xmNBTiFkCDg0Y5tTkYQAaz67jztQ5AYyFULvbOEUAD2z5VAcoeQENvhH5JiR5ABi5e+KQPCkDDIyxMqCIbQON4ue3XXRxAI1enWZyrGEBDO185lA4RQOOnEn2HmhpAg3wTldnQF0DD6JYditIdQCMs+WJ7jx5AI+g2cti6EkBGB0eeYawHQAN6WH87LxBARvah9naaDECGYcMKzgIAQAzBk46kgPo/jBinhpnv9D8=",
          "dtype": "f8"
         },
         "xbins": {
          "end": 9.615805480084347,
          "size": 0.2,
          "start": -4.605170185988091
         }
        }
       ],
       "layout": {
        "barmode": "overlay",
        "font": {
         "family": "DejaVu Sans",
         "size": 20
        },
        "legend": {
         "x": 0.99,
         "xanchor": "right",
         "y": 0.99,
         "yanchor": "top"
        },
        "margin": {
         "b": 0,
         "l": 0,
         "r": 0,
         "t": 0
        },
        "showlegend": false,
        "template": {
         "data": {
          "bar": [
           {
            "error_x": {
             "color": "rgb(36,36,36)"
            },
            "error_y": {
             "color": "rgb(36,36,36)"
            },
            "marker": {
             "line": {
              "color": "white",
              "width": 0.5
             },
             "pattern": {
              "fillmode": "overlay",
              "size": 10,
              "solidity": 0.2
             }
            },
            "type": "bar"
           }
          ],
          "barpolar": [
           {
            "marker": {
             "line": {
              "color": "white",
              "width": 0.5
             },
             "pattern": {
              "fillmode": "overlay",
              "size": 10,
              "solidity": 0.2
             }
            },
            "type": "barpolar"
           }
          ],
          "carpet": [
           {
            "aaxis": {
             "endlinecolor": "rgb(36,36,36)",
             "gridcolor": "white",
             "linecolor": "white",
             "minorgridcolor": "white",
             "startlinecolor": "rgb(36,36,36)"
            },
            "baxis": {
             "endlinecolor": "rgb(36,36,36)",
             "gridcolor": "white",
             "linecolor": "white",
             "minorgridcolor": "white",
             "startlinecolor": "rgb(36,36,36)"
            },
            "type": "carpet"
           }
          ],
          "choropleth": [
           {
            "colorbar": {
             "outlinewidth": 1,
             "tickcolor": "rgb(36,36,36)",
             "ticks": "outside"
            },
            "type": "choropleth"
           }
          ],
          "contour": [
           {
            "colorbar": {
             "outlinewidth": 1,
             "tickcolor": "rgb(36,36,36)",
             "ticks": "outside"
            },
            "colorscale": [
             [
              0,
              "#440154"
             ],
             [
              0.1111111111111111,
              "#482878"
             ],
             [
              0.2222222222222222,
              "#3e4989"
             ],
             [
              0.3333333333333333,
              "#31688e"
             ],
             [
              0.4444444444444444,
              "#26828e"
             ],
             [
              0.5555555555555556,
              "#1f9e89"
             ],
             [
              0.6666666666666666,
              "#35b779"
             ],
             [
              0.7777777777777778,
              "#6ece58"
             ],
             [
              0.8888888888888888,
              "#b5de2b"
             ],
             [
              1,
              "#fde725"
             ]
            ],
            "type": "contour"
           }
          ],
          "contourcarpet": [
           {
            "colorbar": {
             "outlinewidth": 1,
             "tickcolor": "rgb(36,36,36)",
             "ticks": "outside"
            },
            "type": "contourcarpet"
           }
          ],
          "heatmap": [
           {
            "colorbar": {
             "outlinewidth": 1,
             "tickcolor": "rgb(36,36,36)",
             "ticks": "outside"
            },
            "colorscale": [
             [
              0,
              "#440154"
             ],
             [
              0.1111111111111111,
              "#482878"
             ],
             [
              0.2222222222222222,
              "#3e4989"
             ],
             [
              0.3333333333333333,
              "#31688e"
             ],
             [
              0.4444444444444444,
              "#26828e"
             ],
             [
              0.5555555555555556,
              "#1f9e89"
             ],
             [
              0.6666666666666666,
              "#35b779"
             ],
             [
              0.7777777777777778,
              "#6ece58"
             ],
             [
              0.8888888888888888,
              "#b5de2b"
             ],
             [
              1,
              "#fde725"
             ]
            ],
            "type": "heatmap"
           }
          ],
          "histogram": [
           {
            "marker": {
             "line": {
              "color": "white",
              "width": 0.6
             }
            },
            "type": "histogram"
           }
          ],
          "histogram2d": [
           {
            "colorbar": {
             "outlinewidth": 1,
             "tickcolor": "rgb(36,36,36)",
             "ticks": "outside"
            },
            "colorscale": [
             [
              0,
              "#440154"
             ],
             [
              0.1111111111111111,
              "#482878"
             ],
             [
              0.2222222222222222,
              "#3e4989"
             ],
             [
              0.3333333333333333,
              "#31688e"
             ],
             [
              0.4444444444444444,
              "#26828e"
             ],
             [
              0.5555555555555556,
              "#1f9e89"
             ],
             [
              0.6666666666666666,
              "#35b779"
             ],
             [
              0.7777777777777778,
              "#6ece58"
             ],
             [
              0.8888888888888888,
              "#b5de2b"
             ],
             [
              1,
              "#fde725"
             ]
            ],
            "type": "histogram2d"
           }
          ],
          "histogram2dcontour": [
           {
            "colorbar": {
             "outlinewidth": 1,
             "tickcolor": "rgb(36,36,36)",
             "ticks": "outside"
            },
            "colorscale": [
             [
              0,
              "#440154"
             ],
             [
              0.1111111111111111,
              "#482878"
             ],
             [
              0.2222222222222222,
              "#3e4989"
             ],
             [
              0.3333333333333333,
              "#31688e"
             ],
             [
              0.4444444444444444,
              "#26828e"
             ],
             [
              0.5555555555555556,
              "#1f9e89"
             ],
             [
              0.6666666666666666,
              "#35b779"
             ],
             [
              0.7777777777777778,
              "#6ece58"
             ],
             [
              0.8888888888888888,
              "#b5de2b"
             ],
             [
              1,
              "#fde725"
             ]
            ],
            "type": "histogram2dcontour"
           }
          ],
          "mesh3d": [
           {
            "colorbar": {
             "outlinewidth": 1,
             "tickcolor": "rgb(36,36,36)",
             "ticks": "outside"
            },
            "type": "mesh3d"
           }
          ],
          "parcoords": [
           {
            "line": {
             "colorbar": {
              "outlinewidth": 1,
              "tickcolor": "rgb(36,36,36)",
              "ticks": "outside"
             }
            },
            "type": "parcoords"
           }
          ],
          "pie": [
           {
            "automargin": true,
            "type": "pie"
           }
          ],
          "scatter": [
           {
            "fillpattern": {
             "fillmode": "overlay",
             "size": 10,
             "solidity": 0.2
            },
            "type": "scatter"
           }
          ],
          "scatter3d": [
           {
            "line": {
             "colorbar": {
              "outlinewidth": 1,
              "tickcolor": "rgb(36,36,36)",
              "ticks": "outside"
             }
            },
            "marker": {
             "colorbar": {
              "outlinewidth": 1,
              "tickcolor": "rgb(36,36,36)",
              "ticks": "outside"
             }
            },
            "type": "scatter3d"
           }
          ],
          "scattercarpet": [
           {
            "marker": {
             "colorbar": {
              "outlinewidth": 1,
              "tickcolor": "rgb(36,36,36)",
              "ticks": "outside"
             }
            },
            "type": "scattercarpet"
           }
          ],
          "scattergeo": [
           {
            "marker": {
             "colorbar": {
              "outlinewidth": 1,
              "tickcolor": "rgb(36,36,36)",
              "ticks": "outside"
             }
            },
            "type": "scattergeo"
           }
          ],
          "scattergl": [
           {
            "marker": {
             "colorbar": {
              "outlinewidth": 1,
              "tickcolor": "rgb(36,36,36)",
              "ticks": "outside"
             }
            },
            "type": "scattergl"
           }
          ],
          "scattermap": [
           {
            "marker": {
             "colorbar": {
              "outlinewidth": 1,
              "tickcolor": "rgb(36,36,36)",
              "ticks": "outside"
             }
            },
            "type": "scattermap"
           }
          ],
          "scattermapbox": [
           {
            "marker": {
             "colorbar": {
              "outlinewidth": 1,
              "tickcolor": "rgb(36,36,36)",
              "ticks": "outside"
             }
            },
            "type": "scattermapbox"
           }
          ],
          "scatterpolar": [
           {
            "marker": {
             "colorbar": {
              "outlinewidth": 1,
              "tickcolor": "rgb(36,36,36)",
              "ticks": "outside"
             }
            },
            "type": "scatterpolar"
           }
          ],
          "scatterpolargl": [
           {
            "marker": {
             "colorbar": {
              "outlinewidth": 1,
              "tickcolor": "rgb(36,36,36)",
              "ticks": "outside"
             }
            },
            "type": "scatterpolargl"
           }
          ],
          "scatterternary": [
           {
            "marker": {
             "colorbar": {
              "outlinewidth": 1,
              "tickcolor": "rgb(36,36,36)",
              "ticks": "outside"
             }
            },
            "type": "scatterternary"
           }
          ],
          "surface": [
           {
            "colorbar": {
             "outlinewidth": 1,
             "tickcolor": "rgb(36,36,36)",
             "ticks": "outside"
            },
            "colorscale": [
             [
              0,
              "#440154"
             ],
             [
              0.1111111111111111,
              "#482878"
             ],
             [
              0.2222222222222222,
              "#3e4989"
             ],
             [
              0.3333333333333333,
              "#31688e"
             ],
             [
              0.4444444444444444,
              "#26828e"
             ],
             [
              0.5555555555555556,
              "#1f9e89"
             ],
             [
              0.6666666666666666,
              "#35b779"
             ],
             [
              0.7777777777777778,
              "#6ece58"
             ],
             [
              0.8888888888888888,
              "#b5de2b"
             ],
             [
              1,
              "#fde725"
             ]
            ],
            "type": "surface"
           }
          ],
          "table": [
           {
            "cells": {
             "fill": {
              "color": "rgb(237,237,237)"
             },
             "line": {
              "color": "white"
             }
            },
            "header": {
             "fill": {
              "color": "rgb(217,217,217)"
             },
             "line": {
              "color": "white"
             }
            },
            "type": "table"
           }
          ]
         },
         "layout": {
          "annotationdefaults": {
           "arrowhead": 0,
           "arrowwidth": 1
          },
          "autotypenumbers": "strict",
          "coloraxis": {
           "colorbar": {
            "outlinewidth": 1,
            "tickcolor": "rgb(36,36,36)",
            "ticks": "outside"
           }
          },
          "colorscale": {
           "diverging": [
            [
             0,
             "rgb(103,0,31)"
            ],
            [
             0.1,
             "rgb(178,24,43)"
            ],
            [
             0.2,
             "rgb(214,96,77)"
            ],
            [
             0.3,
             "rgb(244,165,130)"
            ],
            [
             0.4,
             "rgb(253,219,199)"
            ],
            [
             0.5,
             "rgb(247,247,247)"
            ],
            [
             0.6,
             "rgb(209,229,240)"
            ],
            [
             0.7,
             "rgb(146,197,222)"
            ],
            [
             0.8,
             "rgb(67,147,195)"
            ],
            [
             0.9,
             "rgb(33,102,172)"
            ],
            [
             1,
             "rgb(5,48,97)"
            ]
           ],
           "sequential": [
            [
             0,
             "#440154"
            ],
            [
             0.1111111111111111,
             "#482878"
            ],
            [
             0.2222222222222222,
             "#3e4989"
            ],
            [
             0.3333333333333333,
             "#31688e"
            ],
            [
             0.4444444444444444,
             "#26828e"
            ],
            [
             0.5555555555555556,
             "#1f9e89"
            ],
            [
             0.6666666666666666,
             "#35b779"
            ],
            [
             0.7777777777777778,
             "#6ece58"
            ],
            [
             0.8888888888888888,
             "#b5de2b"
            ],
            [
             1,
             "#fde725"
            ]
           ],
           "sequentialminus": [
            [
             0,
             "#440154"
            ],
            [
             0.1111111111111111,
             "#482878"
            ],
            [
             0.2222222222222222,
             "#3e4989"
            ],
            [
             0.3333333333333333,
             "#31688e"
            ],
            [
             0.4444444444444444,
             "#26828e"
            ],
            [
             0.5555555555555556,
             "#1f9e89"
            ],
            [
             0.6666666666666666,
             "#35b779"
            ],
            [
             0.7777777777777778,
             "#6ece58"
            ],
            [
             0.8888888888888888,
             "#b5de2b"
            ],
            [
             1,
             "#fde725"
            ]
           ]
          },
          "colorway": [
           "#1F77B4",
           "#FF7F0E",
           "#2CA02C",
           "#D62728",
           "#9467BD",
           "#8C564B",
           "#E377C2",
           "#7F7F7F",
           "#BCBD22",
           "#17BECF"
          ],
          "font": {
           "color": "rgb(36,36,36)"
          },
          "geo": {
           "bgcolor": "white",
           "lakecolor": "white",
           "landcolor": "white",
           "showlakes": true,
           "showland": true,
           "subunitcolor": "white"
          },
          "hoverlabel": {
           "align": "left"
          },
          "hovermode": "closest",
          "mapbox": {
           "style": "light"
          },
          "paper_bgcolor": "white",
          "plot_bgcolor": "white",
          "polar": {
           "angularaxis": {
            "gridcolor": "rgb(232,232,232)",
            "linecolor": "rgb(36,36,36)",
            "showgrid": false,
            "showline": true,
            "ticks": "outside"
           },
           "bgcolor": "white",
           "radialaxis": {
            "gridcolor": "rgb(232,232,232)",
            "linecolor": "rgb(36,36,36)",
            "showgrid": false,
            "showline": true,
            "ticks": "outside"
           }
          },
          "scene": {
           "xaxis": {
            "backgroundcolor": "white",
            "gridcolor": "rgb(232,232,232)",
            "gridwidth": 2,
            "linecolor": "rgb(36,36,36)",
            "showbackground": true,
            "showgrid": false,
            "showline": true,
            "ticks": "outside",
            "zeroline": false,
            "zerolinecolor": "rgb(36,36,36)"
           },
           "yaxis": {
            "backgroundcolor": "white",
            "gridcolor": "rgb(232,232,232)",
            "gridwidth": 2,
            "linecolor": "rgb(36,36,36)",
            "showbackground": true,
            "showgrid": false,
            "showline": true,
            "ticks": "outside",
            "zeroline": false,
            "zerolinecolor": "rgb(36,36,36)"
           },
           "zaxis": {
            "backgroundcolor": "white",
            "gridcolor": "rgb(232,232,232)",
            "gridwidth": 2,
            "linecolor": "rgb(36,36,36)",
            "showbackground": true,
            "showgrid": false,
            "showline": true,
            "ticks": "outside",
            "zeroline": false,
            "zerolinecolor": "rgb(36,36,36)"
           }
          },
          "shapedefaults": {
           "fillcolor": "black",
           "line": {
            "width": 0
           },
           "opacity": 0.3
          },
          "ternary": {
           "aaxis": {
            "gridcolor": "rgb(232,232,232)",
            "linecolor": "rgb(36,36,36)",
            "showgrid": false,
            "showline": true,
            "ticks": "outside"
           },
           "baxis": {
            "gridcolor": "rgb(232,232,232)",
            "linecolor": "rgb(36,36,36)",
            "showgrid": false,
            "showline": true,
            "ticks": "outside"
           },
           "bgcolor": "white",
           "caxis": {
            "gridcolor": "rgb(232,232,232)",
            "linecolor": "rgb(36,36,36)",
            "showgrid": false,
            "showline": true,
            "ticks": "outside"
           }
          },
          "title": {
           "x": 0.05
          },
          "xaxis": {
           "automargin": true,
           "gridcolor": "rgb(232,232,232)",
           "linecolor": "rgb(36,36,36)",
           "showgrid": false,
           "showline": true,
           "ticks": "outside",
           "title": {
            "standoff": 15
           },
           "zeroline": false,
           "zerolinecolor": "rgb(36,36,36)"
          },
          "yaxis": {
           "automargin": true,
           "gridcolor": "rgb(232,232,232)",
           "linecolor": "rgb(36,36,36)",
           "showgrid": false,
           "showline": true,
           "ticks": "outside",
           "title": {
            "standoff": 15
           },
           "zeroline": false,
           "zerolinecolor": "rgb(36,36,36)"
          }
         }
        },
        "width": 950,
        "xaxis": {
         "linecolor": "black",
         "linewidth": 2,
         "mirror": true,
         "range": [
          -4.605170185988091,
          9.615805480084347
         ],
         "showline": true,
         "showticklabels": false,
         "tickfont": {
          "size": 20
         }
        },
        "yaxis": {
         "linecolor": "black",
         "linewidth": 2,
         "mirror": true,
         "range": [
          0,
          21
         ],
         "showline": true,
         "tickfont": {
          "size": 20
         },
         "title": {
          "text": "Nr. of cones"
         }
        }
       }
      },
      "image/png": "[encoded data removed]"
     },
     "metadata": {},
     "output_type": "display_data"
    },
    {
     "ename": "ShapeError",
     "evalue": "Expected object of length 40, got length: 161",
     "output_type": "error",
     "traceback": [
      "\u001b[31m---------------------------------------------------------------------------\u001b[39m",
      "\u001b[31mShapeError\u001b[39m                                Traceback (most recent call last)",
      "\u001b[36mCell\u001b[39m\u001b[36m \u001b[39m\u001b[32mIn[24]\u001b[39m\u001b[32m, line 71\u001b[39m\n\u001b[32m     68\u001b[39m hist_pred_SVR.write_image(\u001b[33mr\u001b[39m\u001b[33m'\u001b[39m\u001b[38;5;132;01m{}\u001b[39;00m\u001b[33m_TrainValidationSplit_\u001b[39m\u001b[38;5;132;01m{}\u001b[39;00m\u001b[33m_\u001b[39m\u001b[38;5;132;01m{}\u001b[39;00m\u001b[33m.svg\u001b[39m\u001b[33m'\u001b[39m.format(inputName, predictor_parameter_text, SVR_method), \u001b[38;5;28mformat\u001b[39m=\u001b[33m'\u001b[39m\u001b[33msvg\u001b[39m\u001b[33m'\u001b[39m, width=\u001b[32m950\u001b[39m, height=\u001b[32m200\u001b[39m, scale=\u001b[32m1\u001b[39m)\n\u001b[32m     69\u001b[39m hist_pred_SVR.show()\n\u001b[32m---> \u001b[39m\u001b[32m71\u001b[39m fig_residual_SVR = \u001b[43mpx\u001b[49m\u001b[43m.\u001b[49m\u001b[43mscatter\u001b[49m\u001b[43m(\u001b[49m\n\u001b[32m     72\u001b[39m \u001b[43m    \u001b[49m\u001b[43mdf_SVR_cv_predicted\u001b[49m\u001b[43m,\u001b[49m\n\u001b[32m     73\u001b[39m \u001b[43m    \u001b[49m\u001b[43mx\u001b[49m\u001b[43m=\u001b[49m\u001b[43mnp\u001b[49m\u001b[43m.\u001b[49m\u001b[43mlog\u001b[49m\u001b[43m(\u001b[49m\u001b[43mdf_SVR_val_predicted\u001b[49m\u001b[43m[\u001b[49m\u001b[43mtarget_parameter\u001b[49m\u001b[43m]\u001b[49m\u001b[43m)\u001b[49m\u001b[43m,\u001b[49m\n\u001b[32m     74\u001b[39m \u001b[43m    \u001b[49m\u001b[43my\u001b[49m\u001b[43m=\u001b[49m\u001b[43mnp\u001b[49m\u001b[43m.\u001b[49m\u001b[43mlog\u001b[49m\u001b[43m(\u001b[49m\u001b[43mdf_SVR_val_predicted\u001b[49m\u001b[43m.\u001b[49m\u001b[43mloc\u001b[49m\u001b[43m[\u001b[49m\u001b[43m:\u001b[49m\u001b[43m,\u001b[49m\u001b[33;43m'\u001b[39;49m\u001b[38;5;132;43;01m{}\u001b[39;49;00m\u001b[33;43m_val_\u001b[39;49m\u001b[38;5;132;43;01m{}\u001b[39;49;00m\u001b[33;43m'\u001b[39;49m\u001b[43m.\u001b[49m\u001b[43mformat\u001b[49m\u001b[43m(\u001b[49m\u001b[43mSVR_method\u001b[49m\u001b[43m,\u001b[49m\u001b[43m \u001b[49m\u001b[43mtarget_parameter\u001b[49m\u001b[43m)\u001b[49m\u001b[43m]\u001b[49m\u001b[43m)\u001b[49m\u001b[43m-\u001b[49m\u001b[43mnp\u001b[49m\u001b[43m.\u001b[49m\u001b[43mlog\u001b[49m\u001b[43m(\u001b[49m\u001b[43mdf_SVR_val_predicted\u001b[49m\u001b[43m[\u001b[49m\u001b[43mtarget_parameter\u001b[49m\u001b[43m]\u001b[49m\u001b[43m)\u001b[49m\u001b[43m,\u001b[49m\n\u001b[32m     75\u001b[39m \u001b[43m    \u001b[49m\u001b[43mwidth\u001b[49m\u001b[43m=\u001b[49m\u001b[32;43m1020\u001b[39;49m\u001b[43m,\u001b[49m\u001b[43m \u001b[49m\u001b[43mheight\u001b[49m\u001b[43m=\u001b[49m\u001b[32;43m400\u001b[39;49m\u001b[43m)\u001b[49m\n\u001b[32m     76\u001b[39m fig_residual_SVR.add_hline(y=\u001b[32m0\u001b[39m, line_width=\u001b[32m3\u001b[39m, line_dash=\u001b[33m'\u001b[39m\u001b[33mdash\u001b[39m\u001b[33m'\u001b[39m, line_color=\u001b[33m'\u001b[39m\u001b[33mblack\u001b[39m\u001b[33m'\u001b[39m)\n\u001b[32m     77\u001b[39m fig_residual_SVR.update_layout(xaxis = \u001b[38;5;28mdict\u001b[39m(title=\u001b[33m'\u001b[39m\u001b[33mLog(absolute age)\u001b[39m\u001b[33m'\u001b[39m.format(),\n\u001b[32m     78\u001b[39m                                     tickfont = \u001b[38;5;28mdict\u001b[39m(size=font_size), showline=\u001b[38;5;28;01mTrue\u001b[39;00m, linewidth=\u001b[32m2\u001b[39m, linecolor=\u001b[33m'\u001b[39m\u001b[33mblack\u001b[39m\u001b[33m'\u001b[39m, mirror=\u001b[38;5;28;01mTrue\u001b[39;00m),\n\u001b[32m     79\u001b[39m                            yaxis = \u001b[38;5;28mdict\u001b[39m(title=\u001b[33m'\u001b[39m\u001b[33mResiduals\u001b[39m\u001b[33m'\u001b[39m.format(),\n\u001b[32m   (...)\u001b[39m\u001b[32m     83\u001b[39m                            yaxis_range=[-\u001b[32m6.5\u001b[39m,\u001b[32m6.5\u001b[39m]\n\u001b[32m     84\u001b[39m                           )\n",
      "\u001b[36mFile \u001b[39m\u001b[32m~\\anaconda3\\envs\\gdal_env\\Lib\\site-packages\\plotly\\express\\_chart_types.py:69\u001b[39m, in \u001b[36mscatter\u001b[39m\u001b[34m(data_frame, x, y, color, symbol, size, hover_name, hover_data, custom_data, text, facet_row, facet_col, facet_col_wrap, facet_row_spacing, facet_col_spacing, error_x, error_x_minus, error_y, error_y_minus, animation_frame, animation_group, category_orders, labels, orientation, color_discrete_sequence, color_discrete_map, color_continuous_scale, range_color, color_continuous_midpoint, symbol_sequence, symbol_map, opacity, size_max, marginal_x, marginal_y, trendline, trendline_options, trendline_color_override, trendline_scope, log_x, log_y, range_x, range_y, render_mode, title, subtitle, template, width, height)\u001b[39m\n\u001b[32m     14\u001b[39m \u001b[38;5;28;01mdef\u001b[39;00m\u001b[38;5;250m \u001b[39m\u001b[34mscatter\u001b[39m(\n\u001b[32m     15\u001b[39m     data_frame=\u001b[38;5;28;01mNone\u001b[39;00m,\n\u001b[32m     16\u001b[39m     x=\u001b[38;5;28;01mNone\u001b[39;00m,\n\u001b[32m   (...)\u001b[39m\u001b[32m     63\u001b[39m     height=\u001b[38;5;28;01mNone\u001b[39;00m,\n\u001b[32m     64\u001b[39m ) -> go.Figure:\n\u001b[32m     65\u001b[39m \u001b[38;5;250m    \u001b[39m\u001b[33;03m\"\"\"\u001b[39;00m\n\u001b[32m     66\u001b[39m \u001b[33;03m    In a scatter plot, each row of `data_frame` is represented by a symbol\u001b[39;00m\n\u001b[32m     67\u001b[39m \u001b[33;03m    mark in 2D space.\u001b[39;00m\n\u001b[32m     68\u001b[39m \u001b[33;03m    \"\"\"\u001b[39;00m\n\u001b[32m---> \u001b[39m\u001b[32m69\u001b[39m     \u001b[38;5;28;01mreturn\u001b[39;00m \u001b[43mmake_figure\u001b[49m\u001b[43m(\u001b[49m\u001b[43margs\u001b[49m\u001b[43m=\u001b[49m\u001b[38;5;28;43mlocals\u001b[39;49m\u001b[43m(\u001b[49m\u001b[43m)\u001b[49m\u001b[43m,\u001b[49m\u001b[43m \u001b[49m\u001b[43mconstructor\u001b[49m\u001b[43m=\u001b[49m\u001b[43mgo\u001b[49m\u001b[43m.\u001b[49m\u001b[43mScatter\u001b[49m\u001b[43m)\u001b[49m\n",
      "\u001b[36mFile \u001b[39m\u001b[32m~\\anaconda3\\envs\\gdal_env\\Lib\\site-packages\\plotly\\express\\_core.py:2483\u001b[39m, in \u001b[36mmake_figure\u001b[39m\u001b[34m(args, constructor, trace_patch, layout_patch)\u001b[39m\n\u001b[32m   2480\u001b[39m layout_patch = layout_patch \u001b[38;5;129;01mor\u001b[39;00m {}\n\u001b[32m   2481\u001b[39m apply_default_cascade(args)\n\u001b[32m-> \u001b[39m\u001b[32m2483\u001b[39m args = \u001b[43mbuild_dataframe\u001b[49m\u001b[43m(\u001b[49m\u001b[43margs\u001b[49m\u001b[43m,\u001b[49m\u001b[43m \u001b[49m\u001b[43mconstructor\u001b[49m\u001b[43m)\u001b[49m\n\u001b[32m   2484\u001b[39m \u001b[38;5;28;01mif\u001b[39;00m constructor \u001b[38;5;129;01min\u001b[39;00m [go.Treemap, go.Sunburst, go.Icicle] \u001b[38;5;129;01mand\u001b[39;00m args[\u001b[33m\"\u001b[39m\u001b[33mpath\u001b[39m\u001b[33m\"\u001b[39m] \u001b[38;5;129;01mis\u001b[39;00m \u001b[38;5;129;01mnot\u001b[39;00m \u001b[38;5;28;01mNone\u001b[39;00m:\n\u001b[32m   2485\u001b[39m     args = process_dataframe_hierarchy(args)\n",
      "\u001b[36mFile \u001b[39m\u001b[32m~\\anaconda3\\envs\\gdal_env\\Lib\\site-packages\\plotly\\express\\_core.py:1729\u001b[39m, in \u001b[36mbuild_dataframe\u001b[39m\u001b[34m(args, constructor)\u001b[39m\n\u001b[32m   1726\u001b[39m     args[\u001b[33m\"\u001b[39m\u001b[33mcolor\u001b[39m\u001b[33m\"\u001b[39m] = \u001b[38;5;28;01mNone\u001b[39;00m\n\u001b[32m   1727\u001b[39m \u001b[38;5;66;03m# now that things have been prepped, we do the systematic rewriting of `args`\u001b[39;00m\n\u001b[32m-> \u001b[39m\u001b[32m1729\u001b[39m df_output, wide_id_vars = \u001b[43mprocess_args_into_dataframe\u001b[49m\u001b[43m(\u001b[49m\n\u001b[32m   1730\u001b[39m \u001b[43m    \u001b[49m\u001b[43margs\u001b[49m\u001b[43m,\u001b[49m\n\u001b[32m   1731\u001b[39m \u001b[43m    \u001b[49m\u001b[43mwide_mode\u001b[49m\u001b[43m,\u001b[49m\n\u001b[32m   1732\u001b[39m \u001b[43m    \u001b[49m\u001b[43mvar_name\u001b[49m\u001b[43m,\u001b[49m\n\u001b[32m   1733\u001b[39m \u001b[43m    \u001b[49m\u001b[43mvalue_name\u001b[49m\u001b[43m,\u001b[49m\n\u001b[32m   1734\u001b[39m \u001b[43m    \u001b[49m\u001b[43mis_pd_like\u001b[49m\u001b[43m,\u001b[49m\n\u001b[32m   1735\u001b[39m \u001b[43m    \u001b[49m\u001b[43mnative_namespace\u001b[49m\u001b[43m,\u001b[49m\n\u001b[32m   1736\u001b[39m \u001b[43m\u001b[49m\u001b[43m)\u001b[49m\n\u001b[32m   1737\u001b[39m df_output: nw.DataFrame\n\u001b[32m   1738\u001b[39m \u001b[38;5;66;03m# now that `df_output` exists and `args` contains only references, we complete\u001b[39;00m\n\u001b[32m   1739\u001b[39m \u001b[38;5;66;03m# the special-case and wide-mode handling by further rewriting args and/or mutating\u001b[39;00m\n\u001b[32m   1740\u001b[39m \u001b[38;5;66;03m# df_output\u001b[39;00m\n",
      "\u001b[36mFile \u001b[39m\u001b[32m~\\anaconda3\\envs\\gdal_env\\Lib\\site-packages\\plotly\\express\\_core.py:1213\u001b[39m, in \u001b[36mprocess_args_into_dataframe\u001b[39m\u001b[34m(args, wide_mode, var_name, value_name, is_pd_like, native_namespace)\u001b[39m\n\u001b[32m   1211\u001b[39m ranges = []\n\u001b[32m   1212\u001b[39m wide_id_vars = \u001b[38;5;28mset\u001b[39m()\n\u001b[32m-> \u001b[39m\u001b[32m1213\u001b[39m reserved_names = \u001b[43m_get_reserved_col_names\u001b[49m\u001b[43m(\u001b[49m\u001b[43margs\u001b[49m\u001b[43m)\u001b[49m \u001b[38;5;28;01mif\u001b[39;00m df_provided \u001b[38;5;28;01melse\u001b[39;00m \u001b[38;5;28mset\u001b[39m()\n\u001b[32m   1215\u001b[39m \u001b[38;5;66;03m# Case of functions with a \"dimensions\" kw: scatter_matrix, parcats, parcoords\u001b[39;00m\n\u001b[32m   1216\u001b[39m \u001b[38;5;28;01mif\u001b[39;00m \u001b[33m\"\u001b[39m\u001b[33mdimensions\u001b[39m\u001b[33m\"\u001b[39m \u001b[38;5;129;01min\u001b[39;00m args \u001b[38;5;129;01mand\u001b[39;00m args[\u001b[33m\"\u001b[39m\u001b[33mdimensions\u001b[39m\u001b[33m\"\u001b[39m] \u001b[38;5;129;01mis\u001b[39;00m \u001b[38;5;28;01mNone\u001b[39;00m:\n",
      "\u001b[36mFile \u001b[39m\u001b[32m~\\anaconda3\\envs\\gdal_env\\Lib\\site-packages\\plotly\\express\\_core.py:1115\u001b[39m, in \u001b[36m_get_reserved_col_names\u001b[39m\u001b[34m(args)\u001b[39m\n\u001b[32m   1113\u001b[39m arg_name = arg_series.name\n\u001b[32m   1114\u001b[39m \u001b[38;5;28;01mif\u001b[39;00m arg_name \u001b[38;5;129;01mand\u001b[39;00m arg_name \u001b[38;5;129;01min\u001b[39;00m df.columns:\n\u001b[32m-> \u001b[39m\u001b[32m1115\u001b[39m     in_df = (\u001b[43marg_series\u001b[49m\u001b[43m \u001b[49m\u001b[43m==\u001b[49m\u001b[43m \u001b[49m\u001b[43mdf\u001b[49m\u001b[43m.\u001b[49m\u001b[43mget_column\u001b[49m\u001b[43m(\u001b[49m\u001b[43marg_name\u001b[49m\u001b[43m)\u001b[49m).all()\n\u001b[32m   1116\u001b[39m     \u001b[38;5;28;01mif\u001b[39;00m in_df:\n\u001b[32m   1117\u001b[39m         reserved_names.add(arg_name)\n",
      "\u001b[36mFile \u001b[39m\u001b[32m~\\anaconda3\\envs\\gdal_env\\Lib\\site-packages\\narwhals\\series.py:1563\u001b[39m, in \u001b[36mSeries.__eq__\u001b[39m\u001b[34m(self, other)\u001b[39m\n\u001b[32m   1561\u001b[39m \u001b[38;5;28;01mdef\u001b[39;00m\u001b[38;5;250m \u001b[39m\u001b[34m__eq__\u001b[39m(\u001b[38;5;28mself\u001b[39m, other: \u001b[38;5;28mobject\u001b[39m) -> Self:  \u001b[38;5;66;03m# type: ignore[override]\u001b[39;00m\n\u001b[32m   1562\u001b[39m     \u001b[38;5;28;01mreturn\u001b[39;00m \u001b[38;5;28mself\u001b[39m._with_compliant(\n\u001b[32m-> \u001b[39m\u001b[32m1563\u001b[39m         \u001b[38;5;28;43mself\u001b[39;49m\u001b[43m.\u001b[49m\u001b[43m_compliant_series\u001b[49m\u001b[43m.\u001b[49m\u001b[34;43m__eq__\u001b[39;49m\u001b[43m(\u001b[49m\u001b[38;5;28;43mself\u001b[39;49m\u001b[43m.\u001b[49m\u001b[43m_extract_native\u001b[49m\u001b[43m(\u001b[49m\u001b[43mother\u001b[49m\u001b[43m)\u001b[49m\u001b[43m)\u001b[49m\n\u001b[32m   1564\u001b[39m     )\n",
      "\u001b[36mFile \u001b[39m\u001b[32m~\\anaconda3\\envs\\gdal_env\\Lib\\site-packages\\narwhals\\_pandas_like\\series.py:388\u001b[39m, in \u001b[36mPandasLikeSeries.__eq__\u001b[39m\u001b[34m(self, other)\u001b[39m\n\u001b[32m    387\u001b[39m \u001b[38;5;28;01mdef\u001b[39;00m\u001b[38;5;250m \u001b[39m\u001b[34m__eq__\u001b[39m(\u001b[38;5;28mself\u001b[39m, other: \u001b[38;5;28mobject\u001b[39m) -> PandasLikeSeries:  \u001b[38;5;66;03m# type: ignore[override]\u001b[39;00m\n\u001b[32m--> \u001b[39m\u001b[32m388\u001b[39m     ser, other = \u001b[43malign_and_extract_native\u001b[49m\u001b[43m(\u001b[49m\u001b[38;5;28;43mself\u001b[39;49m\u001b[43m,\u001b[49m\u001b[43m \u001b[49m\u001b[43mother\u001b[49m\u001b[43m)\u001b[49m\n\u001b[32m    389\u001b[39m     \u001b[38;5;28;01mreturn\u001b[39;00m \u001b[38;5;28mself\u001b[39m._with_native(ser == other).alias(\u001b[38;5;28mself\u001b[39m.name)\n",
      "\u001b[36mFile \u001b[39m\u001b[32m~\\anaconda3\\envs\\gdal_env\\Lib\\site-packages\\narwhals\\_pandas_like\\utils.py:113\u001b[39m, in \u001b[36malign_and_extract_native\u001b[39m\u001b[34m(lhs, rhs)\u001b[39m\n\u001b[32m    109\u001b[39m         \u001b[38;5;28;01mreturn\u001b[39;00m (lhs.native, rhs.native.iloc[\u001b[32m0\u001b[39m])\n\u001b[32m    110\u001b[39m     \u001b[38;5;28;01mif\u001b[39;00m rhs.native.index \u001b[38;5;129;01mis\u001b[39;00m \u001b[38;5;129;01mnot\u001b[39;00m lhs_index:\n\u001b[32m    111\u001b[39m         \u001b[38;5;28;01mreturn\u001b[39;00m (\n\u001b[32m    112\u001b[39m             lhs.native,\n\u001b[32m--> \u001b[39m\u001b[32m113\u001b[39m             \u001b[43mset_index\u001b[49m\u001b[43m(\u001b[49m\n\u001b[32m    114\u001b[39m \u001b[43m                \u001b[49m\u001b[43mrhs\u001b[49m\u001b[43m.\u001b[49m\u001b[43mnative\u001b[49m\u001b[43m,\u001b[49m\n\u001b[32m    115\u001b[39m \u001b[43m                \u001b[49m\u001b[43mlhs_index\u001b[49m\u001b[43m,\u001b[49m\n\u001b[32m    116\u001b[39m \u001b[43m                \u001b[49m\u001b[43mimplementation\u001b[49m\u001b[43m=\u001b[49m\u001b[43mrhs\u001b[49m\u001b[43m.\u001b[49m\u001b[43m_implementation\u001b[49m\u001b[43m,\u001b[49m\n\u001b[32m    117\u001b[39m \u001b[43m                \u001b[49m\u001b[43mbackend_version\u001b[49m\u001b[43m=\u001b[49m\u001b[43mrhs\u001b[49m\u001b[43m.\u001b[49m\u001b[43m_backend_version\u001b[49m\u001b[43m,\u001b[49m\n\u001b[32m    118\u001b[39m \u001b[43m            \u001b[49m\u001b[43m)\u001b[49m,\n\u001b[32m    119\u001b[39m         )\n\u001b[32m    120\u001b[39m     \u001b[38;5;28;01mreturn\u001b[39;00m (lhs.native, rhs.native)\n\u001b[32m    122\u001b[39m \u001b[38;5;28;01mif\u001b[39;00m \u001b[38;5;28misinstance\u001b[39m(rhs, \u001b[38;5;28mlist\u001b[39m):\n",
      "\u001b[36mFile \u001b[39m\u001b[32m~\\anaconda3\\envs\\gdal_env\\Lib\\site-packages\\narwhals\\_pandas_like\\utils.py:144\u001b[39m, in \u001b[36mset_index\u001b[39m\u001b[34m(obj, index, implementation, backend_version)\u001b[39m\n\u001b[32m    140\u001b[39m \u001b[38;5;28;01mif\u001b[39;00m \u001b[38;5;28misinstance\u001b[39m(index, implementation.to_native_namespace().Index) \u001b[38;5;129;01mand\u001b[39;00m (\n\u001b[32m    141\u001b[39m     expected_len := \u001b[38;5;28mlen\u001b[39m(index)\n\u001b[32m    142\u001b[39m ) != (actual_len := \u001b[38;5;28mlen\u001b[39m(obj)):\n\u001b[32m    143\u001b[39m     msg = \u001b[33mf\u001b[39m\u001b[33m\"\u001b[39m\u001b[33mExpected object of length \u001b[39m\u001b[38;5;132;01m{\u001b[39;00mexpected_len\u001b[38;5;132;01m}\u001b[39;00m\u001b[33m, got length: \u001b[39m\u001b[38;5;132;01m{\u001b[39;00mactual_len\u001b[38;5;132;01m}\u001b[39;00m\u001b[33m\"\u001b[39m\n\u001b[32m--> \u001b[39m\u001b[32m144\u001b[39m     \u001b[38;5;28;01mraise\u001b[39;00m ShapeError(msg)\n\u001b[32m    145\u001b[39m \u001b[38;5;28;01mif\u001b[39;00m implementation \u001b[38;5;129;01mis\u001b[39;00m Implementation.CUDF:  \u001b[38;5;66;03m# pragma: no cover\u001b[39;00m\n\u001b[32m    146\u001b[39m     obj = obj.copy(deep=\u001b[38;5;28;01mFalse\u001b[39;00m)  \u001b[38;5;66;03m# type: ignore[attr-defined]\u001b[39;00m\n",
      "\u001b[31mShapeError\u001b[39m: Expected object of length 40, got length: 161"
     ]
    }
   ],
   "source": [
    "### Plotting measured vs predicted graph\n",
    "fig_pred_SVR = px.line(x=axis_range, y=axis_range, range_x=axis_range, range_y=axis_range, \n",
    "                   log_x=True, log_y=True, width=950, height=950)\n",
    "fig_pred_SVR.update_traces(line_color='black', line_width=1.5)\n",
    "fig_pred_SVR.add_trace(go.Scatter(x=df_SVR_cv_predicted.loc[:,target_parameter],\n",
    "                              y=df_SVR_cv_predicted.loc[:,'{}_trainCV_{}'.format(SVR_method, target_parameter)],\n",
    "                              mode='markers',\n",
    "                              error_x = dict(\n",
    "                                  type='data',\n",
    "                                  array=df_SVR_cv_predicted.loc[:,'AgeErrorReCalc1STD'].values,\n",
    "                                  visible=True),\n",
    "                              hovertext=df_SVR_cv_predicted[['ConeName', 'Age', '{}_trainCV_{}'.format(SVR_method, target_parameter)]],\n",
    "                              hovertemplate=\n",
    "                              'ConeName: %{text}' +\n",
    "                              '<br>ConeAge: %{x:.2f} ky'+\n",
    "                              '<br>ConePredAge: %{y:.2f} ky',\n",
    "                              text=df_SVR_cv_predicted['ConeName'],\n",
    "                              marker=dict(color='#5799c6', size=2, line=dict(color='#74797C')),\n",
    "                              name='Training',\n",
    "                              showlegend=False))\n",
    "fig_pred_SVR.add_trace(go.Scatter(x=df_SVR_val_predicted.loc[:,target_parameter],\n",
    "                              y=df_SVR_val_predicted.loc[:,'{}_val_{}'.format(SVR_method, target_parameter)],\n",
    "                              mode='markers',\n",
    "                              error_x = dict(\n",
    "                                  type='data',\n",
    "                                  array=df_SVR_val_predicted.loc[:,'AgeErrorReCalc1STD'].values,\n",
    "                                  visible=True),\n",
    "                              hovertext=df_SVR_val_predicted[['ConeName', 'Age', '{}_val_{}'.format(SVR_method, target_parameter)]],\n",
    "                              hovertemplate=\n",
    "                              'ConeName: %{text}' +\n",
    "                              '<br>ConeAge: %{x:.2f} ky'+\n",
    "                              '<br>ConePredAge: %{y:.2f} ky',\n",
    "                              text=df_SVR_val_predicted['ConeName'],\n",
    "                              marker=dict(color='#ffa500', size=2, line=dict(color='#74797C')),\n",
    "                              name='Validation',\n",
    "                              showlegend=False))\n",
    "fig_pred_SVR.update_traces(marker=dict(size=8,line=dict(width=0.5)))\n",
    "fig_pred_SVR.update_layout(xaxis = dict(title='Measured {} ({})'.format(target_parameter, units),\n",
    "                                    tickfont = dict(size=font_size), showline=True, linewidth=2, linecolor='black', mirror=True),\n",
    "                       yaxis = dict(title='Predicted {} ({})'.format(target_parameter, units),\n",
    "                                    tickfont = dict(size=font_size), showline=True, linewidth=2, linecolor='black', mirror=True),\n",
    "                       font=dict(size=font_size, family=font_type),\n",
    "                       margin_r=0, margin_t=0, margin_l=0, margin_b=0,\n",
    "                       legend_itemsizing='constant',\n",
    "                       legend=dict(yanchor='middle',\n",
    "                                   y=0.96, x=0.01),\n",
    "                       coloraxis_colorbar=dict(thicknessmode='pixels', \n",
    "                                               thickness=50,\n",
    "                                               lenmode='pixels',\n",
    "                                               len=150,\n",
    "                                               yanchor='middle',\n",
    "                                               y=0.2, x=0.8))\n",
    "fig_pred_SVR.write_image(r'{}_{}_{}_Predition.svg'.format(inputName, predictor_parameter_text, SVR_method), format='svg', width=950, height=950, scale=1)\n",
    "fig_pred_SVR.show()\n",
    "\n",
    "### Plotting the distrubiton of predictions \n",
    "hist_pred_SVR = go.Figure()\n",
    "hist_pred_SVR.add_trace(go.Histogram(x=np.log(df_SVR_cv_predicted.loc[:,'{}_trainCV_{}'.format(SVR_method, target_parameter)]),\n",
    "                                             xbins=dict(start=np.log(axis_range[0]),end=np.log(axis_range[1]),size=0.2), opacity=0.75, name='Pred Training'))\n",
    "hist_pred_SVR.add_trace(go.Histogram(x=np.log(df_SVR_val_predicted.loc[:,'{}_val_{}'.format(SVR_method, target_parameter)]),\n",
    "                                             xbins=dict(start=np.log(axis_range[0]),end=np.log(axis_range[1]),size=0.2), opacity=0.75, name='Pred Validation'))\n",
    "hist_pred_SVR.update_layout(barmode='overlay', showlegend=False, yaxis_range=hist_axis_rangeY, xaxis_range=np.log(axis_range), xaxis_showticklabels=False,\n",
    "                                    margin_r=0, margin_t=0, margin_l=0, margin_b=0, width=950, \n",
    "                                    xaxis = dict(tickfont = dict(size=font_size), showline=True, linewidth=2, linecolor='black', mirror=True),\n",
    "                                    yaxis = dict(title='Nr. of cones', tickfont = dict(size=font_size), showline=True, linewidth=2, linecolor='black', mirror=True),\n",
    "                                    legend=dict(yanchor='top', y=0.99, xanchor='right', x=0.99),\n",
    "                                    font=dict(size=font_size, family=font_type))\n",
    "hist_pred_SVR.write_image(r'{}_TrainValidationSplit_{}_{}.svg'.format(inputName, predictor_parameter_text, SVR_method), format='svg', width=950, height=200, scale=1)\n",
    "hist_pred_SVR.show()\n",
    "\n",
    "fig_residual_SVR = px.scatter(\n",
    "    df_SVR_cv_predicted,\n",
    "    x=np.log(df_SVR_val_predicted[target_parameter]),\n",
    "    y=np.log(df_SVR_val_predicted.loc[:,'{}_val_{}'.format(SVR_method, target_parameter)])-np.log(df_SVR_val_predicted[target_parameter]),\n",
    "    width=1020, height=400)\n",
    "fig_residual_SVR.add_hline(y=0, line_width=3, line_dash='dash', line_color='black')\n",
    "fig_residual_SVR.update_layout(xaxis = dict(title='Log(absolute age)'.format(),\n",
    "                                    tickfont = dict(size=font_size), showline=True, linewidth=2, linecolor='black', mirror=True),\n",
    "                           yaxis = dict(title='Residuals'.format(),\n",
    "                                    tickfont = dict(size=font_size), showline=True, linewidth=2, linecolor='black', mirror=True),\n",
    "                           font=dict(size=font_size, family=font_type),\n",
    "                           xaxis_range=[np.log(axis_range[0]),np.log(axis_range[1])],\n",
    "                           yaxis_range=[-6.5,6.5]\n",
    "                          )\n",
    "fig_residual_SVR.write_image(r'{}_{}_{}_Predition_Residuals.svg'.format(inputName, predictor_parameter_text, SVR_method), format='svg', width=950, height=200, scale=1)\n",
    "fig_residual_SVR.show()"
   ]
  },
  {
   "cell_type": "code",
   "execution_count": 25,
   "metadata": {},
   "outputs": [
    {
     "data": {
      "application/vnd.plotly.v1+json": {
       "config": {
        "plotlyServerURL": "https://plot.ly"
       },
       "data": [
        {
         "name": "Training",
         "opacity": 0.75,
         "type": "histogram",
         "x": {
          "bdata": "poUzHunGHUA6Ivpx4s0HQDnixuoF6QtAXqWDR3ojCkDb/ND5h7gfQDhAIwJA8hZA7WNDE6CHB0AkrPU5bfAEQLKvhh4Y3BRATLhARSmYGUAsJMDCln//P61ODs7GbgxAB8EjnCzsFUD4FoPuJ3rrPwUq1Z9E4B9AOUfUQLKvF0Cp0ImUiPziP8Tx2Polz+I/hpFrOnsfB0Ck4Wu6JQz4P4uNpSWtAxNA1VvhOen+F0AiotMupWkCQKvrQWdONBpAmMbzAT3xA0Bazw1pmeEWQD+3BuyC2/U/snqlnT2TGkCsrre+zDIeQHaHAmIIuBlAFEwbLd+0D8Dxt1JTIz4WQMSkJd8B6gdAyoHdxgs9GkBNJyreKLz5Pyd6ACffvx9AGVg5V1XO879djyyZ3m8YQJHjc3tC9xdA3r3SwJkL6D8n3qPZFqAeQMAON73CEhdA7BNZZfaJEkCHesR4+JwUQKB2WYpZhv0/z2Ko8YeBBcD2DbmB/DUMQHaHAmIIuBlAQpNgR2x3BEBpDvhUbacXQH7Ca/ePyiFATG6TXpZpAEB4g3dFCjwCQG80S0Zs3tw/cdr8EEdfGkBr2n8dN9AIQILHV136TBRAc6s7P7KiEEAZrXZqeZbwP8vJ9/ehYwXA/49P3UItAUCIrlUttv/xP3vvqFvSHvG/DXAifOBNGkDgyOsRbRcZQNVb4Tnp/hdAVmGQh0umHED/j0/dQi0BQPG3UlMjPhZAhjG3HtdQF0DevdLAmQvoP8HLojxghhhAX0u8QLzCF0ALkhds71zxPzy61oXRihhA8jx0I7kLIEAZrXZqeZbwPyEE3eDz/BRAj0jkLB/O7D+bOineGWgfQH2plTdbPRlAIbNuVqaeIUC3JmOqp3sZQCrWVAyAwyFAa1gHUWOXE0AmN0Bw10cgQPULxr64BSFAFCvJ1l7/+D/DSPOeIbwVQJw1fLwJzwjAhxp/Ca8i5L+UNHTQXlfrP7i7As9zBxpAay7739LJFkAXe+84gXUZQB9ITTkWqgVAnLyh1mllF0AIzOOL1zXzv4y679peixdAD8CoQRFe9L+ayATbYEchQK4gp9FU7/C/4YmuMu6m9T9eiEbpPcQTQAKeF9UbA70/nLyh1mllF0AxRpq5Ss0SQO85+v5CLvY/1kRT5t5e878GFuPjTLATQJuUhSh/fPg/IUFniXX+EEAuXeZal8Phv+OBEihwYxVAQ1T8NgVGDkDNQ1gZ5fgVQImjzEl/VcI/m/gg0EoDAkD33x7lMzziP5ZvSuIcvQVAurJP0rHfF0DqGzjZox4bQHfLhUEF5wpAiAfSVM+nAEAfSE05FqoFQMAON73CEhdAnH1c+aAzGUAd8YrbfDPsP9b3/dgyTfA/57F8ePR6GkB9Wz88tFQVQPM9Ag0O9wdAVCQfGj1cHECccgo3EoUBQLoHXoWW3h1Ap3t3HhdsIUCdgNV6D64TQK/ttrogaSJAW0e/CvqwEkBfS7xAvMIXQBwmfwuoS/M/NDzWhs3qGECm3IjNTSQgQHOxr4lQehFAr+K3rgS8AkC9QLjga7PwP1y+VCUqiARA9beFufbaFUAv/zGz6wMZQLbH8PY/lxtAECwxG87/EUBx2vwQR18aQHaxHpJV3RdAQ9OB8GA3779Fr+CGkbwYQAfBI5ws7BVA2f9R3rx2GUC4joQLt6v+Pworg10J8BhAwPwvwUE2GUCSa/55BSIfQA==",
          "dtype": "f8"
         },
         "xbins": {
          "end": 9.615805480084347,
          "size": 0.2,
          "start": -4.605170185988091
         }
        },
        {
         "name": "Validation",
         "opacity": 0.75,
         "type": "histogram",
         "x": {
          "bdata": "nM8lSQaKFkAbMazKu4T/Pzm/Sw/z2Ps/TnMQe5bFFECdgNV6D64TQAsDrXrqk/E/+xGKRDa8DEBNgpQQpo/8Py2PYEAcnB1AR4mnShcxG0Cs1Fh521gYQBuK5UCvdfI/8bdSUyM+FkCIrlUttv/xP593sEUOM/M/e23yBYRV+z9nZJXGi6oBQC/PjR180OY/44ESKHBjFUBiuLA5wtsYQCU88LWXNLG/4pCX4O8XIUBaQER48OYgQPEVwSGZQx9Avcc67ijjDEDWOeayiK8gQBbCqnDPpx5AAK78N5eJIECJWL1cnc4bQCsdFhlnYRJAnM8lSQaKFkDPz+gJuEcfQNFHEDUewRJAc2eQNGaVFUBUOLk+SxEYQLsXIAgXdABA5Kt5pkOx9j+81G8+RZWEvxWP7IQpcdY//aoj/A/9CMA=",
          "dtype": "f8"
         },
         "xbins": {
          "end": 9.615805480084347,
          "size": 0.2,
          "start": -4.605170185988091
         }
        }
       ],
       "layout": {
        "barmode": "overlay",
        "font": {
         "family": "DejaVu Sans",
         "size": 20
        },
        "legend": {
         "x": 0.99,
         "xanchor": "right",
         "y": 0.99,
         "yanchor": "top"
        },
        "margin": {
         "b": 0,
         "l": 0,
         "r": 0,
         "t": 0
        },
        "showlegend": false,
        "template": {
         "data": {
          "bar": [
           {
            "error_x": {
             "color": "rgb(36,36,36)"
            },
            "error_y": {
             "color": "rgb(36,36,36)"
            },
            "marker": {
             "line": {
              "color": "white",
              "width": 0.5
             },
             "pattern": {
              "fillmode": "overlay",
              "size": 10,
              "solidity": 0.2
             }
            },
            "type": "bar"
           }
          ],
          "barpolar": [
           {
            "marker": {
             "line": {
              "color": "white",
              "width": 0.5
             },
             "pattern": {
              "fillmode": "overlay",
              "size": 10,
              "solidity": 0.2
             }
            },
            "type": "barpolar"
           }
          ],
          "carpet": [
           {
            "aaxis": {
             "endlinecolor": "rgb(36,36,36)",
             "gridcolor": "white",
             "linecolor": "white",
             "minorgridcolor": "white",
             "startlinecolor": "rgb(36,36,36)"
            },
            "baxis": {
             "endlinecolor": "rgb(36,36,36)",
             "gridcolor": "white",
             "linecolor": "white",
             "minorgridcolor": "white",
             "startlinecolor": "rgb(36,36,36)"
            },
            "type": "carpet"
           }
          ],
          "choropleth": [
           {
            "colorbar": {
             "outlinewidth": 1,
             "tickcolor": "rgb(36,36,36)",
             "ticks": "outside"
            },
            "type": "choropleth"
           }
          ],
          "contour": [
           {
            "colorbar": {
             "outlinewidth": 1,
             "tickcolor": "rgb(36,36,36)",
             "ticks": "outside"
            },
            "colorscale": [
             [
              0,
              "#440154"
             ],
             [
              0.1111111111111111,
              "#482878"
             ],
             [
              0.2222222222222222,
              "#3e4989"
             ],
             [
              0.3333333333333333,
              "#31688e"
             ],
             [
              0.4444444444444444,
              "#26828e"
             ],
             [
              0.5555555555555556,
              "#1f9e89"
             ],
             [
              0.6666666666666666,
              "#35b779"
             ],
             [
              0.7777777777777778,
              "#6ece58"
             ],
             [
              0.8888888888888888,
              "#b5de2b"
             ],
             [
              1,
              "#fde725"
             ]
            ],
            "type": "contour"
           }
          ],
          "contourcarpet": [
           {
            "colorbar": {
             "outlinewidth": 1,
             "tickcolor": "rgb(36,36,36)",
             "ticks": "outside"
            },
            "type": "contourcarpet"
           }
          ],
          "heatmap": [
           {
            "colorbar": {
             "outlinewidth": 1,
             "tickcolor": "rgb(36,36,36)",
             "ticks": "outside"
            },
            "colorscale": [
             [
              0,
              "#440154"
             ],
             [
              0.1111111111111111,
              "#482878"
             ],
             [
              0.2222222222222222,
              "#3e4989"
             ],
             [
              0.3333333333333333,
              "#31688e"
             ],
             [
              0.4444444444444444,
              "#26828e"
             ],
             [
              0.5555555555555556,
              "#1f9e89"
             ],
             [
              0.6666666666666666,
              "#35b779"
             ],
             [
              0.7777777777777778,
              "#6ece58"
             ],
             [
              0.8888888888888888,
              "#b5de2b"
             ],
             [
              1,
              "#fde725"
             ]
            ],
            "type": "heatmap"
           }
          ],
          "histogram": [
           {
            "marker": {
             "line": {
              "color": "white",
              "width": 0.6
             }
            },
            "type": "histogram"
           }
          ],
          "histogram2d": [
           {
            "colorbar": {
             "outlinewidth": 1,
             "tickcolor": "rgb(36,36,36)",
             "ticks": "outside"
            },
            "colorscale": [
             [
              0,
              "#440154"
             ],
             [
              0.1111111111111111,
              "#482878"
             ],
             [
              0.2222222222222222,
              "#3e4989"
             ],
             [
              0.3333333333333333,
              "#31688e"
             ],
             [
              0.4444444444444444,
              "#26828e"
             ],
             [
              0.5555555555555556,
              "#1f9e89"
             ],
             [
              0.6666666666666666,
              "#35b779"
             ],
             [
              0.7777777777777778,
              "#6ece58"
             ],
             [
              0.8888888888888888,
              "#b5de2b"
             ],
             [
              1,
              "#fde725"
             ]
            ],
            "type": "histogram2d"
           }
          ],
          "histogram2dcontour": [
           {
            "colorbar": {
             "outlinewidth": 1,
             "tickcolor": "rgb(36,36,36)",
             "ticks": "outside"
            },
            "colorscale": [
             [
              0,
              "#440154"
             ],
             [
              0.1111111111111111,
              "#482878"
             ],
             [
              0.2222222222222222,
              "#3e4989"
             ],
             [
              0.3333333333333333,
              "#31688e"
             ],
             [
              0.4444444444444444,
              "#26828e"
             ],
             [
              0.5555555555555556,
              "#1f9e89"
             ],
             [
              0.6666666666666666,
              "#35b779"
             ],
             [
              0.7777777777777778,
              "#6ece58"
             ],
             [
              0.8888888888888888,
              "#b5de2b"
             ],
             [
              1,
              "#fde725"
             ]
            ],
            "type": "histogram2dcontour"
           }
          ],
          "mesh3d": [
           {
            "colorbar": {
             "outlinewidth": 1,
             "tickcolor": "rgb(36,36,36)",
             "ticks": "outside"
            },
            "type": "mesh3d"
           }
          ],
          "parcoords": [
           {
            "line": {
             "colorbar": {
              "outlinewidth": 1,
              "tickcolor": "rgb(36,36,36)",
              "ticks": "outside"
             }
            },
            "type": "parcoords"
           }
          ],
          "pie": [
           {
            "automargin": true,
            "type": "pie"
           }
          ],
          "scatter": [
           {
            "fillpattern": {
             "fillmode": "overlay",
             "size": 10,
             "solidity": 0.2
            },
            "type": "scatter"
           }
          ],
          "scatter3d": [
           {
            "line": {
             "colorbar": {
              "outlinewidth": 1,
              "tickcolor": "rgb(36,36,36)",
              "ticks": "outside"
             }
            },
            "marker": {
             "colorbar": {
              "outlinewidth": 1,
              "tickcolor": "rgb(36,36,36)",
              "ticks": "outside"
             }
            },
            "type": "scatter3d"
           }
          ],
          "scattercarpet": [
           {
            "marker": {
             "colorbar": {
              "outlinewidth": 1,
              "tickcolor": "rgb(36,36,36)",
              "ticks": "outside"
             }
            },
            "type": "scattercarpet"
           }
          ],
          "scattergeo": [
           {
            "marker": {
             "colorbar": {
              "outlinewidth": 1,
              "tickcolor": "rgb(36,36,36)",
              "ticks": "outside"
             }
            },
            "type": "scattergeo"
           }
          ],
          "scattergl": [
           {
            "marker": {
             "colorbar": {
              "outlinewidth": 1,
              "tickcolor": "rgb(36,36,36)",
              "ticks": "outside"
             }
            },
            "type": "scattergl"
           }
          ],
          "scattermap": [
           {
            "marker": {
             "colorbar": {
              "outlinewidth": 1,
              "tickcolor": "rgb(36,36,36)",
              "ticks": "outside"
             }
            },
            "type": "scattermap"
           }
          ],
          "scattermapbox": [
           {
            "marker": {
             "colorbar": {
              "outlinewidth": 1,
              "tickcolor": "rgb(36,36,36)",
              "ticks": "outside"
             }
            },
            "type": "scattermapbox"
           }
          ],
          "scatterpolar": [
           {
            "marker": {
             "colorbar": {
              "outlinewidth": 1,
              "tickcolor": "rgb(36,36,36)",
              "ticks": "outside"
             }
            },
            "type": "scatterpolar"
           }
          ],
          "scatterpolargl": [
           {
            "marker": {
             "colorbar": {
              "outlinewidth": 1,
              "tickcolor": "rgb(36,36,36)",
              "ticks": "outside"
             }
            },
            "type": "scatterpolargl"
           }
          ],
          "scatterternary": [
           {
            "marker": {
             "colorbar": {
              "outlinewidth": 1,
              "tickcolor": "rgb(36,36,36)",
              "ticks": "outside"
             }
            },
            "type": "scatterternary"
           }
          ],
          "surface": [
           {
            "colorbar": {
             "outlinewidth": 1,
             "tickcolor": "rgb(36,36,36)",
             "ticks": "outside"
            },
            "colorscale": [
             [
              0,
              "#440154"
             ],
             [
              0.1111111111111111,
              "#482878"
             ],
             [
              0.2222222222222222,
              "#3e4989"
             ],
             [
              0.3333333333333333,
              "#31688e"
             ],
             [
              0.4444444444444444,
              "#26828e"
             ],
             [
              0.5555555555555556,
              "#1f9e89"
             ],
             [
              0.6666666666666666,
              "#35b779"
             ],
             [
              0.7777777777777778,
              "#6ece58"
             ],
             [
              0.8888888888888888,
              "#b5de2b"
             ],
             [
              1,
              "#fde725"
             ]
            ],
            "type": "surface"
           }
          ],
          "table": [
           {
            "cells": {
             "fill": {
              "color": "rgb(237,237,237)"
             },
             "line": {
              "color": "white"
             }
            },
            "header": {
             "fill": {
              "color": "rgb(217,217,217)"
             },
             "line": {
              "color": "white"
             }
            },
            "type": "table"
           }
          ]
         },
         "layout": {
          "annotationdefaults": {
           "arrowhead": 0,
           "arrowwidth": 1
          },
          "autotypenumbers": "strict",
          "coloraxis": {
           "colorbar": {
            "outlinewidth": 1,
            "tickcolor": "rgb(36,36,36)",
            "ticks": "outside"
           }
          },
          "colorscale": {
           "diverging": [
            [
             0,
             "rgb(103,0,31)"
            ],
            [
             0.1,
             "rgb(178,24,43)"
            ],
            [
             0.2,
             "rgb(214,96,77)"
            ],
            [
             0.3,
             "rgb(244,165,130)"
            ],
            [
             0.4,
             "rgb(253,219,199)"
            ],
            [
             0.5,
             "rgb(247,247,247)"
            ],
            [
             0.6,
             "rgb(209,229,240)"
            ],
            [
             0.7,
             "rgb(146,197,222)"
            ],
            [
             0.8,
             "rgb(67,147,195)"
            ],
            [
             0.9,
             "rgb(33,102,172)"
            ],
            [
             1,
             "rgb(5,48,97)"
            ]
           ],
           "sequential": [
            [
             0,
             "#440154"
            ],
            [
             0.1111111111111111,
             "#482878"
            ],
            [
             0.2222222222222222,
             "#3e4989"
            ],
            [
             0.3333333333333333,
             "#31688e"
            ],
            [
             0.4444444444444444,
             "#26828e"
            ],
            [
             0.5555555555555556,
             "#1f9e89"
            ],
            [
             0.6666666666666666,
             "#35b779"
            ],
            [
             0.7777777777777778,
             "#6ece58"
            ],
            [
             0.8888888888888888,
             "#b5de2b"
            ],
            [
             1,
             "#fde725"
            ]
           ],
           "sequentialminus": [
            [
             0,
             "#440154"
            ],
            [
             0.1111111111111111,
             "#482878"
            ],
            [
             0.2222222222222222,
             "#3e4989"
            ],
            [
             0.3333333333333333,
             "#31688e"
            ],
            [
             0.4444444444444444,
             "#26828e"
            ],
            [
             0.5555555555555556,
             "#1f9e89"
            ],
            [
             0.6666666666666666,
             "#35b779"
            ],
            [
             0.7777777777777778,
             "#6ece58"
            ],
            [
             0.8888888888888888,
             "#b5de2b"
            ],
            [
             1,
             "#fde725"
            ]
           ]
          },
          "colorway": [
           "#1F77B4",
           "#FF7F0E",
           "#2CA02C",
           "#D62728",
           "#9467BD",
           "#8C564B",
           "#E377C2",
           "#7F7F7F",
           "#BCBD22",
           "#17BECF"
          ],
          "font": {
           "color": "rgb(36,36,36)"
          },
          "geo": {
           "bgcolor": "white",
           "lakecolor": "white",
           "landcolor": "white",
           "showlakes": true,
           "showland": true,
           "subunitcolor": "white"
          },
          "hoverlabel": {
           "align": "left"
          },
          "hovermode": "closest",
          "mapbox": {
           "style": "light"
          },
          "paper_bgcolor": "white",
          "plot_bgcolor": "white",
          "polar": {
           "angularaxis": {
            "gridcolor": "rgb(232,232,232)",
            "linecolor": "rgb(36,36,36)",
            "showgrid": false,
            "showline": true,
            "ticks": "outside"
           },
           "bgcolor": "white",
           "radialaxis": {
            "gridcolor": "rgb(232,232,232)",
            "linecolor": "rgb(36,36,36)",
            "showgrid": false,
            "showline": true,
            "ticks": "outside"
           }
          },
          "scene": {
           "xaxis": {
            "backgroundcolor": "white",
            "gridcolor": "rgb(232,232,232)",
            "gridwidth": 2,
            "linecolor": "rgb(36,36,36)",
            "showbackground": true,
            "showgrid": false,
            "showline": true,
            "ticks": "outside",
            "zeroline": false,
            "zerolinecolor": "rgb(36,36,36)"
           },
           "yaxis": {
            "backgroundcolor": "white",
            "gridcolor": "rgb(232,232,232)",
            "gridwidth": 2,
            "linecolor": "rgb(36,36,36)",
            "showbackground": true,
            "showgrid": false,
            "showline": true,
            "ticks": "outside",
            "zeroline": false,
            "zerolinecolor": "rgb(36,36,36)"
           },
           "zaxis": {
            "backgroundcolor": "white",
            "gridcolor": "rgb(232,232,232)",
            "gridwidth": 2,
            "linecolor": "rgb(36,36,36)",
            "showbackground": true,
            "showgrid": false,
            "showline": true,
            "ticks": "outside",
            "zeroline": false,
            "zerolinecolor": "rgb(36,36,36)"
           }
          },
          "shapedefaults": {
           "fillcolor": "black",
           "line": {
            "width": 0
           },
           "opacity": 0.3
          },
          "ternary": {
           "aaxis": {
            "gridcolor": "rgb(232,232,232)",
            "linecolor": "rgb(36,36,36)",
            "showgrid": false,
            "showline": true,
            "ticks": "outside"
           },
           "baxis": {
            "gridcolor": "rgb(232,232,232)",
            "linecolor": "rgb(36,36,36)",
            "showgrid": false,
            "showline": true,
            "ticks": "outside"
           },
           "bgcolor": "white",
           "caxis": {
            "gridcolor": "rgb(232,232,232)",
            "linecolor": "rgb(36,36,36)",
            "showgrid": false,
            "showline": true,
            "ticks": "outside"
           }
          },
          "title": {
           "x": 0.05
          },
          "xaxis": {
           "automargin": true,
           "gridcolor": "rgb(232,232,232)",
           "linecolor": "rgb(36,36,36)",
           "showgrid": false,
           "showline": true,
           "ticks": "outside",
           "title": {
            "standoff": 15
           },
           "zeroline": false,
           "zerolinecolor": "rgb(36,36,36)"
          },
          "yaxis": {
           "automargin": true,
           "gridcolor": "rgb(232,232,232)",
           "linecolor": "rgb(36,36,36)",
           "showgrid": false,
           "showline": true,
           "ticks": "outside",
           "title": {
            "standoff": 15
           },
           "zeroline": false,
           "zerolinecolor": "rgb(36,36,36)"
          }
         }
        },
        "width": 950,
        "xaxis": {
         "linecolor": "black",
         "linewidth": 2,
         "mirror": true,
         "range": [
          -4.605170185988091,
          9.615805480084347
         ],
         "showline": true,
         "showticklabels": false,
         "tickfont": {
          "size": 20
         }
        },
        "yaxis": {
         "linecolor": "black",
         "linewidth": 2,
         "mirror": true,
         "range": [
          0,
          21
         ],
         "showline": true,
         "tickfont": {
          "size": 20
         },
         "title": {
          "text": "Nr. of cones"
         }
        }
       }
      },
      "image/png": "[encoded data removed]"
     },
     "metadata": {},
     "output_type": "display_data"
    }
   ],
   "source": [
    "### Plotting training and validation data as a function of age\n",
    "hist_train_validation = go.Figure()\n",
    "hist_train_validation.add_trace(go.Histogram(x=np.log(df_scaled_train[target_parameter]),\n",
    "                                             xbins=dict(start=np.log(axis_range[0]),end=np.log(axis_range[1]),size=0.2), opacity=0.75, name='Training'))\n",
    "hist_train_validation.add_trace(go.Histogram(x=np.log(df_scaled_val[target_parameter]),\n",
    "                                             xbins=dict(start=np.log(axis_range[0]),end=np.log(axis_range[1]),size=0.2), opacity=0.75, name='Validation'))\n",
    "hist_train_validation.update_layout(barmode='overlay', showlegend=False, yaxis_range=hist_axis_rangeY, xaxis_range=np.log(axis_range), xaxis_showticklabels=False,\n",
    "                                    margin_r=0, margin_t=0, margin_l=0, margin_b=0, width=950, \n",
    "                                    xaxis = dict(tickfont = dict(size=font_size), showline=True, linewidth=2, linecolor='black', mirror=True),\n",
    "                                    yaxis = dict(title='Nr. of cones', tickfont = dict(size=font_size), showline=True, linewidth=2, linecolor='black', mirror=True),\n",
    "                                    legend=dict(yanchor='top', y=0.99, xanchor='right', x=0.99),\n",
    "                                    font=dict(size=font_size, family=font_type))\n",
    "hist_train_validation.write_image(r'{}_TrainValidationSplit_Original.svg'.format(inputName), format='svg', width=925, height=200, scale=1)\n",
    "hist_train_validation.show()"
   ]
  },
  {
   "cell_type": "code",
   "execution_count": null,
   "metadata": {},
   "outputs": [],
   "source": [
    "### Print results from all methods\n",
    "print(PLSR_method, predictor_parameter_text, len(df_scaled_validation_X), PLScomp, np.mean(PLSR_cv_r2), np.mean(- PLSR_cv_MAPE*100), PLSR_val_r2, PLSR_val_MAPE*100, PLSR_val_spearmanR[0], PLSR_val_spearmanR[1], PLSR_excluded_r2, PLSR_excluded_MAPE*100, PLSR_excluded_spearmanR[0], PLSR_excluded_spearmanR[1])\n",
    "print(MLR_method, predictor_parameter_text, len(df_scaled_validation_X), np.mean(MLR_cv_r2), np.mean(- MLR_cv_MAPE*100), MLR_val_r2, MLR_val_MAPE*100, MLR_val_spearmanR[0], MLR_val_spearmanR[1], MLR_excluded_r2, MLR_excluded_MAPE*100, MLR_excluded_spearmanR[0], MLR_excluded_spearmanR[1])\n",
    "print(SVR_method, predictor_parameter_text, len(df_scaled_validation_X), c_value, gamma_value, epsilon_value, np.mean(SVR_cv_r2), np.mean(- SVR_cv_MAPE*100), SVR_val_r2, SVR_val_MAPE*100, SVR_val_spearmanR[0], SVR_val_spearmanR[1], SVR_excluded_r2, SVR_excluded_MAPE*100, SVR_excluded_spearmanR[0], SVR_excluded_spearmanR[1])"
   ]
  }
 ],
 "metadata": {
  "kernelspec": {
   "display_name": "gdal_env",
   "language": "python",
   "name": "gdal_env"
  },
  "language_info": {
   "codemirror_mode": {
    "name": "ipython",
    "version": 3
   },
   "file_extension": ".py",
   "mimetype": "text/x-python",
   "name": "python",
   "nbconvert_exporter": "python",
   "pygments_lexer": "ipython3",
   "version": "3.12.9"
  },
  "toc": {
   "base_numbering": 1,
   "nav_menu": {},
   "number_sections": true,
   "sideBar": true,
   "skip_h1_title": false,
   "title_cell": "Table of Contents",
   "title_sidebar": "Contents",
   "toc_cell": false,
   "toc_position": {},
   "toc_section_display": true,
   "toc_window_display": false
  },
  "varInspector": {
   "cols": {
    "lenName": 16,
    "lenType": 16,
    "lenVar": 40
   },
   "kernels_config": {
    "python": {
     "delete_cmd_postfix": "",
     "delete_cmd_prefix": "del ",
     "library": "var_list.py",
     "varRefreshCmd": "print(var_dic_list())"
    },
    "r": {
     "delete_cmd_postfix": ") ",
     "delete_cmd_prefix": "rm(",
     "library": "var_list.r",
     "varRefreshCmd": "cat(var_dic_list()) "
    }
   },
   "types_to_exclude": [
    "module",
    "function",
    "builtin_function_or_method",
    "instance",
    "_Feature"
   ],
   "window_display": false
  }
 },
 "nbformat": 4,
 "nbformat_minor": 4
}
